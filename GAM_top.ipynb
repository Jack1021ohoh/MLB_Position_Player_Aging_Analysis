{
 "cells": [
  {
   "cell_type": "code",
   "execution_count": 1,
   "metadata": {},
   "outputs": [],
   "source": [
    "import pandas as pd\n",
    "import numpy as np\n",
    "import matplotlib.pyplot as plt\n",
    "import seaborn as sns\n",
    "from sklearn.metrics import mean_absolute_error\n",
    "from pygam import GAM, s, f, te, l"
   ]
  },
  {
   "cell_type": "markdown",
   "metadata": {},
   "source": [
    "### Functions"
   ]
  },
  {
   "cell_type": "code",
   "execution_count": 2,
   "metadata": {},
   "outputs": [],
   "source": [
    "def centralize_data(data, col):\n",
    "    wm = lambda x: np.average(x, weights = data.loc[x.index, 'PA'])\n",
    "    cols = ['IDfg', 'Season', 'Name', 'Age', 'PA', 'experience'] + [col]\n",
    "    df = data.loc[:, cols]\n",
    "\n",
    "    mean_results = df.groupby(['Season']).agg(weighted_mean = (col, wm))\n",
    "    mean_results = mean_results.reset_index()\n",
    "    df = df.merge(mean_results, on = 'Season')\n",
    "    df[col + '_centralized'] = np.subtract(df[col], df['weighted_mean'])\n",
    "\n",
    "    return df"
   ]
  },
  {
   "cell_type": "code",
   "execution_count": 3,
   "metadata": {},
   "outputs": [],
   "source": [
    "def add_career_mean(data, col):\n",
    "    cols = ['IDfg', 'Season', 'Name', 'Age', 'G', 'PA', 'experience'] + [col, col + '_lag']\n",
    "    df = data.loc[:, cols]\n",
    "    wm = lambda x: np.average(x, weights = df.loc[x.index, 'PA'])\n",
    "\n",
    "    mean_result = df.groupby(['IDfg']).agg(weighted_mean = (col, wm))\n",
    "    mean_result = mean_result.reset_index()\n",
    "    mean_result.columns = ['IDfg', col + '_career_mean']\n",
    "    df = df.merge(mean_result, on = 'IDfg', how = 'left')\n",
    "\n",
    "    return df"
   ]
  },
  {
   "cell_type": "code",
   "execution_count": 4,
   "metadata": {},
   "outputs": [],
   "source": [
    "def add_experience(data):\n",
    "    tmp_df = data.groupby(['IDfg'])\n",
    "    data['experience'] = tmp_df['Season'].diff().fillna(0.0)\n",
    "    data['experience'] = data.groupby(['IDfg'])['experience'].cumsum()\n",
    "\n",
    "    return data"
   ]
  },
  {
   "cell_type": "code",
   "execution_count": 5,
   "metadata": {},
   "outputs": [],
   "source": [
    "def add_lag(data, col):\n",
    "    tmp_df = data.groupby(['IDfg'])\n",
    "    data[col + '_lag'] = tmp_df[col].shift(1)\n",
    "    data = data.dropna()\n",
    "\n",
    "    return data"
   ]
  },
  {
   "cell_type": "code",
   "execution_count": 6,
   "metadata": {},
   "outputs": [],
   "source": [
    "def load_data(target, centralized = False):\n",
    "    train_data = pd.read_csv('./data/hitter_train_data.csv')\n",
    "    test_data = pd.read_csv('./data/hitter_test_data.csv')\n",
    "    \n",
    "    train_data = train_data.loc[(train_data['Age'] >= 20).values & (train_data['Age'] <= 40).values, :]\n",
    "    test_data = test_data.loc[(test_data['Age'] >= 20).values & (test_data['Age'] <= 40).values, :]\n",
    "\n",
    "    train_data = train_data.sort_values(by = ['Season', 'Name']).reset_index(drop = True)\n",
    "    test_data = test_data.sort_values(by = ['Season', 'Name']).reset_index(drop = True)\n",
    "\n",
    "    all_data = pd.concat([train_data, test_data])\n",
    "    all_data = all_data.reset_index(drop = True)\n",
    "    all_data = add_experience(all_data)\n",
    "    \n",
    "    if centralized:\n",
    "        all_data = centralize_data(all_data, target)\n",
    "        all_data = add_lag(all_data, col = target + '_centralized')\n",
    "    else:\n",
    "        all_data = add_lag(all_data, col = target)\n",
    "\n",
    "    train_data = all_data.loc[all_data['Season'] < 2020, :]\n",
    "    test_data = all_data.loc[all_data['Season'] > 2020, :]\n",
    "\n",
    "    return train_data, test_data"
   ]
  },
  {
   "cell_type": "code",
   "execution_count": 7,
   "metadata": {},
   "outputs": [],
   "source": [
    "def generate_data(data, feature_cols, target):\n",
    "    x = data.loc[:, feature_cols].values\n",
    "    y = data[target].values\n",
    "\n",
    "    return x, y"
   ]
  },
  {
   "cell_type": "code",
   "execution_count": 8,
   "metadata": {},
   "outputs": [],
   "source": [
    "def generate_test_data(train_data, test_data, col):\n",
    "    train_cols = ['IDfg', col + '_career_mean']\n",
    "    test_cols = ['IDfg', 'Season', \"Name\", 'Age', 'G', 'PA', 'experience', col + '_lag', col]\n",
    "\n",
    "    train_df = train_data.loc[:, train_cols]\n",
    "    train_df = train_df.drop_duplicates()\n",
    "    test_df = test_data.loc[:, test_cols]\n",
    "\n",
    "    all_test_data = test_df.merge(train_df, on = 'IDfg', how = 'left')\n",
    "    all_test_data = all_test_data.dropna()\n",
    "    all_test_data = all_test_data.reset_index(drop = True)\n",
    "    \n",
    "    return all_test_data"
   ]
  },
  {
   "cell_type": "code",
   "execution_count": 9,
   "metadata": {},
   "outputs": [],
   "source": [
    "def evaluate(data, target, model):\n",
    "    feature_cols = ['Age', target + '_career_mean', 'experience', target + '_lag']\n",
    "    test_x, test_y = generate_data(data, feature_cols, target)\n",
    "    y_preds = model.predict(test_x)\n",
    "    mae_result = mean_absolute_error(test_y, y_preds, sample_weight = data['PA'].values)\n",
    "\n",
    "    return mae_result"
   ]
  },
  {
   "cell_type": "code",
   "execution_count": 10,
   "metadata": {},
   "outputs": [],
   "source": [
    "def inference(data, target, model):\n",
    "    inference_df = data.copy()\n",
    "    feature_cols = ['Age', target + '_career_mean', 'experience', target + '_lag']\n",
    "    test_x, test_y = generate_data(data, feature_cols, target)\n",
    "    y_preds = model.predict(test_x)\n",
    "    inference_df['prediction'] = y_preds\n",
    "\n",
    "    return inference_df"
   ]
  },
  {
   "cell_type": "markdown",
   "metadata": {},
   "source": [
    "### EDA"
   ]
  },
  {
   "cell_type": "code",
   "execution_count": 11,
   "metadata": {},
   "outputs": [
    {
     "name": "stdout",
     "output_type": "stream",
     "text": [
      "(13540, 22)\n",
      "(1452, 22)\n"
     ]
    }
   ],
   "source": [
    "train_data, test_data = load_data(target = 'wRC+')\n",
    "print(train_data.shape)\n",
    "print(test_data.shape)"
   ]
  },
  {
   "cell_type": "code",
   "execution_count": 12,
   "metadata": {},
   "outputs": [
    {
     "data": {
      "text/html": [
       "<div>\n",
       "<style scoped>\n",
       "    .dataframe tbody tr th:only-of-type {\n",
       "        vertical-align: middle;\n",
       "    }\n",
       "\n",
       "    .dataframe tbody tr th {\n",
       "        vertical-align: top;\n",
       "    }\n",
       "\n",
       "    .dataframe thead th {\n",
       "        text-align: right;\n",
       "    }\n",
       "</style>\n",
       "<table border=\"1\" class=\"dataframe\">\n",
       "  <thead>\n",
       "    <tr style=\"text-align: right;\">\n",
       "      <th></th>\n",
       "      <th>IDfg</th>\n",
       "      <th>Season</th>\n",
       "      <th>Name</th>\n",
       "      <th>Age</th>\n",
       "      <th>G</th>\n",
       "      <th>PA</th>\n",
       "      <th>experience</th>\n",
       "      <th>wRC+</th>\n",
       "      <th>wRC+_lag</th>\n",
       "      <th>wRC+_career_mean</th>\n",
       "    </tr>\n",
       "  </thead>\n",
       "  <tbody>\n",
       "    <tr>\n",
       "      <th>0</th>\n",
       "      <td>1001649</td>\n",
       "      <td>1981</td>\n",
       "      <td>Al Bumbry</td>\n",
       "      <td>34</td>\n",
       "      <td>101</td>\n",
       "      <td>451</td>\n",
       "      <td>1.0</td>\n",
       "      <td>107</td>\n",
       "      <td>131.0</td>\n",
       "      <td>88.126911</td>\n",
       "    </tr>\n",
       "    <tr>\n",
       "      <th>1</th>\n",
       "      <td>1002689</td>\n",
       "      <td>1981</td>\n",
       "      <td>Al Cowens</td>\n",
       "      <td>29</td>\n",
       "      <td>85</td>\n",
       "      <td>284</td>\n",
       "      <td>1.0</td>\n",
       "      <td>91</td>\n",
       "      <td>87.0</td>\n",
       "      <td>96.489462</td>\n",
       "    </tr>\n",
       "    <tr>\n",
       "      <th>2</th>\n",
       "      <td>1009773</td>\n",
       "      <td>1981</td>\n",
       "      <td>Al Oliver</td>\n",
       "      <td>34</td>\n",
       "      <td>102</td>\n",
       "      <td>448</td>\n",
       "      <td>1.0</td>\n",
       "      <td>118</td>\n",
       "      <td>130.0</td>\n",
       "      <td>117.817251</td>\n",
       "    </tr>\n",
       "    <tr>\n",
       "      <th>3</th>\n",
       "      <td>1014234</td>\n",
       "      <td>1981</td>\n",
       "      <td>Al Woods</td>\n",
       "      <td>27</td>\n",
       "      <td>85</td>\n",
       "      <td>317</td>\n",
       "      <td>1.0</td>\n",
       "      <td>63</td>\n",
       "      <td>127.0</td>\n",
       "      <td>65.490775</td>\n",
       "    </tr>\n",
       "    <tr>\n",
       "      <th>4</th>\n",
       "      <td>1000336</td>\n",
       "      <td>1981</td>\n",
       "      <td>Alan Ashby</td>\n",
       "      <td>29</td>\n",
       "      <td>83</td>\n",
       "      <td>296</td>\n",
       "      <td>1.0</td>\n",
       "      <td>113</td>\n",
       "      <td>86.0</td>\n",
       "      <td>108.320983</td>\n",
       "    </tr>\n",
       "  </tbody>\n",
       "</table>\n",
       "</div>"
      ],
      "text/plain": [
       "      IDfg  Season        Name  Age    G   PA  experience  wRC+  wRC+_lag  \\\n",
       "0  1001649    1981   Al Bumbry   34  101  451         1.0   107     131.0   \n",
       "1  1002689    1981   Al Cowens   29   85  284         1.0    91      87.0   \n",
       "2  1009773    1981   Al Oliver   34  102  448         1.0   118     130.0   \n",
       "3  1014234    1981    Al Woods   27   85  317         1.0    63     127.0   \n",
       "4  1000336    1981  Alan Ashby   29   83  296         1.0   113      86.0   \n",
       "\n",
       "   wRC+_career_mean  \n",
       "0         88.126911  \n",
       "1         96.489462  \n",
       "2        117.817251  \n",
       "3         65.490775  \n",
       "4        108.320983  "
      ]
     },
     "execution_count": 12,
     "metadata": {},
     "output_type": "execute_result"
    }
   ],
   "source": [
    "wrc_data = add_career_mean(train_data, 'wRC+')\n",
    "wrc_data.head()"
   ]
  },
  {
   "cell_type": "code",
   "execution_count": 38,
   "metadata": {},
   "outputs": [
    {
     "data": {
      "text/plain": [
       "(2306, 2)"
      ]
     },
     "execution_count": 38,
     "metadata": {},
     "output_type": "execute_result"
    }
   ],
   "source": [
    "player_data = wrc_data.loc[:, ['IDfg', 'wRC+_career_mean']]\n",
    "player_data = player_data.drop_duplicates()\n",
    "player_data.shape"
   ]
  },
  {
   "cell_type": "code",
   "execution_count": 39,
   "metadata": {},
   "outputs": [
    {
     "data": {
      "text/html": [
       "<div>\n",
       "<style scoped>\n",
       "    .dataframe tbody tr th:only-of-type {\n",
       "        vertical-align: middle;\n",
       "    }\n",
       "\n",
       "    .dataframe tbody tr th {\n",
       "        vertical-align: top;\n",
       "    }\n",
       "\n",
       "    .dataframe thead th {\n",
       "        text-align: right;\n",
       "    }\n",
       "</style>\n",
       "<table border=\"1\" class=\"dataframe\">\n",
       "  <thead>\n",
       "    <tr style=\"text-align: right;\">\n",
       "      <th></th>\n",
       "      <th>IDfg</th>\n",
       "      <th>wRC+_career_mean</th>\n",
       "    </tr>\n",
       "  </thead>\n",
       "  <tbody>\n",
       "    <tr>\n",
       "      <th>0</th>\n",
       "      <td>1001649</td>\n",
       "      <td>88.126911</td>\n",
       "    </tr>\n",
       "    <tr>\n",
       "      <th>1</th>\n",
       "      <td>1002689</td>\n",
       "      <td>96.489462</td>\n",
       "    </tr>\n",
       "    <tr>\n",
       "      <th>2</th>\n",
       "      <td>1009773</td>\n",
       "      <td>117.817251</td>\n",
       "    </tr>\n",
       "    <tr>\n",
       "      <th>3</th>\n",
       "      <td>1014234</td>\n",
       "      <td>65.490775</td>\n",
       "    </tr>\n",
       "    <tr>\n",
       "      <th>4</th>\n",
       "      <td>1000336</td>\n",
       "      <td>108.320983</td>\n",
       "    </tr>\n",
       "  </tbody>\n",
       "</table>\n",
       "</div>"
      ],
      "text/plain": [
       "      IDfg  wRC+_career_mean\n",
       "0  1001649         88.126911\n",
       "1  1002689         96.489462\n",
       "2  1009773        117.817251\n",
       "3  1014234         65.490775\n",
       "4  1000336        108.320983"
      ]
     },
     "execution_count": 39,
     "metadata": {},
     "output_type": "execute_result"
    }
   ],
   "source": [
    "player_data.head()"
   ]
  },
  {
   "cell_type": "code",
   "execution_count": 40,
   "metadata": {},
   "outputs": [
    {
     "data": {
      "text/plain": [
       "0          (80.0, 90.0]\n",
       "1         (90.0, 100.0]\n",
       "2        (110.0, 120.0]\n",
       "3          (60.0, 70.0]\n",
       "4        (100.0, 110.0]\n",
       "              ...      \n",
       "13517    (100.0, 110.0]\n",
       "13518    (100.0, 110.0]\n",
       "13522    (100.0, 110.0]\n",
       "13524     (90.0, 100.0]\n",
       "13530      (70.0, 80.0]\n",
       "Name: wRC+_career_mean, Length: 2306, dtype: category\n",
       "Categories (12, interval[float64, right]): [(-31.0, 50.0] < (50.0, 60.0] < (60.0, 70.0] < (70.0, 80.0] ... (120.0, 130.0] < (130.0, 140.0] < (140.0, 150.0] < (150.0, 177.27]]"
      ]
     },
     "execution_count": 40,
     "metadata": {},
     "output_type": "execute_result"
    }
   ],
   "source": [
    "bins = [np.min(player_data['wRC+_career_mean'].values)] + [i for i in range(50, 160, 10)] + [np.max(player_data['wRC+_career_mean'].values)]\n",
    "wrc_counts = pd.cut(player_data['wRC+_career_mean'], bins)\n",
    "wrc_counts"
   ]
  },
  {
   "cell_type": "code",
   "execution_count": 41,
   "metadata": {},
   "outputs": [
    {
     "data": {
      "image/png": "[encoded data removed]",
      "text/plain": [
       "<Figure size 640x480 with 1 Axes>"
      ]
     },
     "metadata": {},
     "output_type": "display_data"
    }
   ],
   "source": [
    "sns.countplot(x = wrc_counts)\n",
    "plt.xticks(rotation = 30)\n",
    "plt.show()"
   ]
  },
  {
   "cell_type": "code",
   "execution_count": 46,
   "metadata": {},
   "outputs": [
    {
     "name": "stdout",
     "output_type": "stream",
     "text": [
      "(13540, 22)\n",
      "(1452, 22)\n"
     ]
    }
   ],
   "source": [
    "train_data, test_data = load_data(target = 'WAR')\n",
    "print(train_data.shape)\n",
    "print(test_data.shape)"
   ]
  },
  {
   "cell_type": "code",
   "execution_count": 47,
   "metadata": {},
   "outputs": [
    {
     "data": {
      "text/html": [
       "<div>\n",
       "<style scoped>\n",
       "    .dataframe tbody tr th:only-of-type {\n",
       "        vertical-align: middle;\n",
       "    }\n",
       "\n",
       "    .dataframe tbody tr th {\n",
       "        vertical-align: top;\n",
       "    }\n",
       "\n",
       "    .dataframe thead th {\n",
       "        text-align: right;\n",
       "    }\n",
       "</style>\n",
       "<table border=\"1\" class=\"dataframe\">\n",
       "  <thead>\n",
       "    <tr style=\"text-align: right;\">\n",
       "      <th></th>\n",
       "      <th>IDfg</th>\n",
       "      <th>Season</th>\n",
       "      <th>Name</th>\n",
       "      <th>Age</th>\n",
       "      <th>G</th>\n",
       "      <th>PA</th>\n",
       "      <th>experience</th>\n",
       "      <th>WAR</th>\n",
       "      <th>WAR_lag</th>\n",
       "      <th>WAR_career_mean</th>\n",
       "    </tr>\n",
       "  </thead>\n",
       "  <tbody>\n",
       "    <tr>\n",
       "      <th>0</th>\n",
       "      <td>1001649</td>\n",
       "      <td>1981</td>\n",
       "      <td>Al Bumbry</td>\n",
       "      <td>34</td>\n",
       "      <td>101</td>\n",
       "      <td>451</td>\n",
       "      <td>1.0</td>\n",
       "      <td>0.7</td>\n",
       "      <td>6.1</td>\n",
       "      <td>0.846381</td>\n",
       "    </tr>\n",
       "    <tr>\n",
       "      <th>1</th>\n",
       "      <td>1002689</td>\n",
       "      <td>1981</td>\n",
       "      <td>Al Cowens</td>\n",
       "      <td>29</td>\n",
       "      <td>85</td>\n",
       "      <td>284</td>\n",
       "      <td>1.0</td>\n",
       "      <td>0.6</td>\n",
       "      <td>0.2</td>\n",
       "      <td>0.786667</td>\n",
       "    </tr>\n",
       "    <tr>\n",
       "      <th>2</th>\n",
       "      <td>1009773</td>\n",
       "      <td>1981</td>\n",
       "      <td>Al Oliver</td>\n",
       "      <td>34</td>\n",
       "      <td>102</td>\n",
       "      <td>448</td>\n",
       "      <td>1.0</td>\n",
       "      <td>1.3</td>\n",
       "      <td>3.4</td>\n",
       "      <td>1.825994</td>\n",
       "    </tr>\n",
       "    <tr>\n",
       "      <th>3</th>\n",
       "      <td>1014234</td>\n",
       "      <td>1981</td>\n",
       "      <td>Al Woods</td>\n",
       "      <td>27</td>\n",
       "      <td>85</td>\n",
       "      <td>317</td>\n",
       "      <td>1.0</td>\n",
       "      <td>-0.2</td>\n",
       "      <td>2.4</td>\n",
       "      <td>-0.407565</td>\n",
       "    </tr>\n",
       "    <tr>\n",
       "      <th>4</th>\n",
       "      <td>1000336</td>\n",
       "      <td>1981</td>\n",
       "      <td>Alan Ashby</td>\n",
       "      <td>29</td>\n",
       "      <td>83</td>\n",
       "      <td>296</td>\n",
       "      <td>1.0</td>\n",
       "      <td>2.5</td>\n",
       "      <td>0.8</td>\n",
       "      <td>1.313733</td>\n",
       "    </tr>\n",
       "  </tbody>\n",
       "</table>\n",
       "</div>"
      ],
      "text/plain": [
       "      IDfg  Season        Name  Age    G   PA  experience  WAR  WAR_lag  \\\n",
       "0  1001649    1981   Al Bumbry   34  101  451         1.0  0.7      6.1   \n",
       "1  1002689    1981   Al Cowens   29   85  284         1.0  0.6      0.2   \n",
       "2  1009773    1981   Al Oliver   34  102  448         1.0  1.3      3.4   \n",
       "3  1014234    1981    Al Woods   27   85  317         1.0 -0.2      2.4   \n",
       "4  1000336    1981  Alan Ashby   29   83  296         1.0  2.5      0.8   \n",
       "\n",
       "   WAR_career_mean  \n",
       "0         0.846381  \n",
       "1         0.786667  \n",
       "2         1.825994  \n",
       "3        -0.407565  \n",
       "4         1.313733  "
      ]
     },
     "execution_count": 47,
     "metadata": {},
     "output_type": "execute_result"
    }
   ],
   "source": [
    "war_data = add_career_mean(train_data, 'WAR')\n",
    "war_data.head()"
   ]
  },
  {
   "cell_type": "code",
   "execution_count": 48,
   "metadata": {},
   "outputs": [
    {
     "data": {
      "text/plain": [
       "(2306, 2)"
      ]
     },
     "execution_count": 48,
     "metadata": {},
     "output_type": "execute_result"
    }
   ],
   "source": [
    "player_data = war_data.loc[:, ['IDfg', 'WAR_career_mean']]\n",
    "player_data = player_data.drop_duplicates()\n",
    "player_data.shape"
   ]
  },
  {
   "cell_type": "code",
   "execution_count": 49,
   "metadata": {},
   "outputs": [
    {
     "data": {
      "text/html": [
       "<div>\n",
       "<style scoped>\n",
       "    .dataframe tbody tr th:only-of-type {\n",
       "        vertical-align: middle;\n",
       "    }\n",
       "\n",
       "    .dataframe tbody tr th {\n",
       "        vertical-align: top;\n",
       "    }\n",
       "\n",
       "    .dataframe thead th {\n",
       "        text-align: right;\n",
       "    }\n",
       "</style>\n",
       "<table border=\"1\" class=\"dataframe\">\n",
       "  <thead>\n",
       "    <tr style=\"text-align: right;\">\n",
       "      <th></th>\n",
       "      <th>IDfg</th>\n",
       "      <th>WAR_career_mean</th>\n",
       "    </tr>\n",
       "  </thead>\n",
       "  <tbody>\n",
       "    <tr>\n",
       "      <th>0</th>\n",
       "      <td>1001649</td>\n",
       "      <td>0.846381</td>\n",
       "    </tr>\n",
       "    <tr>\n",
       "      <th>1</th>\n",
       "      <td>1002689</td>\n",
       "      <td>0.786667</td>\n",
       "    </tr>\n",
       "    <tr>\n",
       "      <th>2</th>\n",
       "      <td>1009773</td>\n",
       "      <td>1.825994</td>\n",
       "    </tr>\n",
       "    <tr>\n",
       "      <th>3</th>\n",
       "      <td>1014234</td>\n",
       "      <td>-0.407565</td>\n",
       "    </tr>\n",
       "    <tr>\n",
       "      <th>4</th>\n",
       "      <td>1000336</td>\n",
       "      <td>1.313733</td>\n",
       "    </tr>\n",
       "  </tbody>\n",
       "</table>\n",
       "</div>"
      ],
      "text/plain": [
       "      IDfg  WAR_career_mean\n",
       "0  1001649         0.846381\n",
       "1  1002689         0.786667\n",
       "2  1009773         1.825994\n",
       "3  1014234        -0.407565\n",
       "4  1000336         1.313733"
      ]
     },
     "execution_count": 49,
     "metadata": {},
     "output_type": "execute_result"
    }
   ],
   "source": [
    "player_data.head()"
   ]
  },
  {
   "cell_type": "code",
   "execution_count": 63,
   "metadata": {},
   "outputs": [
    {
     "data": {
      "text/plain": [
       "0         (0.5, 1.0]\n",
       "1         (0.5, 1.0]\n",
       "2         (1.5, 2.0]\n",
       "3        (-2.7, 0.0]\n",
       "4         (1.0, 1.5]\n",
       "            ...     \n",
       "13517     (1.0, 1.5]\n",
       "13518     (1.5, 2.0]\n",
       "13522     (0.0, 0.5]\n",
       "13524     (3.0, 3.5]\n",
       "13530    (-2.7, 0.0]\n",
       "Name: WAR_career_mean, Length: 2306, dtype: category\n",
       "Categories (13, interval[float64, right]): [(-2.7, 0.0] < (0.0, 0.5] < (0.5, 1.0] < (1.0, 1.5] ... (4.0, 4.5] < (4.5, 5.0] < (5.0, 5.5] < (5.5, 8.725]]"
      ]
     },
     "execution_count": 63,
     "metadata": {},
     "output_type": "execute_result"
    }
   ],
   "source": [
    "bins = [np.min(player_data['WAR_career_mean'].values)] + list(np.arange(0.0, 6.0, 0.5)) + [np.max(player_data['WAR_career_mean'].values)]\n",
    "war_counts = pd.cut(player_data['WAR_career_mean'], bins)\n",
    "war_counts"
   ]
  },
  {
   "cell_type": "code",
   "execution_count": 64,
   "metadata": {},
   "outputs": [
    {
     "data": {
      "image/png": "[encoded data removed]",
      "text/plain": [
       "<Figure size 640x480 with 1 Axes>"
      ]
     },
     "metadata": {},
     "output_type": "display_data"
    }
   ],
   "source": [
    "sns.countplot(x = war_counts)\n",
    "plt.xticks(rotation = 30)\n",
    "plt.show()"
   ]
  },
  {
   "cell_type": "markdown",
   "metadata": {},
   "source": [
    "### Original wRC+ Aging Curve"
   ]
  },
  {
   "cell_type": "code",
   "execution_count": 65,
   "metadata": {},
   "outputs": [
    {
     "name": "stdout",
     "output_type": "stream",
     "text": [
      "(13540, 22)\n",
      "(1452, 22)\n"
     ]
    }
   ],
   "source": [
    "train_data, test_data = load_data(target = 'wRC+')\n",
    "print(train_data.shape)\n",
    "print(test_data.shape)"
   ]
  },
  {
   "cell_type": "code",
   "execution_count": 66,
   "metadata": {},
   "outputs": [
    {
     "data": {
      "text/html": [
       "<div>\n",
       "<style scoped>\n",
       "    .dataframe tbody tr th:only-of-type {\n",
       "        vertical-align: middle;\n",
       "    }\n",
       "\n",
       "    .dataframe tbody tr th {\n",
       "        vertical-align: top;\n",
       "    }\n",
       "\n",
       "    .dataframe thead th {\n",
       "        text-align: right;\n",
       "    }\n",
       "</style>\n",
       "<table border=\"1\" class=\"dataframe\">\n",
       "  <thead>\n",
       "    <tr style=\"text-align: right;\">\n",
       "      <th></th>\n",
       "      <th>IDfg</th>\n",
       "      <th>Season</th>\n",
       "      <th>Name</th>\n",
       "      <th>Age</th>\n",
       "      <th>G</th>\n",
       "      <th>PA</th>\n",
       "      <th>experience</th>\n",
       "      <th>wRC+</th>\n",
       "      <th>wRC+_lag</th>\n",
       "      <th>wRC+_career_mean</th>\n",
       "    </tr>\n",
       "  </thead>\n",
       "  <tbody>\n",
       "    <tr>\n",
       "      <th>0</th>\n",
       "      <td>1001649</td>\n",
       "      <td>1981</td>\n",
       "      <td>Al Bumbry</td>\n",
       "      <td>34</td>\n",
       "      <td>101</td>\n",
       "      <td>451</td>\n",
       "      <td>1.0</td>\n",
       "      <td>107</td>\n",
       "      <td>131.0</td>\n",
       "      <td>88.126911</td>\n",
       "    </tr>\n",
       "    <tr>\n",
       "      <th>1</th>\n",
       "      <td>1002689</td>\n",
       "      <td>1981</td>\n",
       "      <td>Al Cowens</td>\n",
       "      <td>29</td>\n",
       "      <td>85</td>\n",
       "      <td>284</td>\n",
       "      <td>1.0</td>\n",
       "      <td>91</td>\n",
       "      <td>87.0</td>\n",
       "      <td>96.489462</td>\n",
       "    </tr>\n",
       "    <tr>\n",
       "      <th>2</th>\n",
       "      <td>1009773</td>\n",
       "      <td>1981</td>\n",
       "      <td>Al Oliver</td>\n",
       "      <td>34</td>\n",
       "      <td>102</td>\n",
       "      <td>448</td>\n",
       "      <td>1.0</td>\n",
       "      <td>118</td>\n",
       "      <td>130.0</td>\n",
       "      <td>117.817251</td>\n",
       "    </tr>\n",
       "    <tr>\n",
       "      <th>3</th>\n",
       "      <td>1014234</td>\n",
       "      <td>1981</td>\n",
       "      <td>Al Woods</td>\n",
       "      <td>27</td>\n",
       "      <td>85</td>\n",
       "      <td>317</td>\n",
       "      <td>1.0</td>\n",
       "      <td>63</td>\n",
       "      <td>127.0</td>\n",
       "      <td>65.490775</td>\n",
       "    </tr>\n",
       "    <tr>\n",
       "      <th>4</th>\n",
       "      <td>1000336</td>\n",
       "      <td>1981</td>\n",
       "      <td>Alan Ashby</td>\n",
       "      <td>29</td>\n",
       "      <td>83</td>\n",
       "      <td>296</td>\n",
       "      <td>1.0</td>\n",
       "      <td>113</td>\n",
       "      <td>86.0</td>\n",
       "      <td>108.320983</td>\n",
       "    </tr>\n",
       "  </tbody>\n",
       "</table>\n",
       "</div>"
      ],
      "text/plain": [
       "      IDfg  Season        Name  Age    G   PA  experience  wRC+  wRC+_lag  \\\n",
       "0  1001649    1981   Al Bumbry   34  101  451         1.0   107     131.0   \n",
       "1  1002689    1981   Al Cowens   29   85  284         1.0    91      87.0   \n",
       "2  1009773    1981   Al Oliver   34  102  448         1.0   118     130.0   \n",
       "3  1014234    1981    Al Woods   27   85  317         1.0    63     127.0   \n",
       "4  1000336    1981  Alan Ashby   29   83  296         1.0   113      86.0   \n",
       "\n",
       "   wRC+_career_mean  \n",
       "0         88.126911  \n",
       "1         96.489462  \n",
       "2        117.817251  \n",
       "3         65.490775  \n",
       "4        108.320983  "
      ]
     },
     "execution_count": 66,
     "metadata": {},
     "output_type": "execute_result"
    }
   ],
   "source": [
    "wrc_data = add_career_mean(train_data, 'wRC+')\n",
    "wrc_data.head()"
   ]
  },
  {
   "cell_type": "code",
   "execution_count": 67,
   "metadata": {},
   "outputs": [],
   "source": [
    "features = ['Age', 'wRC+_career_mean', 'experience', 'wRC+_lag']\n",
    "target = 'wRC+'\n",
    "\n",
    "x, y = generate_data(wrc_data, feature_cols = features, target = target)"
   ]
  },
  {
   "cell_type": "code",
   "execution_count": 68,
   "metadata": {},
   "outputs": [
    {
     "name": "stdout",
     "output_type": "stream",
     "text": [
      "GAM                                                                                                       \n",
      "=============================================== ==========================================================\n",
      "Distribution:                        NormalDist Effective DoF:                                     19.2615\n",
      "Link Function:                     IdentityLink Log Likelihood:                                -92142.1695\n",
      "Number of Samples:                        13540 AIC:                                            184324.862\n",
      "                                                AICc:                                          184324.9257\n",
      "                                                GCV:                                           131335.5346\n",
      "                                                Scale:                                         130999.2781\n",
      "                                                Pseudo R-Squared:                                   0.6007\n",
      "==========================================================================================================\n",
      "Feature Function                  Lambda               Rank         EDoF         P > x        Sig. Code   \n",
      "================================= ==================== ============ ============ ============ ============\n",
      "te(0, 2)                          [10 10]              25           12.4         1.11e-16     ***         \n",
      "s(1)                              [10]                 5            3.4          1.11e-16     ***         \n",
      "s(3)                              [10]                 5            3.5          1.11e-16     ***         \n",
      "intercept                                              1            0.0          5.01e-11     ***         \n",
      "==========================================================================================================\n",
      "Significance codes:  0 '***' 0.001 '**' 0.01 '*' 0.05 '.' 0.1 ' ' 1\n",
      "\n",
      "WARNING: Fitting splines and a linear function to a feature introduces a model identifiability problem\n",
      "         which can cause p-values to appear significant when they are not.\n",
      "\n",
      "WARNING: p-values calculated in this manner behave correctly for un-penalized models or models with\n",
      "         known smoothing parameters, but when smoothing parameters have been estimated, the p-values\n",
      "         are typically lower than they should be, meaning that the tests reject the null too readily.\n"
     ]
    },
    {
     "name": "stderr",
     "output_type": "stream",
     "text": [
      "C:\\Users\\citioplab\\AppData\\Local\\Temp\\ipykernel_46160\\1497089973.py:3: UserWarning: KNOWN BUG: p-values computed in this summary are likely much smaller than they should be. \n",
      " \n",
      "Please do not make inferences based on these values! \n",
      "\n",
      "Collaborate on a solution, and stay up to date at: \n",
      "github.com/dswah/pyGAM/issues/163 \n",
      "\n",
      "  gam.summary()\n"
     ]
    }
   ],
   "source": [
    "gam = GAM(te(0, 2, n_splines = 5, lam = 10) + s(1, n_splines = 5, lam = 10) + s(3, n_splines = 5, lam = 10))\n",
    "gam.fit(x, y, weights = wrc_data['PA'].values)\n",
    "gam.summary()"
   ]
  },
  {
   "cell_type": "code",
   "execution_count": 69,
   "metadata": {},
   "outputs": [],
   "source": [
    "age_lag_means = wrc_data.groupby(['Age'])['wRC+_lag'].mean()"
   ]
  },
  {
   "cell_type": "code",
   "execution_count": 70,
   "metadata": {},
   "outputs": [
    {
     "data": {
      "image/png": "[encoded data removed]",
      "text/plain": [
       "<Figure size 640x480 with 1 Axes>"
      ]
     },
     "metadata": {},
     "output_type": "display_data"
    }
   ],
   "source": [
    "plt.figure()\n",
    "XX = gam.generate_X_grid(term = 0, n = 1000)\n",
    "XX[:, 1] = 100\n",
    "XX[:, 2] = np.subtract(np.floor(XX[:, 0]), 20.0)\n",
    "\n",
    "for i in range(21, 41):\n",
    "    tmp = [age_lag_means[x] for x in np.floor(XX[:, 0])]\n",
    "XX[:, 3] = tmp\n",
    "\n",
    "plt.plot(XX[:, 0], gam.predict(XX))\n",
    "plt.xticks(np.arange(20, 45, 5))\n",
    "plt.grid(True)\n",
    "plt.show()\n",
    "# plt.plot(XX[:, 0], gam.partial_dependence(term = 0, X = XX,   width = .95)[1], c = 'r', ls = '--')"
   ]
  },
  {
   "cell_type": "code",
   "execution_count": 71,
   "metadata": {},
   "outputs": [
    {
     "data": {
      "text/plain": [
       "104.72882387376886"
      ]
     },
     "execution_count": 71,
     "metadata": {},
     "output_type": "execute_result"
    }
   ],
   "source": [
    "np.max(gam.predict(XX))"
   ]
  },
  {
   "cell_type": "code",
   "execution_count": 72,
   "metadata": {},
   "outputs": [
    {
     "data": {
      "text/plain": [
       "26.002002002002"
      ]
     },
     "execution_count": 72,
     "metadata": {},
     "output_type": "execute_result"
    }
   ],
   "source": [
    "XX[np.argmax(gam.predict(XX)), 0]"
   ]
  },
  {
   "cell_type": "code",
   "execution_count": 73,
   "metadata": {},
   "outputs": [],
   "source": [
    "all_test_data = generate_test_data(wrc_data, test_data, 'wRC+')"
   ]
  },
  {
   "cell_type": "code",
   "execution_count": 74,
   "metadata": {},
   "outputs": [
    {
     "data": {
      "text/html": [
       "<div>\n",
       "<style scoped>\n",
       "    .dataframe tbody tr th:only-of-type {\n",
       "        vertical-align: middle;\n",
       "    }\n",
       "\n",
       "    .dataframe tbody tr th {\n",
       "        vertical-align: top;\n",
       "    }\n",
       "\n",
       "    .dataframe thead th {\n",
       "        text-align: right;\n",
       "    }\n",
       "</style>\n",
       "<table border=\"1\" class=\"dataframe\">\n",
       "  <thead>\n",
       "    <tr style=\"text-align: right;\">\n",
       "      <th></th>\n",
       "      <th>IDfg</th>\n",
       "      <th>Season</th>\n",
       "      <th>Name</th>\n",
       "      <th>Age</th>\n",
       "      <th>G</th>\n",
       "      <th>PA</th>\n",
       "      <th>experience</th>\n",
       "      <th>wRC+_lag</th>\n",
       "      <th>wRC+</th>\n",
       "      <th>wRC+_career_mean</th>\n",
       "    </tr>\n",
       "  </thead>\n",
       "  <tbody>\n",
       "    <tr>\n",
       "      <th>0</th>\n",
       "      <td>9256</td>\n",
       "      <td>2021</td>\n",
       "      <td>A.J. Pollock</td>\n",
       "      <td>33</td>\n",
       "      <td>117</td>\n",
       "      <td>422</td>\n",
       "      <td>8.0</td>\n",
       "      <td>107.0</td>\n",
       "      <td>137</td>\n",
       "      <td>117.510323</td>\n",
       "    </tr>\n",
       "    <tr>\n",
       "      <th>1</th>\n",
       "      <td>5297</td>\n",
       "      <td>2021</td>\n",
       "      <td>Aaron Hicks</td>\n",
       "      <td>31</td>\n",
       "      <td>32</td>\n",
       "      <td>126</td>\n",
       "      <td>8.0</td>\n",
       "      <td>103.0</td>\n",
       "      <td>77</td>\n",
       "      <td>104.298665</td>\n",
       "    </tr>\n",
       "    <tr>\n",
       "      <th>2</th>\n",
       "      <td>15640</td>\n",
       "      <td>2021</td>\n",
       "      <td>Aaron Judge</td>\n",
       "      <td>29</td>\n",
       "      <td>148</td>\n",
       "      <td>633</td>\n",
       "      <td>4.0</td>\n",
       "      <td>141.0</td>\n",
       "      <td>150</td>\n",
       "      <td>145.742857</td>\n",
       "    </tr>\n",
       "    <tr>\n",
       "      <th>3</th>\n",
       "      <td>5486</td>\n",
       "      <td>2021</td>\n",
       "      <td>Abraham Almonte</td>\n",
       "      <td>32</td>\n",
       "      <td>64</td>\n",
       "      <td>175</td>\n",
       "      <td>7.0</td>\n",
       "      <td>48.0</td>\n",
       "      <td>98</td>\n",
       "      <td>78.063910</td>\n",
       "    </tr>\n",
       "    <tr>\n",
       "      <th>4</th>\n",
       "      <td>13769</td>\n",
       "      <td>2021</td>\n",
       "      <td>Adalberto Mondesi</td>\n",
       "      <td>25</td>\n",
       "      <td>35</td>\n",
       "      <td>136</td>\n",
       "      <td>5.0</td>\n",
       "      <td>81.0</td>\n",
       "      <td>89</td>\n",
       "      <td>93.686649</td>\n",
       "    </tr>\n",
       "  </tbody>\n",
       "</table>\n",
       "</div>"
      ],
      "text/plain": [
       "    IDfg  Season               Name  Age    G   PA  experience  wRC+_lag  \\\n",
       "0   9256    2021       A.J. Pollock   33  117  422         8.0     107.0   \n",
       "1   5297    2021        Aaron Hicks   31   32  126         8.0     103.0   \n",
       "2  15640    2021        Aaron Judge   29  148  633         4.0     141.0   \n",
       "3   5486    2021    Abraham Almonte   32   64  175         7.0      48.0   \n",
       "4  13769    2021  Adalberto Mondesi   25   35  136         5.0      81.0   \n",
       "\n",
       "   wRC+  wRC+_career_mean  \n",
       "0   137        117.510323  \n",
       "1    77        104.298665  \n",
       "2   150        145.742857  \n",
       "3    98         78.063910  \n",
       "4    89         93.686649  "
      ]
     },
     "execution_count": 74,
     "metadata": {},
     "output_type": "execute_result"
    }
   ],
   "source": [
    "all_test_data.head()"
   ]
  },
  {
   "cell_type": "code",
   "execution_count": 75,
   "metadata": {},
   "outputs": [
    {
     "data": {
      "text/plain": [
       "19.489687780658297"
      ]
     },
     "execution_count": 75,
     "metadata": {},
     "output_type": "execute_result"
    }
   ],
   "source": [
    "evaluate(all_test_data, 'wRC+', gam)"
   ]
  },
  {
   "cell_type": "code",
   "execution_count": 82,
   "metadata": {},
   "outputs": [
    {
     "data": {
      "text/plain": [
       "(343, 10)"
      ]
     },
     "execution_count": 82,
     "metadata": {},
     "output_type": "execute_result"
    }
   ],
   "source": [
    "strong_test_data = all_test_data.loc[all_test_data['wRC+_career_mean'] > 110, :]\n",
    "strong_test_data.shape"
   ]
  },
  {
   "cell_type": "code",
   "execution_count": 83,
   "metadata": {},
   "outputs": [
    {
     "data": {
      "text/html": [
       "<div>\n",
       "<style scoped>\n",
       "    .dataframe tbody tr th:only-of-type {\n",
       "        vertical-align: middle;\n",
       "    }\n",
       "\n",
       "    .dataframe tbody tr th {\n",
       "        vertical-align: top;\n",
       "    }\n",
       "\n",
       "    .dataframe thead th {\n",
       "        text-align: right;\n",
       "    }\n",
       "</style>\n",
       "<table border=\"1\" class=\"dataframe\">\n",
       "  <thead>\n",
       "    <tr style=\"text-align: right;\">\n",
       "      <th></th>\n",
       "      <th>IDfg</th>\n",
       "      <th>Season</th>\n",
       "      <th>Name</th>\n",
       "      <th>Age</th>\n",
       "      <th>G</th>\n",
       "      <th>PA</th>\n",
       "      <th>experience</th>\n",
       "      <th>wRC+_lag</th>\n",
       "      <th>wRC+</th>\n",
       "      <th>wRC+_career_mean</th>\n",
       "    </tr>\n",
       "  </thead>\n",
       "  <tbody>\n",
       "    <tr>\n",
       "      <th>0</th>\n",
       "      <td>9256</td>\n",
       "      <td>2021</td>\n",
       "      <td>A.J. Pollock</td>\n",
       "      <td>33</td>\n",
       "      <td>117</td>\n",
       "      <td>422</td>\n",
       "      <td>8.0</td>\n",
       "      <td>107.0</td>\n",
       "      <td>137</td>\n",
       "      <td>117.510323</td>\n",
       "    </tr>\n",
       "    <tr>\n",
       "      <th>2</th>\n",
       "      <td>15640</td>\n",
       "      <td>2021</td>\n",
       "      <td>Aaron Judge</td>\n",
       "      <td>29</td>\n",
       "      <td>148</td>\n",
       "      <td>633</td>\n",
       "      <td>4.0</td>\n",
       "      <td>141.0</td>\n",
       "      <td>150</td>\n",
       "      <td>145.742857</td>\n",
       "    </tr>\n",
       "    <tr>\n",
       "      <th>6</th>\n",
       "      <td>11205</td>\n",
       "      <td>2021</td>\n",
       "      <td>Adam Eaton</td>\n",
       "      <td>32</td>\n",
       "      <td>84</td>\n",
       "      <td>288</td>\n",
       "      <td>9.0</td>\n",
       "      <td>108.0</td>\n",
       "      <td>68</td>\n",
       "      <td>114.373018</td>\n",
       "    </tr>\n",
       "    <tr>\n",
       "      <th>12</th>\n",
       "      <td>17678</td>\n",
       "      <td>2021</td>\n",
       "      <td>Alex Bregman</td>\n",
       "      <td>27</td>\n",
       "      <td>91</td>\n",
       "      <td>400</td>\n",
       "      <td>5.0</td>\n",
       "      <td>167.0</td>\n",
       "      <td>114</td>\n",
       "      <td>149.882731</td>\n",
       "    </tr>\n",
       "    <tr>\n",
       "      <th>13</th>\n",
       "      <td>12649</td>\n",
       "      <td>2021</td>\n",
       "      <td>Alex Dickerson</td>\n",
       "      <td>31</td>\n",
       "      <td>111</td>\n",
       "      <td>312</td>\n",
       "      <td>5.0</td>\n",
       "      <td>112.0</td>\n",
       "      <td>98</td>\n",
       "      <td>112.000000</td>\n",
       "    </tr>\n",
       "  </tbody>\n",
       "</table>\n",
       "</div>"
      ],
      "text/plain": [
       "     IDfg  Season            Name  Age    G   PA  experience  wRC+_lag  wRC+  \\\n",
       "0    9256    2021    A.J. Pollock   33  117  422         8.0     107.0   137   \n",
       "2   15640    2021     Aaron Judge   29  148  633         4.0     141.0   150   \n",
       "6   11205    2021      Adam Eaton   32   84  288         9.0     108.0    68   \n",
       "12  17678    2021    Alex Bregman   27   91  400         5.0     167.0   114   \n",
       "13  12649    2021  Alex Dickerson   31  111  312         5.0     112.0    98   \n",
       "\n",
       "    wRC+_career_mean  \n",
       "0         117.510323  \n",
       "2         145.742857  \n",
       "6         114.373018  \n",
       "12        149.882731  \n",
       "13        112.000000  "
      ]
     },
     "execution_count": 83,
     "metadata": {},
     "output_type": "execute_result"
    }
   ],
   "source": [
    "strong_test_data.head()"
   ]
  },
  {
   "cell_type": "code",
   "execution_count": 84,
   "metadata": {},
   "outputs": [
    {
     "data": {
      "text/plain": [
       "20.17992364529598"
      ]
     },
     "execution_count": 84,
     "metadata": {},
     "output_type": "execute_result"
    }
   ],
   "source": [
    "evaluate(strong_test_data, 'wRC+', gam)"
   ]
  },
  {
   "cell_type": "markdown",
   "metadata": {},
   "source": [
    "### Original WAR Aging Curve"
   ]
  },
  {
   "cell_type": "code",
   "execution_count": 85,
   "metadata": {},
   "outputs": [
    {
     "name": "stdout",
     "output_type": "stream",
     "text": [
      "(13540, 22)\n",
      "(1452, 22)\n"
     ]
    }
   ],
   "source": [
    "train_data, test_data = load_data(target = 'WAR')\n",
    "print(train_data.shape)\n",
    "print(test_data.shape)"
   ]
  },
  {
   "cell_type": "code",
   "execution_count": 86,
   "metadata": {},
   "outputs": [
    {
     "data": {
      "text/html": [
       "<div>\n",
       "<style scoped>\n",
       "    .dataframe tbody tr th:only-of-type {\n",
       "        vertical-align: middle;\n",
       "    }\n",
       "\n",
       "    .dataframe tbody tr th {\n",
       "        vertical-align: top;\n",
       "    }\n",
       "\n",
       "    .dataframe thead th {\n",
       "        text-align: right;\n",
       "    }\n",
       "</style>\n",
       "<table border=\"1\" class=\"dataframe\">\n",
       "  <thead>\n",
       "    <tr style=\"text-align: right;\">\n",
       "      <th></th>\n",
       "      <th>IDfg</th>\n",
       "      <th>Season</th>\n",
       "      <th>Name</th>\n",
       "      <th>Age</th>\n",
       "      <th>G</th>\n",
       "      <th>PA</th>\n",
       "      <th>experience</th>\n",
       "      <th>WAR</th>\n",
       "      <th>WAR_lag</th>\n",
       "      <th>WAR_career_mean</th>\n",
       "    </tr>\n",
       "  </thead>\n",
       "  <tbody>\n",
       "    <tr>\n",
       "      <th>0</th>\n",
       "      <td>1001649</td>\n",
       "      <td>1981</td>\n",
       "      <td>Al Bumbry</td>\n",
       "      <td>34</td>\n",
       "      <td>101</td>\n",
       "      <td>451</td>\n",
       "      <td>1.0</td>\n",
       "      <td>0.7</td>\n",
       "      <td>6.1</td>\n",
       "      <td>0.846381</td>\n",
       "    </tr>\n",
       "    <tr>\n",
       "      <th>1</th>\n",
       "      <td>1002689</td>\n",
       "      <td>1981</td>\n",
       "      <td>Al Cowens</td>\n",
       "      <td>29</td>\n",
       "      <td>85</td>\n",
       "      <td>284</td>\n",
       "      <td>1.0</td>\n",
       "      <td>0.6</td>\n",
       "      <td>0.2</td>\n",
       "      <td>0.786667</td>\n",
       "    </tr>\n",
       "    <tr>\n",
       "      <th>2</th>\n",
       "      <td>1009773</td>\n",
       "      <td>1981</td>\n",
       "      <td>Al Oliver</td>\n",
       "      <td>34</td>\n",
       "      <td>102</td>\n",
       "      <td>448</td>\n",
       "      <td>1.0</td>\n",
       "      <td>1.3</td>\n",
       "      <td>3.4</td>\n",
       "      <td>1.825994</td>\n",
       "    </tr>\n",
       "    <tr>\n",
       "      <th>3</th>\n",
       "      <td>1014234</td>\n",
       "      <td>1981</td>\n",
       "      <td>Al Woods</td>\n",
       "      <td>27</td>\n",
       "      <td>85</td>\n",
       "      <td>317</td>\n",
       "      <td>1.0</td>\n",
       "      <td>-0.2</td>\n",
       "      <td>2.4</td>\n",
       "      <td>-0.407565</td>\n",
       "    </tr>\n",
       "    <tr>\n",
       "      <th>4</th>\n",
       "      <td>1000336</td>\n",
       "      <td>1981</td>\n",
       "      <td>Alan Ashby</td>\n",
       "      <td>29</td>\n",
       "      <td>83</td>\n",
       "      <td>296</td>\n",
       "      <td>1.0</td>\n",
       "      <td>2.5</td>\n",
       "      <td>0.8</td>\n",
       "      <td>1.313733</td>\n",
       "    </tr>\n",
       "  </tbody>\n",
       "</table>\n",
       "</div>"
      ],
      "text/plain": [
       "      IDfg  Season        Name  Age    G   PA  experience  WAR  WAR_lag  \\\n",
       "0  1001649    1981   Al Bumbry   34  101  451         1.0  0.7      6.1   \n",
       "1  1002689    1981   Al Cowens   29   85  284         1.0  0.6      0.2   \n",
       "2  1009773    1981   Al Oliver   34  102  448         1.0  1.3      3.4   \n",
       "3  1014234    1981    Al Woods   27   85  317         1.0 -0.2      2.4   \n",
       "4  1000336    1981  Alan Ashby   29   83  296         1.0  2.5      0.8   \n",
       "\n",
       "   WAR_career_mean  \n",
       "0         0.846381  \n",
       "1         0.786667  \n",
       "2         1.825994  \n",
       "3        -0.407565  \n",
       "4         1.313733  "
      ]
     },
     "execution_count": 86,
     "metadata": {},
     "output_type": "execute_result"
    }
   ],
   "source": [
    "war_data = add_career_mean(train_data, 'WAR')\n",
    "war_data.head()"
   ]
  },
  {
   "cell_type": "code",
   "execution_count": 87,
   "metadata": {},
   "outputs": [],
   "source": [
    "features = ['Age', 'WAR_career_mean', 'experience', 'WAR_lag']\n",
    "target = 'WAR'\n",
    "\n",
    "x, y = generate_data(war_data, feature_cols = features, target = target)"
   ]
  },
  {
   "cell_type": "code",
   "execution_count": 88,
   "metadata": {},
   "outputs": [
    {
     "name": "stdout",
     "output_type": "stream",
     "text": [
      "GAM                                                                                                       \n",
      "=============================================== ==========================================================\n",
      "Distribution:                        NormalDist Effective DoF:                                     16.9904\n",
      "Link Function:                     IdentityLink Log Likelihood:                                -26197.1677\n",
      "Number of Samples:                        13540 AIC:                                            52430.3162\n",
      "                                                AICc:                                           52430.3668\n",
      "                                                GCV:                                              215.1521\n",
      "                                                Scale:                                            214.6662\n",
      "                                                Pseudo R-Squared:                                   0.5611\n",
      "==========================================================================================================\n",
      "Feature Function                  Lambda               Rank         EDoF         P > x        Sig. Code   \n",
      "================================= ==================== ============ ============ ============ ============\n",
      "te(0, 2)                          [10 10]              25           10.5         1.11e-16     ***         \n",
      "s(1)                              [10]                 5            3.4          1.11e-16     ***         \n",
      "s(3)                              [10]                 5            3.1          1.11e-16     ***         \n",
      "intercept                                              1            0.0          1.51e-09     ***         \n",
      "==========================================================================================================\n",
      "Significance codes:  0 '***' 0.001 '**' 0.01 '*' 0.05 '.' 0.1 ' ' 1\n",
      "\n",
      "WARNING: Fitting splines and a linear function to a feature introduces a model identifiability problem\n",
      "         which can cause p-values to appear significant when they are not.\n",
      "\n",
      "WARNING: p-values calculated in this manner behave correctly for un-penalized models or models with\n",
      "         known smoothing parameters, but when smoothing parameters have been estimated, the p-values\n",
      "         are typically lower than they should be, meaning that the tests reject the null too readily.\n"
     ]
    },
    {
     "name": "stderr",
     "output_type": "stream",
     "text": [
      "C:\\Users\\citioplab\\AppData\\Local\\Temp\\ipykernel_46160\\2913956295.py:3: UserWarning: KNOWN BUG: p-values computed in this summary are likely much smaller than they should be. \n",
      " \n",
      "Please do not make inferences based on these values! \n",
      "\n",
      "Collaborate on a solution, and stay up to date at: \n",
      "github.com/dswah/pyGAM/issues/163 \n",
      "\n",
      "  gam.summary()\n"
     ]
    }
   ],
   "source": [
    "gam = GAM(te(0, 2, n_splines = 5, lam = 10) + s(1, n_splines = 5, lam = 10) + s(3, n_splines = 5, lam = 10))\n",
    "gam.fit(x, y, weights = war_data['G'].values)\n",
    "gam.summary()"
   ]
  },
  {
   "cell_type": "code",
   "execution_count": 89,
   "metadata": {},
   "outputs": [],
   "source": [
    "age_lag_means = war_data.groupby(['Age'])['WAR_lag'].mean()"
   ]
  },
  {
   "cell_type": "code",
   "execution_count": 90,
   "metadata": {},
   "outputs": [
    {
     "data": {
      "image/png": "[encoded data removed]",
      "text/plain": [
       "<Figure size 640x480 with 1 Axes>"
      ]
     },
     "metadata": {},
     "output_type": "display_data"
    }
   ],
   "source": [
    "plt.figure()\n",
    "XX = gam.generate_X_grid(term = 0, n = 1000)\n",
    "XX[:, 1] = np.mean(war_data['WAR'])\n",
    "XX[:, 2] = np.subtract(np.floor(XX[:, 0]), 20.0)\n",
    "\n",
    "for i in range(21, 41):\n",
    "    tmp = [age_lag_means[x] for x in np.floor(XX[:, 0])]\n",
    "XX[:, 3] = tmp\n",
    "\n",
    "plt.plot(XX[:, 0], gam.predict(XX))\n",
    "plt.xticks(np.arange(20, 45, 5))\n",
    "plt.grid(True)\n",
    "plt.show()\n",
    "# plt.plot(XX[:, 0], gam.partial_dependence(term = 0, X = XX,   width = .95)[1], c = 'r', ls = '--')"
   ]
  },
  {
   "cell_type": "code",
   "execution_count": 91,
   "metadata": {},
   "outputs": [
    {
     "data": {
      "text/plain": [
       "1.4684121122599705"
      ]
     },
     "execution_count": 91,
     "metadata": {},
     "output_type": "execute_result"
    }
   ],
   "source": [
    "np.mean(war_data['WAR'])"
   ]
  },
  {
   "cell_type": "code",
   "execution_count": 92,
   "metadata": {},
   "outputs": [
    {
     "data": {
      "text/plain": [
       "1.9040903718079083"
      ]
     },
     "execution_count": 92,
     "metadata": {},
     "output_type": "execute_result"
    }
   ],
   "source": [
    "np.max(gam.predict(XX))"
   ]
  },
  {
   "cell_type": "code",
   "execution_count": 93,
   "metadata": {},
   "outputs": [
    {
     "data": {
      "text/plain": [
       "25.013013013013015"
      ]
     },
     "execution_count": 93,
     "metadata": {},
     "output_type": "execute_result"
    }
   ],
   "source": [
    "XX[np.argmax(gam.predict(XX)), 0]"
   ]
  },
  {
   "cell_type": "code",
   "execution_count": 94,
   "metadata": {},
   "outputs": [],
   "source": [
    "all_test_data = generate_test_data(war_data, test_data, 'WAR')"
   ]
  },
  {
   "cell_type": "code",
   "execution_count": 95,
   "metadata": {},
   "outputs": [
    {
     "data": {
      "text/html": [
       "<div>\n",
       "<style scoped>\n",
       "    .dataframe tbody tr th:only-of-type {\n",
       "        vertical-align: middle;\n",
       "    }\n",
       "\n",
       "    .dataframe tbody tr th {\n",
       "        vertical-align: top;\n",
       "    }\n",
       "\n",
       "    .dataframe thead th {\n",
       "        text-align: right;\n",
       "    }\n",
       "</style>\n",
       "<table border=\"1\" class=\"dataframe\">\n",
       "  <thead>\n",
       "    <tr style=\"text-align: right;\">\n",
       "      <th></th>\n",
       "      <th>IDfg</th>\n",
       "      <th>Season</th>\n",
       "      <th>Name</th>\n",
       "      <th>Age</th>\n",
       "      <th>G</th>\n",
       "      <th>PA</th>\n",
       "      <th>experience</th>\n",
       "      <th>WAR_lag</th>\n",
       "      <th>WAR</th>\n",
       "      <th>WAR_career_mean</th>\n",
       "    </tr>\n",
       "  </thead>\n",
       "  <tbody>\n",
       "    <tr>\n",
       "      <th>0</th>\n",
       "      <td>9256</td>\n",
       "      <td>2021</td>\n",
       "      <td>A.J. Pollock</td>\n",
       "      <td>33</td>\n",
       "      <td>117</td>\n",
       "      <td>422</td>\n",
       "      <td>8.0</td>\n",
       "      <td>0.5</td>\n",
       "      <td>3.2</td>\n",
       "      <td>3.438824</td>\n",
       "    </tr>\n",
       "    <tr>\n",
       "      <th>1</th>\n",
       "      <td>5297</td>\n",
       "      <td>2021</td>\n",
       "      <td>Aaron Hicks</td>\n",
       "      <td>31</td>\n",
       "      <td>32</td>\n",
       "      <td>126</td>\n",
       "      <td>8.0</td>\n",
       "      <td>0.6</td>\n",
       "      <td>0.1</td>\n",
       "      <td>1.874689</td>\n",
       "    </tr>\n",
       "    <tr>\n",
       "      <th>2</th>\n",
       "      <td>15640</td>\n",
       "      <td>2021</td>\n",
       "      <td>Aaron Judge</td>\n",
       "      <td>29</td>\n",
       "      <td>148</td>\n",
       "      <td>633</td>\n",
       "      <td>4.0</td>\n",
       "      <td>4.2</td>\n",
       "      <td>5.5</td>\n",
       "      <td>4.674286</td>\n",
       "    </tr>\n",
       "    <tr>\n",
       "      <th>3</th>\n",
       "      <td>5486</td>\n",
       "      <td>2021</td>\n",
       "      <td>Abraham Almonte</td>\n",
       "      <td>32</td>\n",
       "      <td>64</td>\n",
       "      <td>175</td>\n",
       "      <td>7.0</td>\n",
       "      <td>-0.8</td>\n",
       "      <td>-0.1</td>\n",
       "      <td>0.261153</td>\n",
       "    </tr>\n",
       "    <tr>\n",
       "      <th>4</th>\n",
       "      <td>13769</td>\n",
       "      <td>2021</td>\n",
       "      <td>Adalberto Mondesi</td>\n",
       "      <td>25</td>\n",
       "      <td>35</td>\n",
       "      <td>136</td>\n",
       "      <td>5.0</td>\n",
       "      <td>2.6</td>\n",
       "      <td>1.0</td>\n",
       "      <td>2.679292</td>\n",
       "    </tr>\n",
       "  </tbody>\n",
       "</table>\n",
       "</div>"
      ],
      "text/plain": [
       "    IDfg  Season               Name  Age    G   PA  experience  WAR_lag  WAR  \\\n",
       "0   9256    2021       A.J. Pollock   33  117  422         8.0      0.5  3.2   \n",
       "1   5297    2021        Aaron Hicks   31   32  126         8.0      0.6  0.1   \n",
       "2  15640    2021        Aaron Judge   29  148  633         4.0      4.2  5.5   \n",
       "3   5486    2021    Abraham Almonte   32   64  175         7.0     -0.8 -0.1   \n",
       "4  13769    2021  Adalberto Mondesi   25   35  136         5.0      2.6  1.0   \n",
       "\n",
       "   WAR_career_mean  \n",
       "0         3.438824  \n",
       "1         1.874689  \n",
       "2         4.674286  \n",
       "3         0.261153  \n",
       "4         2.679292  "
      ]
     },
     "execution_count": 95,
     "metadata": {},
     "output_type": "execute_result"
    }
   ],
   "source": [
    "all_test_data.head()"
   ]
  },
  {
   "cell_type": "code",
   "execution_count": 96,
   "metadata": {},
   "outputs": [
    {
     "data": {
      "text/plain": [
       "1.472874265005307"
      ]
     },
     "execution_count": 96,
     "metadata": {},
     "output_type": "execute_result"
    }
   ],
   "source": [
    "evaluate(all_test_data, 'WAR', gam)"
   ]
  },
  {
   "cell_type": "code",
   "execution_count": 98,
   "metadata": {},
   "outputs": [
    {
     "data": {
      "text/plain": [
       "(319, 10)"
      ]
     },
     "execution_count": 98,
     "metadata": {},
     "output_type": "execute_result"
    }
   ],
   "source": [
    "strong_test_data = all_test_data.loc[all_test_data['WAR_career_mean'] > 2.5, :]\n",
    "strong_test_data.shape"
   ]
  },
  {
   "cell_type": "code",
   "execution_count": 99,
   "metadata": {},
   "outputs": [
    {
     "data": {
      "text/html": [
       "<div>\n",
       "<style scoped>\n",
       "    .dataframe tbody tr th:only-of-type {\n",
       "        vertical-align: middle;\n",
       "    }\n",
       "\n",
       "    .dataframe tbody tr th {\n",
       "        vertical-align: top;\n",
       "    }\n",
       "\n",
       "    .dataframe thead th {\n",
       "        text-align: right;\n",
       "    }\n",
       "</style>\n",
       "<table border=\"1\" class=\"dataframe\">\n",
       "  <thead>\n",
       "    <tr style=\"text-align: right;\">\n",
       "      <th></th>\n",
       "      <th>IDfg</th>\n",
       "      <th>Season</th>\n",
       "      <th>Name</th>\n",
       "      <th>Age</th>\n",
       "      <th>G</th>\n",
       "      <th>PA</th>\n",
       "      <th>experience</th>\n",
       "      <th>WAR_lag</th>\n",
       "      <th>WAR</th>\n",
       "      <th>WAR_career_mean</th>\n",
       "    </tr>\n",
       "  </thead>\n",
       "  <tbody>\n",
       "    <tr>\n",
       "      <th>0</th>\n",
       "      <td>9256</td>\n",
       "      <td>2021</td>\n",
       "      <td>A.J. Pollock</td>\n",
       "      <td>33</td>\n",
       "      <td>117</td>\n",
       "      <td>422</td>\n",
       "      <td>8.0</td>\n",
       "      <td>0.5</td>\n",
       "      <td>3.2</td>\n",
       "      <td>3.438824</td>\n",
       "    </tr>\n",
       "    <tr>\n",
       "      <th>2</th>\n",
       "      <td>15640</td>\n",
       "      <td>2021</td>\n",
       "      <td>Aaron Judge</td>\n",
       "      <td>29</td>\n",
       "      <td>148</td>\n",
       "      <td>633</td>\n",
       "      <td>4.0</td>\n",
       "      <td>4.2</td>\n",
       "      <td>5.5</td>\n",
       "      <td>4.674286</td>\n",
       "    </tr>\n",
       "    <tr>\n",
       "      <th>4</th>\n",
       "      <td>13769</td>\n",
       "      <td>2021</td>\n",
       "      <td>Adalberto Mondesi</td>\n",
       "      <td>25</td>\n",
       "      <td>35</td>\n",
       "      <td>136</td>\n",
       "      <td>5.0</td>\n",
       "      <td>2.6</td>\n",
       "      <td>1.0</td>\n",
       "      <td>2.679292</td>\n",
       "    </tr>\n",
       "    <tr>\n",
       "      <th>6</th>\n",
       "      <td>11205</td>\n",
       "      <td>2021</td>\n",
       "      <td>Adam Eaton</td>\n",
       "      <td>32</td>\n",
       "      <td>84</td>\n",
       "      <td>288</td>\n",
       "      <td>9.0</td>\n",
       "      <td>2.0</td>\n",
       "      <td>-0.6</td>\n",
       "      <td>3.317559</td>\n",
       "    </tr>\n",
       "    <tr>\n",
       "      <th>12</th>\n",
       "      <td>17678</td>\n",
       "      <td>2021</td>\n",
       "      <td>Alex Bregman</td>\n",
       "      <td>27</td>\n",
       "      <td>91</td>\n",
       "      <td>400</td>\n",
       "      <td>5.0</td>\n",
       "      <td>8.3</td>\n",
       "      <td>2.1</td>\n",
       "      <td>7.045374</td>\n",
       "    </tr>\n",
       "  </tbody>\n",
       "</table>\n",
       "</div>"
      ],
      "text/plain": [
       "     IDfg  Season               Name  Age    G   PA  experience  WAR_lag  WAR  \\\n",
       "0    9256    2021       A.J. Pollock   33  117  422         8.0      0.5  3.2   \n",
       "2   15640    2021        Aaron Judge   29  148  633         4.0      4.2  5.5   \n",
       "4   13769    2021  Adalberto Mondesi   25   35  136         5.0      2.6  1.0   \n",
       "6   11205    2021         Adam Eaton   32   84  288         9.0      2.0 -0.6   \n",
       "12  17678    2021       Alex Bregman   27   91  400         5.0      8.3  2.1   \n",
       "\n",
       "    WAR_career_mean  \n",
       "0          3.438824  \n",
       "2          4.674286  \n",
       "4          2.679292  \n",
       "6          3.317559  \n",
       "12         7.045374  "
      ]
     },
     "execution_count": 99,
     "metadata": {},
     "output_type": "execute_result"
    }
   ],
   "source": [
    "strong_test_data.head()"
   ]
  },
  {
   "cell_type": "code",
   "execution_count": 100,
   "metadata": {},
   "outputs": [
    {
     "data": {
      "text/plain": [
       "1.771874569861796"
      ]
     },
     "execution_count": 100,
     "metadata": {},
     "output_type": "execute_result"
    }
   ],
   "source": [
    "evaluate(strong_test_data, 'WAR', gam)"
   ]
  },
  {
   "cell_type": "markdown",
   "metadata": {},
   "source": [
    "Both models are less accurate in predicting the performance of top players. However, these players are more important to MLB teams and are more likely to sign long-term contracts. Therefore, I will be working on creating aging curves for the top players. Also, I will explore whether their aging curves differ from those of average players."
   ]
  },
  {
   "cell_type": "markdown",
   "metadata": {},
   "source": [
    "### wRC+ Aging Curve for Top Players"
   ]
  },
  {
   "cell_type": "code",
   "execution_count": 11,
   "metadata": {},
   "outputs": [
    {
     "name": "stdout",
     "output_type": "stream",
     "text": [
      "(13540, 22)\n",
      "(1452, 22)\n"
     ]
    }
   ],
   "source": [
    "train_data, test_data = load_data(target = 'wRC+')\n",
    "print(train_data.shape)\n",
    "print(test_data.shape)"
   ]
  },
  {
   "cell_type": "code",
   "execution_count": 12,
   "metadata": {},
   "outputs": [
    {
     "name": "stdout",
     "output_type": "stream",
     "text": [
      "(3843, 10)\n"
     ]
    }
   ],
   "source": [
    "wrc_data = add_career_mean(train_data, 'wRC+')\n",
    "wrc_data = wrc_data.loc[wrc_data['wRC+_career_mean'] > 110, :]\n",
    "print(wrc_data.shape)"
   ]
  },
  {
   "cell_type": "code",
   "execution_count": 13,
   "metadata": {},
   "outputs": [],
   "source": [
    "features = ['Age', 'wRC+_career_mean', 'experience', 'wRC+_lag']\n",
    "target = 'wRC+'\n",
    "\n",
    "x, y = generate_data(wrc_data, feature_cols = features, target = target)"
   ]
  },
  {
   "cell_type": "code",
   "execution_count": 14,
   "metadata": {},
   "outputs": [
    {
     "name": "stdout",
     "output_type": "stream",
     "text": [
      "GAM                                                                                                       \n",
      "=============================================== ==========================================================\n",
      "Distribution:                        NormalDist Effective DoF:                                     18.1416\n",
      "Link Function:                     IdentityLink Log Likelihood:                                -26316.7125\n",
      "Number of Samples:                         3843 AIC:                                            52671.7082\n",
      "                                                AICc:                                           52671.9099\n",
      "                                                GCV:                                           180406.3036\n",
      "                                                Scale:                                         178873.9985\n",
      "                                                Pseudo R-Squared:                                   0.3518\n",
      "==========================================================================================================\n",
      "Feature Function                  Lambda               Rank         EDoF         P > x        Sig. Code   \n",
      "================================= ==================== ============ ============ ============ ============\n",
      "te(0, 2)                          [10 10]              25           11.3         1.11e-16     ***         \n",
      "s(1)                              [10]                 5            3.8          1.11e-16     ***         \n",
      "s(3)                              [10]                 5            3.1          1.11e-16     ***         \n",
      "intercept                                              1            0.0          1.11e-16     ***         \n",
      "==========================================================================================================\n",
      "Significance codes:  0 '***' 0.001 '**' 0.01 '*' 0.05 '.' 0.1 ' ' 1\n",
      "\n",
      "WARNING: Fitting splines and a linear function to a feature introduces a model identifiability problem\n",
      "         which can cause p-values to appear significant when they are not.\n",
      "\n",
      "WARNING: p-values calculated in this manner behave correctly for un-penalized models or models with\n",
      "         known smoothing parameters, but when smoothing parameters have been estimated, the p-values\n",
      "         are typically lower than they should be, meaning that the tests reject the null too readily.\n"
     ]
    },
    {
     "name": "stderr",
     "output_type": "stream",
     "text": [
      "C:\\Users\\citioplab\\AppData\\Local\\Temp\\ipykernel_21320\\1497089973.py:3: UserWarning: KNOWN BUG: p-values computed in this summary are likely much smaller than they should be. \n",
      " \n",
      "Please do not make inferences based on these values! \n",
      "\n",
      "Collaborate on a solution, and stay up to date at: \n",
      "github.com/dswah/pyGAM/issues/163 \n",
      "\n",
      "  gam.summary()\n"
     ]
    }
   ],
   "source": [
    "gam = GAM(te(0, 2, n_splines = 5, lam = 10) + s(1, n_splines = 5, lam = 10) + s(3, n_splines = 5, lam = 10))\n",
    "gam.fit(x, y, weights = wrc_data['PA'].values)\n",
    "gam.summary()"
   ]
  },
  {
   "cell_type": "code",
   "execution_count": 15,
   "metadata": {},
   "outputs": [],
   "source": [
    "age_lag_means = wrc_data.groupby(['Age'])['wRC+_lag'].mean()"
   ]
  },
  {
   "cell_type": "code",
   "execution_count": 17,
   "metadata": {},
   "outputs": [
    {
     "data": {
      "image/png": "[encoded data removed]",
      "text/plain": [
       "<Figure size 640x480 with 1 Axes>"
      ]
     },
     "metadata": {},
     "output_type": "display_data"
    }
   ],
   "source": [
    "plt.figure()\n",
    "XX = gam.generate_X_grid(term = 0, n = 1000)\n",
    "XX[:, 1] = np.mean(wrc_data['wRC+'])\n",
    "XX[:, 2] = np.subtract(np.floor(XX[:, 0]), 20.0)\n",
    "\n",
    "for i in range(21, 41):\n",
    "    tmp = [age_lag_means[x] for x in np.floor(XX[:, 0])]\n",
    "XX[:, 3] = tmp\n",
    "\n",
    "plt.plot(XX[:, 0], gam.predict(XX))\n",
    "plt.xticks(np.arange(20, 45, 5))\n",
    "plt.grid(True)\n",
    "plt.show()\n",
    "# plt.plot(XX[:, 0], gam.partial_dependence(term = 0, X = XX,   width = .95)[1], c = 'r', ls = '--')"
   ]
  },
  {
   "cell_type": "code",
   "execution_count": 18,
   "metadata": {},
   "outputs": [
    {
     "data": {
      "text/plain": [
       "127.32173128635289"
      ]
     },
     "execution_count": 18,
     "metadata": {},
     "output_type": "execute_result"
    }
   ],
   "source": [
    "np.max(gam.predict(XX))"
   ]
  },
  {
   "cell_type": "code",
   "execution_count": 19,
   "metadata": {},
   "outputs": [
    {
     "data": {
      "text/plain": [
       "26.002002002002"
      ]
     },
     "execution_count": 19,
     "metadata": {},
     "output_type": "execute_result"
    }
   ],
   "source": [
    "XX[np.argmax(gam.predict(XX)), 0]"
   ]
  },
  {
   "cell_type": "code",
   "execution_count": 21,
   "metadata": {},
   "outputs": [
    {
     "data": {
      "text/plain": [
       "(343, 10)"
      ]
     },
     "execution_count": 21,
     "metadata": {},
     "output_type": "execute_result"
    }
   ],
   "source": [
    "all_test_data = generate_test_data(wrc_data, test_data, 'wRC+')\n",
    "strong_test_data = all_test_data.loc[all_test_data['wRC+_career_mean'] > 110, :]\n",
    "strong_test_data.shape"
   ]
  },
  {
   "cell_type": "code",
   "execution_count": 22,
   "metadata": {},
   "outputs": [
    {
     "data": {
      "text/html": [
       "<div>\n",
       "<style scoped>\n",
       "    .dataframe tbody tr th:only-of-type {\n",
       "        vertical-align: middle;\n",
       "    }\n",
       "\n",
       "    .dataframe tbody tr th {\n",
       "        vertical-align: top;\n",
       "    }\n",
       "\n",
       "    .dataframe thead th {\n",
       "        text-align: right;\n",
       "    }\n",
       "</style>\n",
       "<table border=\"1\" class=\"dataframe\">\n",
       "  <thead>\n",
       "    <tr style=\"text-align: right;\">\n",
       "      <th></th>\n",
       "      <th>IDfg</th>\n",
       "      <th>Season</th>\n",
       "      <th>Name</th>\n",
       "      <th>Age</th>\n",
       "      <th>G</th>\n",
       "      <th>PA</th>\n",
       "      <th>experience</th>\n",
       "      <th>wRC+_lag</th>\n",
       "      <th>wRC+</th>\n",
       "      <th>wRC+_career_mean</th>\n",
       "    </tr>\n",
       "  </thead>\n",
       "  <tbody>\n",
       "    <tr>\n",
       "      <th>0</th>\n",
       "      <td>9256</td>\n",
       "      <td>2021</td>\n",
       "      <td>A.J. Pollock</td>\n",
       "      <td>33</td>\n",
       "      <td>117</td>\n",
       "      <td>422</td>\n",
       "      <td>8.0</td>\n",
       "      <td>107.0</td>\n",
       "      <td>137</td>\n",
       "      <td>117.510323</td>\n",
       "    </tr>\n",
       "    <tr>\n",
       "      <th>1</th>\n",
       "      <td>15640</td>\n",
       "      <td>2021</td>\n",
       "      <td>Aaron Judge</td>\n",
       "      <td>29</td>\n",
       "      <td>148</td>\n",
       "      <td>633</td>\n",
       "      <td>4.0</td>\n",
       "      <td>141.0</td>\n",
       "      <td>150</td>\n",
       "      <td>145.742857</td>\n",
       "    </tr>\n",
       "    <tr>\n",
       "      <th>2</th>\n",
       "      <td>11205</td>\n",
       "      <td>2021</td>\n",
       "      <td>Adam Eaton</td>\n",
       "      <td>32</td>\n",
       "      <td>84</td>\n",
       "      <td>288</td>\n",
       "      <td>9.0</td>\n",
       "      <td>108.0</td>\n",
       "      <td>68</td>\n",
       "      <td>114.373018</td>\n",
       "    </tr>\n",
       "    <tr>\n",
       "      <th>3</th>\n",
       "      <td>17678</td>\n",
       "      <td>2021</td>\n",
       "      <td>Alex Bregman</td>\n",
       "      <td>27</td>\n",
       "      <td>91</td>\n",
       "      <td>400</td>\n",
       "      <td>5.0</td>\n",
       "      <td>167.0</td>\n",
       "      <td>114</td>\n",
       "      <td>149.882731</td>\n",
       "    </tr>\n",
       "    <tr>\n",
       "      <th>4</th>\n",
       "      <td>12649</td>\n",
       "      <td>2021</td>\n",
       "      <td>Alex Dickerson</td>\n",
       "      <td>31</td>\n",
       "      <td>111</td>\n",
       "      <td>312</td>\n",
       "      <td>5.0</td>\n",
       "      <td>112.0</td>\n",
       "      <td>98</td>\n",
       "      <td>112.000000</td>\n",
       "    </tr>\n",
       "  </tbody>\n",
       "</table>\n",
       "</div>"
      ],
      "text/plain": [
       "    IDfg  Season            Name  Age    G   PA  experience  wRC+_lag  wRC+  \\\n",
       "0   9256    2021    A.J. Pollock   33  117  422         8.0     107.0   137   \n",
       "1  15640    2021     Aaron Judge   29  148  633         4.0     141.0   150   \n",
       "2  11205    2021      Adam Eaton   32   84  288         9.0     108.0    68   \n",
       "3  17678    2021    Alex Bregman   27   91  400         5.0     167.0   114   \n",
       "4  12649    2021  Alex Dickerson   31  111  312         5.0     112.0    98   \n",
       "\n",
       "   wRC+_career_mean  \n",
       "0        117.510323  \n",
       "1        145.742857  \n",
       "2        114.373018  \n",
       "3        149.882731  \n",
       "4        112.000000  "
      ]
     },
     "execution_count": 22,
     "metadata": {},
     "output_type": "execute_result"
    }
   ],
   "source": [
    "strong_test_data.head()"
   ]
  },
  {
   "cell_type": "code",
   "execution_count": 23,
   "metadata": {},
   "outputs": [
    {
     "data": {
      "text/plain": [
       "19.980275030103435"
      ]
     },
     "execution_count": 23,
     "metadata": {},
     "output_type": "execute_result"
    }
   ],
   "source": [
    "evaluate(strong_test_data, 'wRC+', gam)"
   ]
  },
  {
   "cell_type": "markdown",
   "metadata": {},
   "source": [
    "After I focused on modeling the top batters specifically, the model's performance improved. Again, according to this model, batters are expected to reach the peak of their hitting ability by age 26. In addition, this aging curve closely resembles the original aging curve. Therefore, I speculate that the decline process for top batters is actually quite similar to that of average batters. The key difference is that top batters tend to perform better at the beginning of their careers, which means it takes them longer to drop below league average performance."
   ]
  },
  {
   "cell_type": "markdown",
   "metadata": {},
   "source": [
    "### WAR Aging Curve for Top players"
   ]
  },
  {
   "cell_type": "code",
   "execution_count": 11,
   "metadata": {},
   "outputs": [
    {
     "name": "stdout",
     "output_type": "stream",
     "text": [
      "(13540, 22)\n",
      "(1452, 22)\n"
     ]
    }
   ],
   "source": [
    "train_data, test_data = load_data(target = 'WAR')\n",
    "print(train_data.shape)\n",
    "print(test_data.shape)"
   ]
  },
  {
   "cell_type": "code",
   "execution_count": 12,
   "metadata": {},
   "outputs": [
    {
     "name": "stdout",
     "output_type": "stream",
     "text": [
      "(3575, 10)\n"
     ]
    }
   ],
   "source": [
    "war_data = add_career_mean(train_data, 'WAR')\n",
    "war_data = war_data.loc[war_data['WAR_career_mean'] > 2.5, :]\n",
    "print(war_data.shape)"
   ]
  },
  {
   "cell_type": "code",
   "execution_count": 16,
   "metadata": {},
   "outputs": [],
   "source": [
    "features = ['Age', 'WAR_career_mean', 'experience', 'WAR_lag']\n",
    "target = 'WAR'\n",
    "\n",
    "x, y = generate_data(war_data, feature_cols = features, target = target)"
   ]
  },
  {
   "cell_type": "code",
   "execution_count": 17,
   "metadata": {},
   "outputs": [
    {
     "name": "stdout",
     "output_type": "stream",
     "text": [
      "GAM                                                                                                       \n",
      "=============================================== ==========================================================\n",
      "Distribution:                        NormalDist Effective DoF:                                     15.1238\n",
      "Link Function:                     IdentityLink Log Likelihood:                                  -8000.462\n",
      "Number of Samples:                         3575 AIC:                                            16033.1717\n",
      "                                                AICc:                                           16033.3269\n",
      "                                                GCV:                                              397.8642\n",
      "                                                Scale:                                            394.8357\n",
      "                                                Pseudo R-Squared:                                   0.3847\n",
      "==========================================================================================================\n",
      "Feature Function                  Lambda               Rank         EDoF         P > x        Sig. Code   \n",
      "================================= ==================== ============ ============ ============ ============\n",
      "te(0, 2)                          [10 10]              25           9.1          1.11e-16     ***         \n",
      "s(1)                              [10]                 5            3.2          1.11e-16     ***         \n",
      "s(3)                              [10]                 5            2.9          1.11e-16     ***         \n",
      "intercept                                              1            0.0          5.29e-08     ***         \n",
      "==========================================================================================================\n",
      "Significance codes:  0 '***' 0.001 '**' 0.01 '*' 0.05 '.' 0.1 ' ' 1\n",
      "\n",
      "WARNING: Fitting splines and a linear function to a feature introduces a model identifiability problem\n",
      "         which can cause p-values to appear significant when they are not.\n",
      "\n",
      "WARNING: p-values calculated in this manner behave correctly for un-penalized models or models with\n",
      "         known smoothing parameters, but when smoothing parameters have been estimated, the p-values\n",
      "         are typically lower than they should be, meaning that the tests reject the null too readily.\n"
     ]
    },
    {
     "name": "stderr",
     "output_type": "stream",
     "text": [
      "C:\\Users\\citioplab\\AppData\\Local\\Temp\\ipykernel_43492\\2913956295.py:3: UserWarning: KNOWN BUG: p-values computed in this summary are likely much smaller than they should be. \n",
      " \n",
      "Please do not make inferences based on these values! \n",
      "\n",
      "Collaborate on a solution, and stay up to date at: \n",
      "github.com/dswah/pyGAM/issues/163 \n",
      "\n",
      "  gam.summary()\n"
     ]
    }
   ],
   "source": [
    "gam = GAM(te(0, 2, n_splines = 5, lam = 10) + s(1, n_splines = 5, lam = 10) + s(3, n_splines = 5, lam = 10))\n",
    "gam.fit(x, y, weights = war_data['G'].values)\n",
    "gam.summary()"
   ]
  },
  {
   "cell_type": "code",
   "execution_count": 18,
   "metadata": {},
   "outputs": [],
   "source": [
    "age_lag_means = war_data.groupby(['Age'])['WAR_lag'].mean()"
   ]
  },
  {
   "cell_type": "code",
   "execution_count": 19,
   "metadata": {},
   "outputs": [
    {
     "data": {
      "image/png": "[encoded data removed]",
      "text/plain": [
       "<Figure size 640x480 with 1 Axes>"
      ]
     },
     "metadata": {},
     "output_type": "display_data"
    }
   ],
   "source": [
    "plt.figure()\n",
    "XX = gam.generate_X_grid(term = 0, n = 1000)\n",
    "XX[:, 1] = np.mean(war_data['WAR'])\n",
    "XX[:, 2] = np.subtract(np.floor(XX[:, 0]), 20.0)\n",
    "\n",
    "for i in range(21, 41):\n",
    "    tmp = [age_lag_means[x] for x in np.floor(XX[:, 0])]\n",
    "XX[:, 3] = tmp\n",
    "\n",
    "plt.plot(XX[:, 0], gam.predict(XX))\n",
    "plt.xticks(np.arange(20, 45, 5))\n",
    "plt.grid(True)\n",
    "plt.show()\n",
    "# plt.plot(XX[:, 0], gam.partial_dependence(term = 0, X = XX,   width = .95)[1], c = 'r', ls = '--')"
   ]
  },
  {
   "cell_type": "code",
   "execution_count": 20,
   "metadata": {},
   "outputs": [
    {
     "data": {
      "text/plain": [
       "4.115091446861253"
      ]
     },
     "execution_count": 20,
     "metadata": {},
     "output_type": "execute_result"
    }
   ],
   "source": [
    "np.max(gam.predict(XX))"
   ]
  },
  {
   "cell_type": "code",
   "execution_count": 21,
   "metadata": {},
   "outputs": [
    {
     "data": {
      "text/plain": [
       "26.002002002002"
      ]
     },
     "execution_count": 21,
     "metadata": {},
     "output_type": "execute_result"
    }
   ],
   "source": [
    "XX[np.argmax(gam.predict(XX)), 0]"
   ]
  },
  {
   "cell_type": "code",
   "execution_count": 22,
   "metadata": {},
   "outputs": [
    {
     "data": {
      "text/plain": [
       "(319, 10)"
      ]
     },
     "execution_count": 22,
     "metadata": {},
     "output_type": "execute_result"
    }
   ],
   "source": [
    "all_test_data = generate_test_data(war_data, test_data, 'WAR')\n",
    "strong_test_data = all_test_data.loc[all_test_data['WAR_career_mean'] > 2.5, :]\n",
    "strong_test_data.shape"
   ]
  },
  {
   "cell_type": "code",
   "execution_count": 23,
   "metadata": {},
   "outputs": [
    {
     "data": {
      "text/html": [
       "<div>\n",
       "<style scoped>\n",
       "    .dataframe tbody tr th:only-of-type {\n",
       "        vertical-align: middle;\n",
       "    }\n",
       "\n",
       "    .dataframe tbody tr th {\n",
       "        vertical-align: top;\n",
       "    }\n",
       "\n",
       "    .dataframe thead th {\n",
       "        text-align: right;\n",
       "    }\n",
       "</style>\n",
       "<table border=\"1\" class=\"dataframe\">\n",
       "  <thead>\n",
       "    <tr style=\"text-align: right;\">\n",
       "      <th></th>\n",
       "      <th>IDfg</th>\n",
       "      <th>Season</th>\n",
       "      <th>Name</th>\n",
       "      <th>Age</th>\n",
       "      <th>G</th>\n",
       "      <th>PA</th>\n",
       "      <th>experience</th>\n",
       "      <th>WAR_lag</th>\n",
       "      <th>WAR</th>\n",
       "      <th>WAR_career_mean</th>\n",
       "    </tr>\n",
       "  </thead>\n",
       "  <tbody>\n",
       "    <tr>\n",
       "      <th>0</th>\n",
       "      <td>9256</td>\n",
       "      <td>2021</td>\n",
       "      <td>A.J. Pollock</td>\n",
       "      <td>33</td>\n",
       "      <td>117</td>\n",
       "      <td>422</td>\n",
       "      <td>8.0</td>\n",
       "      <td>0.5</td>\n",
       "      <td>3.2</td>\n",
       "      <td>3.438824</td>\n",
       "    </tr>\n",
       "    <tr>\n",
       "      <th>1</th>\n",
       "      <td>15640</td>\n",
       "      <td>2021</td>\n",
       "      <td>Aaron Judge</td>\n",
       "      <td>29</td>\n",
       "      <td>148</td>\n",
       "      <td>633</td>\n",
       "      <td>4.0</td>\n",
       "      <td>4.2</td>\n",
       "      <td>5.5</td>\n",
       "      <td>4.674286</td>\n",
       "    </tr>\n",
       "    <tr>\n",
       "      <th>2</th>\n",
       "      <td>13769</td>\n",
       "      <td>2021</td>\n",
       "      <td>Adalberto Mondesi</td>\n",
       "      <td>25</td>\n",
       "      <td>35</td>\n",
       "      <td>136</td>\n",
       "      <td>5.0</td>\n",
       "      <td>2.6</td>\n",
       "      <td>1.0</td>\n",
       "      <td>2.679292</td>\n",
       "    </tr>\n",
       "    <tr>\n",
       "      <th>3</th>\n",
       "      <td>11205</td>\n",
       "      <td>2021</td>\n",
       "      <td>Adam Eaton</td>\n",
       "      <td>32</td>\n",
       "      <td>84</td>\n",
       "      <td>288</td>\n",
       "      <td>9.0</td>\n",
       "      <td>2.0</td>\n",
       "      <td>-0.6</td>\n",
       "      <td>3.317559</td>\n",
       "    </tr>\n",
       "    <tr>\n",
       "      <th>4</th>\n",
       "      <td>17678</td>\n",
       "      <td>2021</td>\n",
       "      <td>Alex Bregman</td>\n",
       "      <td>27</td>\n",
       "      <td>91</td>\n",
       "      <td>400</td>\n",
       "      <td>5.0</td>\n",
       "      <td>8.3</td>\n",
       "      <td>2.1</td>\n",
       "      <td>7.045374</td>\n",
       "    </tr>\n",
       "  </tbody>\n",
       "</table>\n",
       "</div>"
      ],
      "text/plain": [
       "    IDfg  Season               Name  Age    G   PA  experience  WAR_lag  WAR  \\\n",
       "0   9256    2021       A.J. Pollock   33  117  422         8.0      0.5  3.2   \n",
       "1  15640    2021        Aaron Judge   29  148  633         4.0      4.2  5.5   \n",
       "2  13769    2021  Adalberto Mondesi   25   35  136         5.0      2.6  1.0   \n",
       "3  11205    2021         Adam Eaton   32   84  288         9.0      2.0 -0.6   \n",
       "4  17678    2021       Alex Bregman   27   91  400         5.0      8.3  2.1   \n",
       "\n",
       "   WAR_career_mean  \n",
       "0         3.438824  \n",
       "1         4.674286  \n",
       "2         2.679292  \n",
       "3         3.317559  \n",
       "4         7.045374  "
      ]
     },
     "execution_count": 23,
     "metadata": {},
     "output_type": "execute_result"
    }
   ],
   "source": [
    "strong_test_data.head()"
   ]
  },
  {
   "cell_type": "code",
   "execution_count": 24,
   "metadata": {},
   "outputs": [
    {
     "data": {
      "text/plain": [
       "1.746016489662477"
      ]
     },
     "execution_count": 24,
     "metadata": {},
     "output_type": "execute_result"
    }
   ],
   "source": [
    "evaluate(strong_test_data, 'WAR', gam)"
   ]
  },
  {
   "cell_type": "markdown",
   "metadata": {},
   "source": [
    "I'm not sure why these top position players peaked in WAR at 26 years old, a year later than the previous WAR aging curve predicted. Consequently, I explored whether top position players are slower to reach their peak age in defensive contributions."
   ]
  },
  {
   "cell_type": "code",
   "execution_count": 15,
   "metadata": {},
   "outputs": [],
   "source": [
    "train_data, test_data = load_data(target = 'WAR')\n",
    "war_data = add_career_mean(train_data, 'WAR')\n",
    "train_idx = (war_data['WAR_career_mean'] > 2.5).values"
   ]
  },
  {
   "cell_type": "markdown",
   "metadata": {},
   "source": [
    "#### Explore Denfensive Contribution"
   ]
  },
  {
   "cell_type": "code",
   "execution_count": 16,
   "metadata": {},
   "outputs": [],
   "source": [
    "train_data, test_data = load_data(target = 'Def')\n",
    "def_data = add_career_mean(train_data, 'Def')\n",
    "def_data = def_data.loc[train_idx, :]"
   ]
  },
  {
   "cell_type": "code",
   "execution_count": 17,
   "metadata": {},
   "outputs": [],
   "source": [
    "features = ['Age', 'Def_career_mean', 'experience', 'Def_lag']\n",
    "target = 'Def'\n",
    "\n",
    "x, y = generate_data(def_data, feature_cols = features, target = target)"
   ]
  },
  {
   "cell_type": "code",
   "execution_count": 18,
   "metadata": {},
   "outputs": [
    {
     "name": "stdout",
     "output_type": "stream",
     "text": [
      "GAM                                                                                                       \n",
      "=============================================== ==========================================================\n",
      "Distribution:                        NormalDist Effective DoF:                                     15.4454\n",
      "Link Function:                     IdentityLink Log Likelihood:                                -17536.9482\n",
      "Number of Samples:                         3575 AIC:                                            35106.7873\n",
      "                                                AICc:                                           35106.9486\n",
      "                                                GCV:                                             6722.3951\n",
      "                                                Scale:                                           6670.1372\n",
      "                                                Pseudo R-Squared:                                   0.6068\n",
      "==========================================================================================================\n",
      "Feature Function                  Lambda               Rank         EDoF         P > x        Sig. Code   \n",
      "================================= ==================== ============ ============ ============ ============\n",
      "te(0, 2)                          [10 10]              25           9.1          1.11e-16     ***         \n",
      "s(1)                              [10]                 5            3.5          1.11e-16     ***         \n",
      "s(3)                              [10]                 5            2.9          1.11e-16     ***         \n",
      "intercept                                              1            0.0          1.71e-01                 \n",
      "==========================================================================================================\n",
      "Significance codes:  0 '***' 0.001 '**' 0.01 '*' 0.05 '.' 0.1 ' ' 1\n",
      "\n",
      "WARNING: Fitting splines and a linear function to a feature introduces a model identifiability problem\n",
      "         which can cause p-values to appear significant when they are not.\n",
      "\n",
      "WARNING: p-values calculated in this manner behave correctly for un-penalized models or models with\n",
      "         known smoothing parameters, but when smoothing parameters have been estimated, the p-values\n",
      "         are typically lower than they should be, meaning that the tests reject the null too readily.\n"
     ]
    },
    {
     "name": "stderr",
     "output_type": "stream",
     "text": [
      "C:\\Users\\citioplab\\AppData\\Local\\Temp\\ipykernel_83920\\1717189650.py:3: UserWarning: KNOWN BUG: p-values computed in this summary are likely much smaller than they should be. \n",
      " \n",
      "Please do not make inferences based on these values! \n",
      "\n",
      "Collaborate on a solution, and stay up to date at: \n",
      "github.com/dswah/pyGAM/issues/163 \n",
      "\n",
      "  gam.summary()\n"
     ]
    }
   ],
   "source": [
    "gam = GAM(te(0, 2, n_splines = 5, lam = 10) + s(1, n_splines = 5, lam = 10) + s(3, n_splines = 5, lam = 10))\n",
    "gam.fit(x, y, weights = def_data['G'].values)\n",
    "gam.summary()"
   ]
  },
  {
   "cell_type": "code",
   "execution_count": 19,
   "metadata": {},
   "outputs": [],
   "source": [
    "age_lag_means = def_data.groupby(['Age'])['Def_lag'].mean()"
   ]
  },
  {
   "cell_type": "code",
   "execution_count": 20,
   "metadata": {},
   "outputs": [
    {
     "data": {
      "image/png": "[encoded data removed]",
      "text/plain": [
       "<Figure size 640x480 with 1 Axes>"
      ]
     },
     "metadata": {},
     "output_type": "display_data"
    }
   ],
   "source": [
    "plt.figure()\n",
    "XX = gam.generate_X_grid(term = 0, n = 1000)\n",
    "XX[:, 1] = np.mean(def_data['Def'])\n",
    "XX[:, 2] = np.subtract(np.floor(XX[:, 0]), 20.0)\n",
    "\n",
    "for i in range(21, 41):\n",
    "    tmp = [age_lag_means[x] for x in np.floor(XX[:, 0])]\n",
    "XX[:, 3] = tmp\n",
    "\n",
    "plt.plot(XX[:, 0], gam.predict(XX))\n",
    "plt.xticks(np.arange(20, 45, 5))\n",
    "plt.grid(True)\n",
    "plt.show()\n",
    "# plt.plot(XX[:, 0], gam.partial_dependence(term = 0, X = XX,   width = .95)[1], c = 'r', ls = '--')"
   ]
  },
  {
   "cell_type": "code",
   "execution_count": 21,
   "metadata": {},
   "outputs": [
    {
     "data": {
      "text/plain": [
       "2.623838786727177"
      ]
     },
     "execution_count": 21,
     "metadata": {},
     "output_type": "execute_result"
    }
   ],
   "source": [
    "np.max(gam.predict(XX))"
   ]
  },
  {
   "cell_type": "code",
   "execution_count": 22,
   "metadata": {},
   "outputs": [
    {
     "data": {
      "text/plain": [
       "23.814814814814817"
      ]
     },
     "execution_count": 22,
     "metadata": {},
     "output_type": "execute_result"
    }
   ],
   "source": [
    "XX[np.argmax(gam.predict(XX)), 0]"
   ]
  },
  {
   "cell_type": "code",
   "execution_count": 23,
   "metadata": {},
   "outputs": [
    {
     "data": {
      "text/plain": [
       "(319, 10)"
      ]
     },
     "execution_count": 23,
     "metadata": {},
     "output_type": "execute_result"
    }
   ],
   "source": [
    "all_test_data = generate_test_data(def_data, test_data, 'Def')\n",
    "strong_test_data = all_test_data.copy()\n",
    "strong_test_data.shape"
   ]
  },
  {
   "cell_type": "code",
   "execution_count": 24,
   "metadata": {},
   "outputs": [
    {
     "data": {
      "text/plain": [
       "4.478429956573677"
      ]
     },
     "execution_count": 24,
     "metadata": {},
     "output_type": "execute_result"
    }
   ],
   "source": [
    "evaluate(strong_test_data, 'Def', gam)"
   ]
  },
  {
   "cell_type": "markdown",
   "metadata": {},
   "source": [
    "The aging curve indicates that top position players will peak defensively around age 24, nearly a year later than previously predicted. I consider that this is why their WAR peaked a year later."
   ]
  },
  {
   "cell_type": "markdown",
   "metadata": {},
   "source": [
    "To ensure accuracy, I verified if their attacking ability aging curve aligned with the previous two models."
   ]
  },
  {
   "cell_type": "code",
   "execution_count": 25,
   "metadata": {},
   "outputs": [],
   "source": [
    "train_data, test_data = load_data(target = 'wRC+')\n",
    "wrc_data = add_career_mean(train_data, 'wRC+')\n",
    "wrc_data = wrc_data.loc[train_idx, :]"
   ]
  },
  {
   "cell_type": "code",
   "execution_count": 26,
   "metadata": {},
   "outputs": [],
   "source": [
    "features = ['Age', 'wRC+_career_mean', 'experience', 'wRC+_lag']\n",
    "target = 'wRC+'\n",
    "\n",
    "x, y = generate_data(wrc_data, feature_cols = features, target = target)"
   ]
  },
  {
   "cell_type": "code",
   "execution_count": 27,
   "metadata": {},
   "outputs": [
    {
     "name": "stdout",
     "output_type": "stream",
     "text": [
      "GAM                                                                                                       \n",
      "=============================================== ==========================================================\n",
      "Distribution:                        NormalDist Effective DoF:                                     17.8134\n",
      "Link Function:                     IdentityLink Log Likelihood:                                -24266.6342\n",
      "Number of Samples:                         3575 AIC:                                            48570.8953\n",
      "                                                AICc:                                            48571.105\n",
      "                                                GCV:                                           182549.3368\n",
      "                                                Scale:                                         180912.7827\n",
      "                                                Pseudo R-Squared:                                   0.4721\n",
      "==========================================================================================================\n",
      "Feature Function                  Lambda               Rank         EDoF         P > x        Sig. Code   \n",
      "================================= ==================== ============ ============ ============ ============\n",
      "te(0, 2)                          [10 10]              25           11.0         1.11e-16     ***         \n",
      "s(1)                              [10]                 5            3.7          1.11e-16     ***         \n",
      "s(3)                              [10]                 5            3.1          1.11e-16     ***         \n",
      "intercept                                              1            0.0          1.11e-16     ***         \n",
      "==========================================================================================================\n",
      "Significance codes:  0 '***' 0.001 '**' 0.01 '*' 0.05 '.' 0.1 ' ' 1\n",
      "\n",
      "WARNING: Fitting splines and a linear function to a feature introduces a model identifiability problem\n",
      "         which can cause p-values to appear significant when they are not.\n",
      "\n",
      "WARNING: p-values calculated in this manner behave correctly for un-penalized models or models with\n",
      "         known smoothing parameters, but when smoothing parameters have been estimated, the p-values\n",
      "         are typically lower than they should be, meaning that the tests reject the null too readily.\n"
     ]
    },
    {
     "name": "stderr",
     "output_type": "stream",
     "text": [
      "C:\\Users\\citioplab\\AppData\\Local\\Temp\\ipykernel_83920\\1497089973.py:3: UserWarning: KNOWN BUG: p-values computed in this summary are likely much smaller than they should be. \n",
      " \n",
      "Please do not make inferences based on these values! \n",
      "\n",
      "Collaborate on a solution, and stay up to date at: \n",
      "github.com/dswah/pyGAM/issues/163 \n",
      "\n",
      "  gam.summary()\n"
     ]
    }
   ],
   "source": [
    "gam = GAM(te(0, 2, n_splines = 5, lam = 10) + s(1, n_splines = 5, lam = 10) + s(3, n_splines = 5, lam = 10))\n",
    "gam.fit(x, y, weights = wrc_data['PA'].values)\n",
    "gam.summary()"
   ]
  },
  {
   "cell_type": "code",
   "execution_count": 29,
   "metadata": {},
   "outputs": [],
   "source": [
    "age_lag_means = wrc_data.groupby(['Age'])['wRC+_lag'].mean()"
   ]
  },
  {
   "cell_type": "code",
   "execution_count": 30,
   "metadata": {},
   "outputs": [
    {
     "data": {
      "image/png": "[encoded data removed]",
      "text/plain": [
       "<Figure size 640x480 with 1 Axes>"
      ]
     },
     "metadata": {},
     "output_type": "display_data"
    }
   ],
   "source": [
    "plt.figure()\n",
    "XX = gam.generate_X_grid(term = 0, n = 1000)\n",
    "XX[:, 1] = np.mean(wrc_data['wRC+'])\n",
    "XX[:, 2] = np.subtract(np.floor(XX[:, 0]), 20.0)\n",
    "\n",
    "for i in range(21, 41):\n",
    "    tmp = [age_lag_means[x] for x in np.floor(XX[:, 0])]\n",
    "XX[:, 3] = tmp\n",
    "\n",
    "plt.plot(XX[:, 0], gam.predict(XX))\n",
    "plt.xticks(np.arange(20, 45, 5))\n",
    "plt.grid(True)\n",
    "plt.show()\n",
    "# plt.plot(XX[:, 0], gam.partial_dependence(term = 0, X = XX,   width = .95)[1], c = 'r', ls = '--')"
   ]
  },
  {
   "cell_type": "code",
   "execution_count": 31,
   "metadata": {},
   "outputs": [
    {
     "data": {
      "text/plain": [
       "123.80528088848749"
      ]
     },
     "execution_count": 31,
     "metadata": {},
     "output_type": "execute_result"
    }
   ],
   "source": [
    "np.max(gam.predict(XX))"
   ]
  },
  {
   "cell_type": "code",
   "execution_count": 32,
   "metadata": {},
   "outputs": [
    {
     "data": {
      "text/plain": [
       "26.002002002002"
      ]
     },
     "execution_count": 32,
     "metadata": {},
     "output_type": "execute_result"
    }
   ],
   "source": [
    "XX[np.argmax(gam.predict(XX)), 0]"
   ]
  },
  {
   "cell_type": "code",
   "execution_count": 33,
   "metadata": {},
   "outputs": [
    {
     "data": {
      "text/plain": [
       "(319, 10)"
      ]
     },
     "execution_count": 33,
     "metadata": {},
     "output_type": "execute_result"
    }
   ],
   "source": [
    "all_test_data = generate_test_data(wrc_data, test_data, 'wRC+')\n",
    "strong_test_data = all_test_data.copy()\n",
    "strong_test_data.shape"
   ]
  },
  {
   "cell_type": "code",
   "execution_count": 34,
   "metadata": {},
   "outputs": [
    {
     "data": {
      "text/plain": [
       "20.24151865002655"
      ]
     },
     "execution_count": 34,
     "metadata": {},
     "output_type": "execute_result"
    }
   ],
   "source": [
    "evaluate(strong_test_data, 'wRC+', gam)"
   ]
  },
  {
   "cell_type": "markdown",
   "metadata": {},
   "source": [
    "This aging curve resembles the previous two. Thus, my earlier reasoning should still hold."
   ]
  }
 ],
 "metadata": {
  "kernelspec": {
   "display_name": "plant_venv",
   "language": "python",
   "name": "python3"
  },
  "language_info": {
   "codemirror_mode": {
    "name": "ipython",
    "version": 3
   },
   "file_extension": ".py",
   "mimetype": "text/x-python",
   "name": "python",
   "nbconvert_exporter": "python",
   "pygments_lexer": "ipython3",
   "version": "3.11.0"
  }
 },
 "nbformat": 4,
 "nbformat_minor": 2
}
