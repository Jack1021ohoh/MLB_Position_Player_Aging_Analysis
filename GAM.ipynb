{
 "cells": [
  {
   "cell_type": "code",
   "execution_count": 1,
   "metadata": {},
   "outputs": [],
   "source": [
    "import pandas as pd\n",
    "import numpy as np\n",
    "import matplotlib.pyplot as plt\n",
    "from sklearn.metrics import mean_absolute_error\n",
    "from pygam import GAM, s, f, te, l"
   ]
  },
  {
   "cell_type": "markdown",
   "metadata": {},
   "source": [
    "### Functions"
   ]
  },
  {
   "cell_type": "code",
   "execution_count": 2,
   "metadata": {},
   "outputs": [],
   "source": [
    "def centralize_data(data, col):\n",
    "    wm = lambda x: np.average(x, weights = data.loc[x.index, 'PA'])\n",
    "    cols = ['IDfg', 'Season', 'Name', 'Age', 'PA', 'experience'] + [col]\n",
    "    df = data.loc[:, cols]\n",
    "\n",
    "    mean_results = df.groupby(['Season']).agg(weighted_mean = (col, wm))\n",
    "    mean_results = mean_results.reset_index()\n",
    "    df = df.merge(mean_results, on = 'Season')\n",
    "    df[col + '_centralized'] = np.subtract(df[col], df['weighted_mean'])\n",
    "\n",
    "    return df"
   ]
  },
  {
   "cell_type": "code",
   "execution_count": 3,
   "metadata": {},
   "outputs": [],
   "source": [
    "def add_career_mean(data, col):\n",
    "    cols = ['IDfg', 'Season', 'Name', 'Age', 'G', 'PA', 'experience'] + [col, col + '_lag']\n",
    "    df = data.loc[:, cols]\n",
    "    wm = lambda x: np.average(x, weights = df.loc[x.index, 'PA'])\n",
    "\n",
    "    mean_result = df.groupby(['IDfg']).agg(weighted_mean = (col, wm))\n",
    "    mean_result = mean_result.reset_index()\n",
    "    mean_result.columns = ['IDfg', col + '_career_mean']\n",
    "    df = df.merge(mean_result, on = 'IDfg', how = 'left')\n",
    "\n",
    "    return df"
   ]
  },
  {
   "cell_type": "code",
   "execution_count": 4,
   "metadata": {},
   "outputs": [],
   "source": [
    "def add_experience(data):\n",
    "    tmp_df = data.groupby(['IDfg'])\n",
    "    data['experience'] = tmp_df['Season'].diff().fillna(0.0)\n",
    "    data['experience'] = data.groupby(['IDfg'])['experience'].cumsum()\n",
    "\n",
    "    return data"
   ]
  },
  {
   "cell_type": "code",
   "execution_count": 5,
   "metadata": {},
   "outputs": [],
   "source": [
    "def add_lag(data, col):\n",
    "    tmp_df = data.groupby(['IDfg'])\n",
    "    data[col + '_lag'] = tmp_df[col].shift(1)\n",
    "    data = data.dropna()\n",
    "\n",
    "    return data"
   ]
  },
  {
   "cell_type": "code",
   "execution_count": 6,
   "metadata": {},
   "outputs": [],
   "source": [
    "def load_data(target, centralized = False):\n",
    "    train_data = pd.read_csv('./data/hitter_train_data.csv')\n",
    "    test_data = pd.read_csv('./data/hitter_test_data.csv')\n",
    "    \n",
    "    train_data = train_data.loc[(train_data['Age'] >= 20).values & (train_data['Age'] <= 40).values, :]\n",
    "    test_data = test_data.loc[(test_data['Age'] >= 20).values & (test_data['Age'] <= 40).values, :]\n",
    "\n",
    "    train_data = train_data.sort_values(by = ['Season', 'Name']).reset_index(drop = True)\n",
    "    test_data = test_data.sort_values(by = ['Season', 'Name']).reset_index(drop = True)\n",
    "\n",
    "    all_data = pd.concat([train_data, test_data])\n",
    "    all_data = all_data.reset_index(drop = True)\n",
    "    all_data = add_experience(all_data)\n",
    "    \n",
    "    if centralized:\n",
    "        all_data = centralize_data(all_data, target)\n",
    "        all_data = add_lag(all_data, col = target + '_centralized')\n",
    "    else:\n",
    "        all_data = add_lag(all_data, col = target)\n",
    "\n",
    "    train_data = all_data.loc[all_data['Season'] < 2020, :]\n",
    "    test_data = all_data.loc[all_data['Season'] > 2020, :]\n",
    "\n",
    "    return train_data, test_data"
   ]
  },
  {
   "cell_type": "code",
   "execution_count": 7,
   "metadata": {},
   "outputs": [],
   "source": [
    "def generate_data(data, feature_cols, target):\n",
    "    x = data.loc[:, feature_cols].values\n",
    "    y = data[target].values\n",
    "\n",
    "    return x, y"
   ]
  },
  {
   "cell_type": "code",
   "execution_count": 8,
   "metadata": {},
   "outputs": [],
   "source": [
    "def generate_test_data(train_data, test_data, col):\n",
    "    train_cols = ['IDfg', col + '_career_mean']\n",
    "    test_cols = ['IDfg', 'Season', \"Name\", 'Age', 'G', 'PA', 'experience', col + '_lag', col]\n",
    "\n",
    "    train_df = train_data.loc[:, train_cols]\n",
    "    train_df = train_df.drop_duplicates()\n",
    "    test_df = test_data.loc[:, test_cols]\n",
    "\n",
    "    all_test_data = test_df.merge(train_df, on = 'IDfg', how = 'left')\n",
    "    all_test_data = all_test_data.dropna()\n",
    "    all_test_data = all_test_data.reset_index(drop = True)\n",
    "    \n",
    "    return all_test_data"
   ]
  },
  {
   "cell_type": "code",
   "execution_count": 9,
   "metadata": {},
   "outputs": [],
   "source": [
    "def evaluate(data, target, model):\n",
    "    feature_cols = ['Age', target + '_career_mean', 'experience', target + '_lag']\n",
    "    test_x, test_y = generate_data(data, feature_cols, target)\n",
    "    y_preds = model.predict(test_x)\n",
    "    mae_result = mean_absolute_error(test_y, y_preds, sample_weight = data['PA'].values)\n",
    "\n",
    "    return mae_result"
   ]
  },
  {
   "cell_type": "code",
   "execution_count": 10,
   "metadata": {},
   "outputs": [],
   "source": [
    "def inference(data, target, model):\n",
    "    inference_df = data.copy()\n",
    "    feature_cols = ['Age', target + '_career_mean', 'experience', target + '_lag']\n",
    "    test_x, test_y = generate_data(data, feature_cols, target)\n",
    "    y_preds = model.predict(test_x)\n",
    "    inference_df['prediction'] = y_preds\n",
    "\n",
    "    return inference_df"
   ]
  },
  {
   "cell_type": "markdown",
   "metadata": {},
   "source": [
    "### OPS Aging Curve"
   ]
  },
  {
   "cell_type": "code",
   "execution_count": 10,
   "metadata": {},
   "outputs": [],
   "source": [
    "train_data, test_data = load_data(target = 'OPS', centralized = True)"
   ]
  },
  {
   "cell_type": "code",
   "execution_count": 11,
   "metadata": {},
   "outputs": [
    {
     "name": "stdout",
     "output_type": "stream",
     "text": [
      "(13636, 10)\n",
      "(1463, 10)\n"
     ]
    }
   ],
   "source": [
    "print(train_data.shape)\n",
    "print(test_data.shape)"
   ]
  },
  {
   "cell_type": "code",
   "execution_count": 12,
   "metadata": {},
   "outputs": [
    {
     "data": {
      "text/html": [
       "<div>\n",
       "<style scoped>\n",
       "    .dataframe tbody tr th:only-of-type {\n",
       "        vertical-align: middle;\n",
       "    }\n",
       "\n",
       "    .dataframe tbody tr th {\n",
       "        vertical-align: top;\n",
       "    }\n",
       "\n",
       "    .dataframe thead th {\n",
       "        text-align: right;\n",
       "    }\n",
       "</style>\n",
       "<table border=\"1\" class=\"dataframe\">\n",
       "  <thead>\n",
       "    <tr style=\"text-align: right;\">\n",
       "      <th></th>\n",
       "      <th>IDfg</th>\n",
       "      <th>Season</th>\n",
       "      <th>Name</th>\n",
       "      <th>Age</th>\n",
       "      <th>PA</th>\n",
       "      <th>experience</th>\n",
       "      <th>OPS_centralized</th>\n",
       "      <th>OPS_centralized_lag</th>\n",
       "      <th>OPS_centralized_career_mean</th>\n",
       "    </tr>\n",
       "  </thead>\n",
       "  <tbody>\n",
       "    <tr>\n",
       "      <th>0</th>\n",
       "      <td>1001649</td>\n",
       "      <td>1981</td>\n",
       "      <td>Al Bumbry</td>\n",
       "      <td>34</td>\n",
       "      <td>451</td>\n",
       "      <td>1.0</td>\n",
       "      <td>-0.013428</td>\n",
       "      <td>0.095313</td>\n",
       "      <td>-0.062347</td>\n",
       "    </tr>\n",
       "    <tr>\n",
       "      <th>1</th>\n",
       "      <td>1002689</td>\n",
       "      <td>1981</td>\n",
       "      <td>Al Cowens</td>\n",
       "      <td>29</td>\n",
       "      <td>284</td>\n",
       "      <td>1.0</td>\n",
       "      <td>-0.041428</td>\n",
       "      <td>-0.045687</td>\n",
       "      <td>0.000637</td>\n",
       "    </tr>\n",
       "    <tr>\n",
       "      <th>2</th>\n",
       "      <td>1009773</td>\n",
       "      <td>1981</td>\n",
       "      <td>Al Oliver</td>\n",
       "      <td>34</td>\n",
       "      <td>448</td>\n",
       "      <td>1.0</td>\n",
       "      <td>0.050572</td>\n",
       "      <td>0.108313</td>\n",
       "      <td>0.051368</td>\n",
       "    </tr>\n",
       "    <tr>\n",
       "      <th>3</th>\n",
       "      <td>1014234</td>\n",
       "      <td>1981</td>\n",
       "      <td>Al Woods</td>\n",
       "      <td>27</td>\n",
       "      <td>317</td>\n",
       "      <td>1.0</td>\n",
       "      <td>-0.108428</td>\n",
       "      <td>0.114313</td>\n",
       "      <td>-0.098232</td>\n",
       "    </tr>\n",
       "    <tr>\n",
       "      <th>4</th>\n",
       "      <td>1000336</td>\n",
       "      <td>1981</td>\n",
       "      <td>Alan Ashby</td>\n",
       "      <td>29</td>\n",
       "      <td>296</td>\n",
       "      <td>1.0</td>\n",
       "      <td>0.016572</td>\n",
       "      <td>-0.064687</td>\n",
       "      <td>0.000836</td>\n",
       "    </tr>\n",
       "  </tbody>\n",
       "</table>\n",
       "</div>"
      ],
      "text/plain": [
       "      IDfg  Season        Name  Age   PA  experience  OPS_centralized  \\\n",
       "0  1001649    1981   Al Bumbry   34  451         1.0        -0.013428   \n",
       "1  1002689    1981   Al Cowens   29  284         1.0        -0.041428   \n",
       "2  1009773    1981   Al Oliver   34  448         1.0         0.050572   \n",
       "3  1014234    1981    Al Woods   27  317         1.0        -0.108428   \n",
       "4  1000336    1981  Alan Ashby   29  296         1.0         0.016572   \n",
       "\n",
       "   OPS_centralized_lag  OPS_centralized_career_mean  \n",
       "0             0.095313                    -0.062347  \n",
       "1            -0.045687                     0.000637  \n",
       "2             0.108313                     0.051368  \n",
       "3             0.114313                    -0.098232  \n",
       "4            -0.064687                     0.000836  "
      ]
     },
     "execution_count": 12,
     "metadata": {},
     "output_type": "execute_result"
    }
   ],
   "source": [
    "ops_data = add_career_mean(train_data, 'OPS_centralized')\n",
    "ops_data.head()"
   ]
  },
  {
   "cell_type": "code",
   "execution_count": 13,
   "metadata": {},
   "outputs": [],
   "source": [
    "features = ['Age', 'OPS_centralized_career_mean', 'experience', 'OPS_centralized_lag']\n",
    "target = 'OPS_centralized'\n",
    "\n",
    "x, y = generate_data(ops_data, feature_cols = features, target = target)"
   ]
  },
  {
   "cell_type": "code",
   "execution_count": 14,
   "metadata": {},
   "outputs": [
    {
     "name": "stdout",
     "output_type": "stream",
     "text": [
      "GAM                                                                                                       \n",
      "=============================================== ==========================================================\n",
      "Distribution:                        NormalDist Effective DoF:                                     19.5406\n",
      "Link Function:                     IdentityLink Log Likelihood:                              -1515765.1457\n",
      "Number of Samples:                        13636 AIC:                                          3031571.3727\n",
      "                                                AICc:                                         3031571.4376\n",
      "                                                GCV:                                                1.9276\n",
      "                                                Scale:                                              1.9226\n",
      "                                                Pseudo R-Squared:                                   0.6068\n",
      "==========================================================================================================\n",
      "Feature Function                  Lambda               Rank         EDoF         P > x        Sig. Code   \n",
      "================================= ==================== ============ ============ ============ ============\n",
      "te(0, 2)                          [10 10]              25           12.5         1.11e-16     ***         \n",
      "s(1)                              [10]                 5            3.5          1.11e-16     ***         \n",
      "s(3)                              [10]                 5            3.5          1.11e-16     ***         \n",
      "intercept                                              1            0.0          1.93e-02     *           \n",
      "==========================================================================================================\n",
      "Significance codes:  0 '***' 0.001 '**' 0.01 '*' 0.05 '.' 0.1 ' ' 1\n",
      "\n",
      "WARNING: Fitting splines and a linear function to a feature introduces a model identifiability problem\n",
      "         which can cause p-values to appear significant when they are not.\n",
      "\n",
      "WARNING: p-values calculated in this manner behave correctly for un-penalized models or models with\n",
      "         known smoothing parameters, but when smoothing parameters have been estimated, the p-values\n",
      "         are typically lower than they should be, meaning that the tests reject the null too readily.\n"
     ]
    },
    {
     "name": "stderr",
     "output_type": "stream",
     "text": [
      "C:\\Users\\citioplab\\AppData\\Local\\Temp\\ipykernel_44636\\2232424398.py:3: UserWarning: KNOWN BUG: p-values computed in this summary are likely much smaller than they should be. \n",
      " \n",
      "Please do not make inferences based on these values! \n",
      "\n",
      "Collaborate on a solution, and stay up to date at: \n",
      "github.com/dswah/pyGAM/issues/163 \n",
      "\n",
      "  gam.summary()\n"
     ]
    }
   ],
   "source": [
    "gam = GAM(te(0, 2, n_splines = 5, lam = 10) + s(1, n_splines = 5, lam = 10) + s(3, n_splines = 5, lam = 10))\n",
    "gam.fit(x, y, weights = ops_data['PA'].values)\n",
    "gam.summary()"
   ]
  },
  {
   "cell_type": "code",
   "execution_count": 15,
   "metadata": {},
   "outputs": [],
   "source": [
    "age_lag_means = ops_data.groupby(['Age'])['OPS_centralized_lag'].mean()"
   ]
  },
  {
   "cell_type": "code",
   "execution_count": 16,
   "metadata": {},
   "outputs": [
    {
     "data": {
      "image/png": "[encoded data removed]",
      "text/plain": [
       "<Figure size 640x480 with 1 Axes>"
      ]
     },
     "metadata": {},
     "output_type": "display_data"
    }
   ],
   "source": [
    "plt.figure()\n",
    "XX = gam.generate_X_grid(term = 0, n = 1000)\n",
    "XX[:, 2] = np.subtract(np.floor(XX[:, 0]), 20.0)\n",
    "\n",
    "for i in range(21, 41):\n",
    "    tmp = [age_lag_means[x] for x in np.floor(XX[:, 0])]\n",
    "XX[:, 3] = tmp\n",
    "\n",
    "plt.plot(XX[:, 0], gam.predict(XX))\n",
    "plt.xticks(np.arange(20, 45, 5))\n",
    "plt.grid(True)\n",
    "plt.show()\n",
    "# plt.plot(XX[:, 0], gam.partial_dependence(term = 0, X = XX,   width = .95)[1], c = 'r', ls = '--')"
   ]
  },
  {
   "cell_type": "code",
   "execution_count": 17,
   "metadata": {},
   "outputs": [
    {
     "data": {
      "text/plain": [
       "0.01851217318171569"
      ]
     },
     "execution_count": 17,
     "metadata": {},
     "output_type": "execute_result"
    }
   ],
   "source": [
    "np.max(gam.predict(XX))"
   ]
  },
  {
   "cell_type": "code",
   "execution_count": 18,
   "metadata": {},
   "outputs": [
    {
     "data": {
      "text/plain": [
       "26.002002002002"
      ]
     },
     "execution_count": 18,
     "metadata": {},
     "output_type": "execute_result"
    }
   ],
   "source": [
    "XX[np.argmax(gam.predict(XX)), 0]"
   ]
  },
  {
   "cell_type": "code",
   "execution_count": 19,
   "metadata": {},
   "outputs": [
    {
     "data": {
      "text/plain": [
       "(785, 9)"
      ]
     },
     "execution_count": 19,
     "metadata": {},
     "output_type": "execute_result"
    }
   ],
   "source": [
    "all_test_data = generate_test_data(ops_data, test_data, 'OPS_centralized')\n",
    "all_test_data.shape"
   ]
  },
  {
   "cell_type": "code",
   "execution_count": 20,
   "metadata": {},
   "outputs": [
    {
     "data": {
      "text/html": [
       "<div>\n",
       "<style scoped>\n",
       "    .dataframe tbody tr th:only-of-type {\n",
       "        vertical-align: middle;\n",
       "    }\n",
       "\n",
       "    .dataframe tbody tr th {\n",
       "        vertical-align: top;\n",
       "    }\n",
       "\n",
       "    .dataframe thead th {\n",
       "        text-align: right;\n",
       "    }\n",
       "</style>\n",
       "<table border=\"1\" class=\"dataframe\">\n",
       "  <thead>\n",
       "    <tr style=\"text-align: right;\">\n",
       "      <th></th>\n",
       "      <th>IDfg</th>\n",
       "      <th>Season</th>\n",
       "      <th>Name</th>\n",
       "      <th>Age</th>\n",
       "      <th>PA</th>\n",
       "      <th>experience</th>\n",
       "      <th>OPS_centralized_lag</th>\n",
       "      <th>OPS_centralized</th>\n",
       "      <th>OPS_centralized_career_mean</th>\n",
       "    </tr>\n",
       "  </thead>\n",
       "  <tbody>\n",
       "    <tr>\n",
       "      <th>0</th>\n",
       "      <td>9256</td>\n",
       "      <td>2021</td>\n",
       "      <td>A.J. Pollock</td>\n",
       "      <td>33</td>\n",
       "      <td>422</td>\n",
       "      <td>8.0</td>\n",
       "      <td>0.016220</td>\n",
       "      <td>0.144419</td>\n",
       "      <td>0.074625</td>\n",
       "    </tr>\n",
       "    <tr>\n",
       "      <th>1</th>\n",
       "      <td>5297</td>\n",
       "      <td>2021</td>\n",
       "      <td>Aaron Hicks</td>\n",
       "      <td>31</td>\n",
       "      <td>126</td>\n",
       "      <td>8.0</td>\n",
       "      <td>-0.009780</td>\n",
       "      <td>-0.120581</td>\n",
       "      <td>-0.002902</td>\n",
       "    </tr>\n",
       "    <tr>\n",
       "      <th>2</th>\n",
       "      <td>15640</td>\n",
       "      <td>2021</td>\n",
       "      <td>Aaron Judge</td>\n",
       "      <td>29</td>\n",
       "      <td>633</td>\n",
       "      <td>4.0</td>\n",
       "      <td>0.142220</td>\n",
       "      <td>0.168419</td>\n",
       "      <td>0.158497</td>\n",
       "    </tr>\n",
       "    <tr>\n",
       "      <th>3</th>\n",
       "      <td>5486</td>\n",
       "      <td>2021</td>\n",
       "      <td>Abraham Almonte</td>\n",
       "      <td>32</td>\n",
       "      <td>175</td>\n",
       "      <td>7.0</td>\n",
       "      <td>-0.201894</td>\n",
       "      <td>-0.017581</td>\n",
       "      <td>-0.082472</td>\n",
       "    </tr>\n",
       "    <tr>\n",
       "      <th>4</th>\n",
       "      <td>13769</td>\n",
       "      <td>2021</td>\n",
       "      <td>Adalberto Mondesi</td>\n",
       "      <td>25</td>\n",
       "      <td>136</td>\n",
       "      <td>5.0</td>\n",
       "      <td>-0.063780</td>\n",
       "      <td>-0.024581</td>\n",
       "      <td>-0.015457</td>\n",
       "    </tr>\n",
       "  </tbody>\n",
       "</table>\n",
       "</div>"
      ],
      "text/plain": [
       "    IDfg  Season               Name  Age   PA  experience  \\\n",
       "0   9256    2021       A.J. Pollock   33  422         8.0   \n",
       "1   5297    2021        Aaron Hicks   31  126         8.0   \n",
       "2  15640    2021        Aaron Judge   29  633         4.0   \n",
       "3   5486    2021    Abraham Almonte   32  175         7.0   \n",
       "4  13769    2021  Adalberto Mondesi   25  136         5.0   \n",
       "\n",
       "   OPS_centralized_lag  OPS_centralized  OPS_centralized_career_mean  \n",
       "0             0.016220         0.144419                     0.074625  \n",
       "1            -0.009780        -0.120581                    -0.002902  \n",
       "2             0.142220         0.168419                     0.158497  \n",
       "3            -0.201894        -0.017581                    -0.082472  \n",
       "4            -0.063780        -0.024581                    -0.015457  "
      ]
     },
     "execution_count": 20,
     "metadata": {},
     "output_type": "execute_result"
    }
   ],
   "source": [
    "all_test_data.head()"
   ]
  },
  {
   "cell_type": "code",
   "execution_count": 21,
   "metadata": {},
   "outputs": [
    {
     "data": {
      "text/plain": [
       "0.0752545987331969"
      ]
     },
     "execution_count": 21,
     "metadata": {},
     "output_type": "execute_result"
    }
   ],
   "source": [
    "evaluate(all_test_data, 'OPS_centralized', gam)"
   ]
  },
  {
   "cell_type": "code",
   "execution_count": 22,
   "metadata": {},
   "outputs": [
    {
     "name": "stdout",
     "output_type": "stream",
     "text": [
      "0.7607377766085469\n"
     ]
    }
   ],
   "source": [
    "ops_mean = np.average(train_data['OPS'].values, weights = train_data['PA'].values)\n",
    "print(ops_mean)"
   ]
  },
  {
   "cell_type": "code",
   "execution_count": 23,
   "metadata": {},
   "outputs": [
    {
     "data": {
      "text/plain": [
       "9.892317832392946"
      ]
     },
     "execution_count": 23,
     "metadata": {},
     "output_type": "execute_result"
    }
   ],
   "source": [
    "(0.0752545987331969 / ops_mean) * 100"
   ]
  },
  {
   "cell_type": "markdown",
   "metadata": {},
   "source": [
    "### wRC+ Aging Curve"
   ]
  },
  {
   "cell_type": "code",
   "execution_count": 24,
   "metadata": {},
   "outputs": [
    {
     "name": "stdout",
     "output_type": "stream",
     "text": [
      "(13540, 22)\n",
      "(1452, 22)\n"
     ]
    }
   ],
   "source": [
    "train_data, test_data = load_data(target = 'wRC+')\n",
    "print(train_data.shape)\n",
    "print(test_data.shape)"
   ]
  },
  {
   "cell_type": "code",
   "execution_count": 25,
   "metadata": {},
   "outputs": [
    {
     "data": {
      "text/html": [
       "<div>\n",
       "<style scoped>\n",
       "    .dataframe tbody tr th:only-of-type {\n",
       "        vertical-align: middle;\n",
       "    }\n",
       "\n",
       "    .dataframe tbody tr th {\n",
       "        vertical-align: top;\n",
       "    }\n",
       "\n",
       "    .dataframe thead th {\n",
       "        text-align: right;\n",
       "    }\n",
       "</style>\n",
       "<table border=\"1\" class=\"dataframe\">\n",
       "  <thead>\n",
       "    <tr style=\"text-align: right;\">\n",
       "      <th></th>\n",
       "      <th>IDfg</th>\n",
       "      <th>Season</th>\n",
       "      <th>Name</th>\n",
       "      <th>Age</th>\n",
       "      <th>PA</th>\n",
       "      <th>experience</th>\n",
       "      <th>wRC+</th>\n",
       "      <th>wRC+_lag</th>\n",
       "      <th>wRC+_career_mean</th>\n",
       "    </tr>\n",
       "  </thead>\n",
       "  <tbody>\n",
       "    <tr>\n",
       "      <th>0</th>\n",
       "      <td>1001649</td>\n",
       "      <td>1981</td>\n",
       "      <td>Al Bumbry</td>\n",
       "      <td>34</td>\n",
       "      <td>451</td>\n",
       "      <td>1.0</td>\n",
       "      <td>107</td>\n",
       "      <td>131.0</td>\n",
       "      <td>88.126911</td>\n",
       "    </tr>\n",
       "    <tr>\n",
       "      <th>1</th>\n",
       "      <td>1002689</td>\n",
       "      <td>1981</td>\n",
       "      <td>Al Cowens</td>\n",
       "      <td>29</td>\n",
       "      <td>284</td>\n",
       "      <td>1.0</td>\n",
       "      <td>91</td>\n",
       "      <td>87.0</td>\n",
       "      <td>96.489462</td>\n",
       "    </tr>\n",
       "    <tr>\n",
       "      <th>2</th>\n",
       "      <td>1009773</td>\n",
       "      <td>1981</td>\n",
       "      <td>Al Oliver</td>\n",
       "      <td>34</td>\n",
       "      <td>448</td>\n",
       "      <td>1.0</td>\n",
       "      <td>118</td>\n",
       "      <td>130.0</td>\n",
       "      <td>117.817251</td>\n",
       "    </tr>\n",
       "    <tr>\n",
       "      <th>3</th>\n",
       "      <td>1014234</td>\n",
       "      <td>1981</td>\n",
       "      <td>Al Woods</td>\n",
       "      <td>27</td>\n",
       "      <td>317</td>\n",
       "      <td>1.0</td>\n",
       "      <td>63</td>\n",
       "      <td>127.0</td>\n",
       "      <td>65.490775</td>\n",
       "    </tr>\n",
       "    <tr>\n",
       "      <th>4</th>\n",
       "      <td>1000336</td>\n",
       "      <td>1981</td>\n",
       "      <td>Alan Ashby</td>\n",
       "      <td>29</td>\n",
       "      <td>296</td>\n",
       "      <td>1.0</td>\n",
       "      <td>113</td>\n",
       "      <td>86.0</td>\n",
       "      <td>108.320983</td>\n",
       "    </tr>\n",
       "  </tbody>\n",
       "</table>\n",
       "</div>"
      ],
      "text/plain": [
       "      IDfg  Season        Name  Age   PA  experience  wRC+  wRC+_lag  \\\n",
       "0  1001649    1981   Al Bumbry   34  451         1.0   107     131.0   \n",
       "1  1002689    1981   Al Cowens   29  284         1.0    91      87.0   \n",
       "2  1009773    1981   Al Oliver   34  448         1.0   118     130.0   \n",
       "3  1014234    1981    Al Woods   27  317         1.0    63     127.0   \n",
       "4  1000336    1981  Alan Ashby   29  296         1.0   113      86.0   \n",
       "\n",
       "   wRC+_career_mean  \n",
       "0         88.126911  \n",
       "1         96.489462  \n",
       "2        117.817251  \n",
       "3         65.490775  \n",
       "4        108.320983  "
      ]
     },
     "execution_count": 25,
     "metadata": {},
     "output_type": "execute_result"
    }
   ],
   "source": [
    "wrc_data = add_career_mean(train_data, 'wRC+')\n",
    "wrc_data.head()"
   ]
  },
  {
   "cell_type": "code",
   "execution_count": 26,
   "metadata": {},
   "outputs": [],
   "source": [
    "features = ['Age', 'wRC+_career_mean', 'experience', 'wRC+_lag']\n",
    "target = 'wRC+'\n",
    "\n",
    "x, y = generate_data(wrc_data, feature_cols = features, target = target)"
   ]
  },
  {
   "cell_type": "code",
   "execution_count": 27,
   "metadata": {},
   "outputs": [
    {
     "name": "stdout",
     "output_type": "stream",
     "text": [
      "GAM                                                                                                       \n",
      "=============================================== ==========================================================\n",
      "Distribution:                        NormalDist Effective DoF:                                     19.2615\n",
      "Link Function:                     IdentityLink Log Likelihood:                                -92142.1695\n",
      "Number of Samples:                        13540 AIC:                                            184324.862\n",
      "                                                AICc:                                          184324.9257\n",
      "                                                GCV:                                           131335.5346\n",
      "                                                Scale:                                         130999.2781\n",
      "                                                Pseudo R-Squared:                                   0.6007\n",
      "==========================================================================================================\n",
      "Feature Function                  Lambda               Rank         EDoF         P > x        Sig. Code   \n",
      "================================= ==================== ============ ============ ============ ============\n",
      "te(0, 2)                          [10 10]              25           12.4         1.11e-16     ***         \n",
      "s(1)                              [10]                 5            3.4          1.11e-16     ***         \n",
      "s(3)                              [10]                 5            3.5          1.11e-16     ***         \n",
      "intercept                                              1            0.0          5.01e-11     ***         \n",
      "==========================================================================================================\n",
      "Significance codes:  0 '***' 0.001 '**' 0.01 '*' 0.05 '.' 0.1 ' ' 1\n",
      "\n",
      "WARNING: Fitting splines and a linear function to a feature introduces a model identifiability problem\n",
      "         which can cause p-values to appear significant when they are not.\n",
      "\n",
      "WARNING: p-values calculated in this manner behave correctly for un-penalized models or models with\n",
      "         known smoothing parameters, but when smoothing parameters have been estimated, the p-values\n",
      "         are typically lower than they should be, meaning that the tests reject the null too readily.\n"
     ]
    },
    {
     "name": "stderr",
     "output_type": "stream",
     "text": [
      "C:\\Users\\citioplab\\AppData\\Local\\Temp\\ipykernel_44636\\1497089973.py:3: UserWarning: KNOWN BUG: p-values computed in this summary are likely much smaller than they should be. \n",
      " \n",
      "Please do not make inferences based on these values! \n",
      "\n",
      "Collaborate on a solution, and stay up to date at: \n",
      "github.com/dswah/pyGAM/issues/163 \n",
      "\n",
      "  gam.summary()\n"
     ]
    }
   ],
   "source": [
    "gam = GAM(te(0, 2, n_splines = 5, lam = 10) + s(1, n_splines = 5, lam = 10) + s(3, n_splines = 5, lam = 10))\n",
    "gam.fit(x, y, weights = wrc_data['PA'].values)\n",
    "gam.summary()"
   ]
  },
  {
   "cell_type": "code",
   "execution_count": 28,
   "metadata": {},
   "outputs": [],
   "source": [
    "age_lag_means = wrc_data.groupby(['Age'])['wRC+_lag'].mean()"
   ]
  },
  {
   "cell_type": "code",
   "execution_count": 29,
   "metadata": {},
   "outputs": [
    {
     "data": {
      "image/png": "[encoded data removed]",
      "text/plain": [
       "<Figure size 640x480 with 1 Axes>"
      ]
     },
     "metadata": {},
     "output_type": "display_data"
    }
   ],
   "source": [
    "plt.figure()\n",
    "XX = gam.generate_X_grid(term = 0, n = 1000)\n",
    "XX[:, 1] = 100\n",
    "XX[:, 2] = np.subtract(np.floor(XX[:, 0]), 20.0)\n",
    "\n",
    "for i in range(21, 41):\n",
    "    tmp = [age_lag_means[x] for x in np.floor(XX[:, 0])]\n",
    "XX[:, 3] = tmp\n",
    "\n",
    "plt.plot(XX[:, 0], gam.predict(XX))\n",
    "plt.xticks(np.arange(20, 45, 5))\n",
    "plt.grid(True)\n",
    "plt.show()\n",
    "# plt.plot(XX[:, 0], gam.partial_dependence(term = 0, X = XX,   width = .95)[1], c = 'r', ls = '--')"
   ]
  },
  {
   "cell_type": "code",
   "execution_count": 30,
   "metadata": {},
   "outputs": [
    {
     "data": {
      "text/plain": [
       "104.72882387376886"
      ]
     },
     "execution_count": 30,
     "metadata": {},
     "output_type": "execute_result"
    }
   ],
   "source": [
    "np.max(gam.predict(XX))"
   ]
  },
  {
   "cell_type": "code",
   "execution_count": 31,
   "metadata": {},
   "outputs": [
    {
     "data": {
      "text/plain": [
       "26.002002002002"
      ]
     },
     "execution_count": 31,
     "metadata": {},
     "output_type": "execute_result"
    }
   ],
   "source": [
    "XX[np.argmax(gam.predict(XX)), 0]"
   ]
  },
  {
   "cell_type": "code",
   "execution_count": 32,
   "metadata": {},
   "outputs": [],
   "source": [
    "all_test_data = generate_test_data(wrc_data, test_data, 'wRC+')"
   ]
  },
  {
   "cell_type": "code",
   "execution_count": 33,
   "metadata": {},
   "outputs": [
    {
     "data": {
      "text/html": [
       "<div>\n",
       "<style scoped>\n",
       "    .dataframe tbody tr th:only-of-type {\n",
       "        vertical-align: middle;\n",
       "    }\n",
       "\n",
       "    .dataframe tbody tr th {\n",
       "        vertical-align: top;\n",
       "    }\n",
       "\n",
       "    .dataframe thead th {\n",
       "        text-align: right;\n",
       "    }\n",
       "</style>\n",
       "<table border=\"1\" class=\"dataframe\">\n",
       "  <thead>\n",
       "    <tr style=\"text-align: right;\">\n",
       "      <th></th>\n",
       "      <th>IDfg</th>\n",
       "      <th>Season</th>\n",
       "      <th>Name</th>\n",
       "      <th>Age</th>\n",
       "      <th>PA</th>\n",
       "      <th>experience</th>\n",
       "      <th>wRC+_lag</th>\n",
       "      <th>wRC+</th>\n",
       "      <th>wRC+_career_mean</th>\n",
       "    </tr>\n",
       "  </thead>\n",
       "  <tbody>\n",
       "    <tr>\n",
       "      <th>0</th>\n",
       "      <td>9256</td>\n",
       "      <td>2021</td>\n",
       "      <td>A.J. Pollock</td>\n",
       "      <td>33</td>\n",
       "      <td>422</td>\n",
       "      <td>8.0</td>\n",
       "      <td>107.0</td>\n",
       "      <td>137</td>\n",
       "      <td>117.510323</td>\n",
       "    </tr>\n",
       "    <tr>\n",
       "      <th>1</th>\n",
       "      <td>5297</td>\n",
       "      <td>2021</td>\n",
       "      <td>Aaron Hicks</td>\n",
       "      <td>31</td>\n",
       "      <td>126</td>\n",
       "      <td>8.0</td>\n",
       "      <td>103.0</td>\n",
       "      <td>77</td>\n",
       "      <td>104.298665</td>\n",
       "    </tr>\n",
       "    <tr>\n",
       "      <th>2</th>\n",
       "      <td>15640</td>\n",
       "      <td>2021</td>\n",
       "      <td>Aaron Judge</td>\n",
       "      <td>29</td>\n",
       "      <td>633</td>\n",
       "      <td>4.0</td>\n",
       "      <td>141.0</td>\n",
       "      <td>150</td>\n",
       "      <td>145.742857</td>\n",
       "    </tr>\n",
       "    <tr>\n",
       "      <th>3</th>\n",
       "      <td>5486</td>\n",
       "      <td>2021</td>\n",
       "      <td>Abraham Almonte</td>\n",
       "      <td>32</td>\n",
       "      <td>175</td>\n",
       "      <td>7.0</td>\n",
       "      <td>48.0</td>\n",
       "      <td>98</td>\n",
       "      <td>78.063910</td>\n",
       "    </tr>\n",
       "    <tr>\n",
       "      <th>4</th>\n",
       "      <td>13769</td>\n",
       "      <td>2021</td>\n",
       "      <td>Adalberto Mondesi</td>\n",
       "      <td>25</td>\n",
       "      <td>136</td>\n",
       "      <td>5.0</td>\n",
       "      <td>81.0</td>\n",
       "      <td>89</td>\n",
       "      <td>93.686649</td>\n",
       "    </tr>\n",
       "  </tbody>\n",
       "</table>\n",
       "</div>"
      ],
      "text/plain": [
       "    IDfg  Season               Name  Age   PA  experience  wRC+_lag  wRC+  \\\n",
       "0   9256    2021       A.J. Pollock   33  422         8.0     107.0   137   \n",
       "1   5297    2021        Aaron Hicks   31  126         8.0     103.0    77   \n",
       "2  15640    2021        Aaron Judge   29  633         4.0     141.0   150   \n",
       "3   5486    2021    Abraham Almonte   32  175         7.0      48.0    98   \n",
       "4  13769    2021  Adalberto Mondesi   25  136         5.0      81.0    89   \n",
       "\n",
       "   wRC+_career_mean  \n",
       "0        117.510323  \n",
       "1        104.298665  \n",
       "2        145.742857  \n",
       "3         78.063910  \n",
       "4         93.686649  "
      ]
     },
     "execution_count": 33,
     "metadata": {},
     "output_type": "execute_result"
    }
   ],
   "source": [
    "all_test_data.head()"
   ]
  },
  {
   "cell_type": "code",
   "execution_count": 34,
   "metadata": {},
   "outputs": [
    {
     "data": {
      "text/plain": [
       "19.489687780658297"
      ]
     },
     "execution_count": 34,
     "metadata": {},
     "output_type": "execute_result"
    }
   ],
   "source": [
    "evaluate(all_test_data, 'wRC+', gam)"
   ]
  },
  {
   "cell_type": "code",
   "execution_count": 50,
   "metadata": {},
   "outputs": [
    {
     "data": {
      "text/html": [
       "<div>\n",
       "<style scoped>\n",
       "    .dataframe tbody tr th:only-of-type {\n",
       "        vertical-align: middle;\n",
       "    }\n",
       "\n",
       "    .dataframe tbody tr th {\n",
       "        vertical-align: top;\n",
       "    }\n",
       "\n",
       "    .dataframe thead th {\n",
       "        text-align: right;\n",
       "    }\n",
       "</style>\n",
       "<table border=\"1\" class=\"dataframe\">\n",
       "  <thead>\n",
       "    <tr style=\"text-align: right;\">\n",
       "      <th></th>\n",
       "      <th>IDfg</th>\n",
       "      <th>Season</th>\n",
       "      <th>Name</th>\n",
       "      <th>Age</th>\n",
       "      <th>PA</th>\n",
       "      <th>experience</th>\n",
       "      <th>wRC+_lag</th>\n",
       "      <th>wRC+</th>\n",
       "      <th>wRC+_career_mean</th>\n",
       "      <th>prediction</th>\n",
       "    </tr>\n",
       "  </thead>\n",
       "  <tbody>\n",
       "    <tr>\n",
       "      <th>0</th>\n",
       "      <td>9256</td>\n",
       "      <td>2021</td>\n",
       "      <td>A.J. Pollock</td>\n",
       "      <td>33</td>\n",
       "      <td>422</td>\n",
       "      <td>8.0</td>\n",
       "      <td>107.0</td>\n",
       "      <td>137</td>\n",
       "      <td>117.510323</td>\n",
       "      <td>113.836819</td>\n",
       "    </tr>\n",
       "    <tr>\n",
       "      <th>1</th>\n",
       "      <td>5297</td>\n",
       "      <td>2021</td>\n",
       "      <td>Aaron Hicks</td>\n",
       "      <td>31</td>\n",
       "      <td>126</td>\n",
       "      <td>8.0</td>\n",
       "      <td>103.0</td>\n",
       "      <td>77</td>\n",
       "      <td>104.298665</td>\n",
       "      <td>103.060653</td>\n",
       "    </tr>\n",
       "    <tr>\n",
       "      <th>2</th>\n",
       "      <td>15640</td>\n",
       "      <td>2021</td>\n",
       "      <td>Aaron Judge</td>\n",
       "      <td>29</td>\n",
       "      <td>633</td>\n",
       "      <td>4.0</td>\n",
       "      <td>141.0</td>\n",
       "      <td>150</td>\n",
       "      <td>145.742857</td>\n",
       "      <td>148.037785</td>\n",
       "    </tr>\n",
       "    <tr>\n",
       "      <th>3</th>\n",
       "      <td>5486</td>\n",
       "      <td>2021</td>\n",
       "      <td>Abraham Almonte</td>\n",
       "      <td>32</td>\n",
       "      <td>175</td>\n",
       "      <td>7.0</td>\n",
       "      <td>48.0</td>\n",
       "      <td>98</td>\n",
       "      <td>78.063910</td>\n",
       "      <td>78.426255</td>\n",
       "    </tr>\n",
       "    <tr>\n",
       "      <th>4</th>\n",
       "      <td>13769</td>\n",
       "      <td>2021</td>\n",
       "      <td>Adalberto Mondesi</td>\n",
       "      <td>25</td>\n",
       "      <td>136</td>\n",
       "      <td>5.0</td>\n",
       "      <td>81.0</td>\n",
       "      <td>89</td>\n",
       "      <td>93.686649</td>\n",
       "      <td>98.589820</td>\n",
       "    </tr>\n",
       "    <tr>\n",
       "      <th>5</th>\n",
       "      <td>10950</td>\n",
       "      <td>2021</td>\n",
       "      <td>Adam Duvall</td>\n",
       "      <td>32</td>\n",
       "      <td>555</td>\n",
       "      <td>5.0</td>\n",
       "      <td>120.0</td>\n",
       "      <td>101</td>\n",
       "      <td>89.015781</td>\n",
       "      <td>87.884563</td>\n",
       "    </tr>\n",
       "    <tr>\n",
       "      <th>6</th>\n",
       "      <td>11205</td>\n",
       "      <td>2021</td>\n",
       "      <td>Adam Eaton</td>\n",
       "      <td>32</td>\n",
       "      <td>288</td>\n",
       "      <td>9.0</td>\n",
       "      <td>108.0</td>\n",
       "      <td>68</td>\n",
       "      <td>114.373018</td>\n",
       "      <td>111.709700</td>\n",
       "    </tr>\n",
       "    <tr>\n",
       "      <th>7</th>\n",
       "      <td>15082</td>\n",
       "      <td>2021</td>\n",
       "      <td>Adam Engel</td>\n",
       "      <td>29</td>\n",
       "      <td>140</td>\n",
       "      <td>4.0</td>\n",
       "      <td>83.0</td>\n",
       "      <td>125</td>\n",
       "      <td>73.232068</td>\n",
       "      <td>74.080895</td>\n",
       "    </tr>\n",
       "    <tr>\n",
       "      <th>8</th>\n",
       "      <td>15223</td>\n",
       "      <td>2021</td>\n",
       "      <td>Adam Frazier</td>\n",
       "      <td>29</td>\n",
       "      <td>639</td>\n",
       "      <td>5.0</td>\n",
       "      <td>97.0</td>\n",
       "      <td>113</td>\n",
       "      <td>101.729844</td>\n",
       "      <td>103.420457</td>\n",
       "    </tr>\n",
       "    <tr>\n",
       "      <th>9</th>\n",
       "      <td>6310</td>\n",
       "      <td>2021</td>\n",
       "      <td>Alcides Escobar</td>\n",
       "      <td>34</td>\n",
       "      <td>349</td>\n",
       "      <td>12.0</td>\n",
       "      <td>59.0</td>\n",
       "      <td>102</td>\n",
       "      <td>69.824946</td>\n",
       "      <td>64.128508</td>\n",
       "    </tr>\n",
       "  </tbody>\n",
       "</table>\n",
       "</div>"
      ],
      "text/plain": [
       "    IDfg  Season               Name  Age   PA  experience  wRC+_lag  wRC+  \\\n",
       "0   9256    2021       A.J. Pollock   33  422         8.0     107.0   137   \n",
       "1   5297    2021        Aaron Hicks   31  126         8.0     103.0    77   \n",
       "2  15640    2021        Aaron Judge   29  633         4.0     141.0   150   \n",
       "3   5486    2021    Abraham Almonte   32  175         7.0      48.0    98   \n",
       "4  13769    2021  Adalberto Mondesi   25  136         5.0      81.0    89   \n",
       "5  10950    2021        Adam Duvall   32  555         5.0     120.0   101   \n",
       "6  11205    2021         Adam Eaton   32  288         9.0     108.0    68   \n",
       "7  15082    2021         Adam Engel   29  140         4.0      83.0   125   \n",
       "8  15223    2021       Adam Frazier   29  639         5.0      97.0   113   \n",
       "9   6310    2021    Alcides Escobar   34  349        12.0      59.0   102   \n",
       "\n",
       "   wRC+_career_mean  prediction  \n",
       "0        117.510323  113.836819  \n",
       "1        104.298665  103.060653  \n",
       "2        145.742857  148.037785  \n",
       "3         78.063910   78.426255  \n",
       "4         93.686649   98.589820  \n",
       "5         89.015781   87.884563  \n",
       "6        114.373018  111.709700  \n",
       "7         73.232068   74.080895  \n",
       "8        101.729844  103.420457  \n",
       "9         69.824946   64.128508  "
      ]
     },
     "execution_count": 50,
     "metadata": {},
     "output_type": "execute_result"
    }
   ],
   "source": [
    "pred_df = inference(all_test_data, 'wRC+', gam)\n",
    "pred_df.head(10)"
   ]
  },
  {
   "cell_type": "markdown",
   "metadata": {},
   "source": [
    "When analyzing the MAE performance of the aging curves for OPS and wRC+, it is evident that GAM is the superior method. Besides, both the delta method and GAM estimates that hitters reach their peak performance at age 26.<br>\n",
    "Both methods point to a dramatic decline in a batter's hitting ability after age 35, but the delta method suggests that batters ultimately decline to worse performances. In addition, wRC+ is a much more difficult metric to predict, given the performance of these two methods. <br>\n",
    "Moreover, reaching their peak at 26 seems earlier than expected, as many believe athletes peak at 27 or 28."
   ]
  },
  {
   "cell_type": "markdown",
   "metadata": {},
   "source": [
    "### Def Aging Curve"
   ]
  },
  {
   "cell_type": "code",
   "execution_count": 48,
   "metadata": {},
   "outputs": [
    {
     "name": "stdout",
     "output_type": "stream",
     "text": [
      "(13540, 22)\n",
      "(1452, 22)\n"
     ]
    }
   ],
   "source": [
    "train_data, test_data = load_data(target = 'Def')\n",
    "print(train_data.shape)\n",
    "print(test_data.shape)"
   ]
  },
  {
   "cell_type": "code",
   "execution_count": 49,
   "metadata": {},
   "outputs": [
    {
     "data": {
      "text/html": [
       "<div>\n",
       "<style scoped>\n",
       "    .dataframe tbody tr th:only-of-type {\n",
       "        vertical-align: middle;\n",
       "    }\n",
       "\n",
       "    .dataframe tbody tr th {\n",
       "        vertical-align: top;\n",
       "    }\n",
       "\n",
       "    .dataframe thead th {\n",
       "        text-align: right;\n",
       "    }\n",
       "</style>\n",
       "<table border=\"1\" class=\"dataframe\">\n",
       "  <thead>\n",
       "    <tr style=\"text-align: right;\">\n",
       "      <th></th>\n",
       "      <th>IDfg</th>\n",
       "      <th>Season</th>\n",
       "      <th>Name</th>\n",
       "      <th>Age</th>\n",
       "      <th>G</th>\n",
       "      <th>PA</th>\n",
       "      <th>experience</th>\n",
       "      <th>Def</th>\n",
       "      <th>Def_lag</th>\n",
       "      <th>Def_career_mean</th>\n",
       "    </tr>\n",
       "  </thead>\n",
       "  <tbody>\n",
       "    <tr>\n",
       "      <th>0</th>\n",
       "      <td>1001649</td>\n",
       "      <td>1981</td>\n",
       "      <td>Al Bumbry</td>\n",
       "      <td>34</td>\n",
       "      <td>101</td>\n",
       "      <td>451</td>\n",
       "      <td>1.0</td>\n",
       "      <td>-10.0</td>\n",
       "      <td>2.0</td>\n",
       "      <td>-0.458053</td>\n",
       "    </tr>\n",
       "    <tr>\n",
       "      <th>1</th>\n",
       "      <td>1002689</td>\n",
       "      <td>1981</td>\n",
       "      <td>Al Cowens</td>\n",
       "      <td>29</td>\n",
       "      <td>85</td>\n",
       "      <td>284</td>\n",
       "      <td>1.0</td>\n",
       "      <td>0.4</td>\n",
       "      <td>-7.1</td>\n",
       "      <td>-7.917935</td>\n",
       "    </tr>\n",
       "    <tr>\n",
       "      <th>2</th>\n",
       "      <td>1009773</td>\n",
       "      <td>1981</td>\n",
       "      <td>Al Oliver</td>\n",
       "      <td>34</td>\n",
       "      <td>102</td>\n",
       "      <td>448</td>\n",
       "      <td>1.0</td>\n",
       "      <td>-10.9</td>\n",
       "      <td>-14.3</td>\n",
       "      <td>-14.632651</td>\n",
       "    </tr>\n",
       "    <tr>\n",
       "      <th>3</th>\n",
       "      <td>1014234</td>\n",
       "      <td>1981</td>\n",
       "      <td>Al Woods</td>\n",
       "      <td>27</td>\n",
       "      <td>85</td>\n",
       "      <td>317</td>\n",
       "      <td>1.0</td>\n",
       "      <td>2.4</td>\n",
       "      <td>-3.3</td>\n",
       "      <td>-0.339852</td>\n",
       "    </tr>\n",
       "    <tr>\n",
       "      <th>4</th>\n",
       "      <td>1000336</td>\n",
       "      <td>1981</td>\n",
       "      <td>Alan Ashby</td>\n",
       "      <td>29</td>\n",
       "      <td>83</td>\n",
       "      <td>296</td>\n",
       "      <td>1.0</td>\n",
       "      <td>9.6</td>\n",
       "      <td>1.3</td>\n",
       "      <td>-1.625614</td>\n",
       "    </tr>\n",
       "  </tbody>\n",
       "</table>\n",
       "</div>"
      ],
      "text/plain": [
       "      IDfg  Season        Name  Age    G   PA  experience   Def  Def_lag  \\\n",
       "0  1001649    1981   Al Bumbry   34  101  451         1.0 -10.0      2.0   \n",
       "1  1002689    1981   Al Cowens   29   85  284         1.0   0.4     -7.1   \n",
       "2  1009773    1981   Al Oliver   34  102  448         1.0 -10.9    -14.3   \n",
       "3  1014234    1981    Al Woods   27   85  317         1.0   2.4     -3.3   \n",
       "4  1000336    1981  Alan Ashby   29   83  296         1.0   9.6      1.3   \n",
       "\n",
       "   Def_career_mean  \n",
       "0        -0.458053  \n",
       "1        -7.917935  \n",
       "2       -14.632651  \n",
       "3        -0.339852  \n",
       "4        -1.625614  "
      ]
     },
     "execution_count": 49,
     "metadata": {},
     "output_type": "execute_result"
    }
   ],
   "source": [
    "def_data = add_career_mean(train_data, 'Def')\n",
    "def_data.head()"
   ]
  },
  {
   "cell_type": "code",
   "execution_count": 50,
   "metadata": {},
   "outputs": [],
   "source": [
    "features = ['Age', 'Def_career_mean', 'experience', 'Def_lag']\n",
    "target = 'Def'\n",
    "\n",
    "x, y = generate_data(def_data, feature_cols = features, target = target)"
   ]
  },
  {
   "cell_type": "code",
   "execution_count": 51,
   "metadata": {},
   "outputs": [
    {
     "name": "stdout",
     "output_type": "stream",
     "text": [
      "GAM                                                                                                       \n",
      "=============================================== ==========================================================\n",
      "Distribution:                        NormalDist Effective DoF:                                     16.8337\n",
      "Link Function:                     IdentityLink Log Likelihood:                                -63115.9164\n",
      "Number of Samples:                        13540 AIC:                                           126267.5003\n",
      "                                                AICc:                                            126267.55\n",
      "                                                GCV:                                             4377.1914\n",
      "                                                Scale:                                           4367.3969\n",
      "                                                Pseudo R-Squared:                                   0.5885\n",
      "==========================================================================================================\n",
      "Feature Function                  Lambda               Rank         EDoF         P > x        Sig. Code   \n",
      "================================= ==================== ============ ============ ============ ============\n",
      "te(0, 2)                          [10 10]              25           10.5         1.11e-16     ***         \n",
      "s(1)                              [10]                 5            3.6          1.11e-16     ***         \n",
      "s(3)                              [10]                 5            2.8          1.11e-16     ***         \n",
      "intercept                                              1            0.0          2.27e-01                 \n",
      "==========================================================================================================\n",
      "Significance codes:  0 '***' 0.001 '**' 0.01 '*' 0.05 '.' 0.1 ' ' 1\n",
      "\n",
      "WARNING: Fitting splines and a linear function to a feature introduces a model identifiability problem\n",
      "         which can cause p-values to appear significant when they are not.\n",
      "\n",
      "WARNING: p-values calculated in this manner behave correctly for un-penalized models or models with\n",
      "         known smoothing parameters, but when smoothing parameters have been estimated, the p-values\n",
      "         are typically lower than they should be, meaning that the tests reject the null too readily.\n"
     ]
    },
    {
     "name": "stderr",
     "output_type": "stream",
     "text": [
      "C:\\Users\\citioplab\\AppData\\Local\\Temp\\ipykernel_76676\\1717189650.py:3: UserWarning: KNOWN BUG: p-values computed in this summary are likely much smaller than they should be. \n",
      " \n",
      "Please do not make inferences based on these values! \n",
      "\n",
      "Collaborate on a solution, and stay up to date at: \n",
      "github.com/dswah/pyGAM/issues/163 \n",
      "\n",
      "  gam.summary()\n"
     ]
    }
   ],
   "source": [
    "gam = GAM(te(0, 2, n_splines = 5, lam = 10) + s(1, n_splines = 5, lam = 10) + s(3, n_splines = 5, lam = 10))\n",
    "gam.fit(x, y, weights = def_data['G'].values)\n",
    "gam.summary()"
   ]
  },
  {
   "cell_type": "code",
   "execution_count": 52,
   "metadata": {},
   "outputs": [],
   "source": [
    "age_lag_means = def_data.groupby(['Age'])['Def_lag'].mean()"
   ]
  },
  {
   "cell_type": "code",
   "execution_count": 53,
   "metadata": {},
   "outputs": [
    {
     "data": {
      "image/png": "[encoded data removed]",
      "text/plain": [
       "<Figure size 640x480 with 1 Axes>"
      ]
     },
     "metadata": {},
     "output_type": "display_data"
    }
   ],
   "source": [
    "plt.figure()\n",
    "XX = gam.generate_X_grid(term = 0, n = 1000)\n",
    "XX[:, 1] = np.mean(def_data['Def'])\n",
    "XX[:, 2] = np.subtract(np.floor(XX[:, 0]), 20.0)\n",
    "\n",
    "for i in range(21, 41):\n",
    "    tmp = [age_lag_means[x] for x in np.floor(XX[:, 0])]\n",
    "XX[:, 3] = tmp\n",
    "\n",
    "plt.plot(XX[:, 0], gam.predict(XX))\n",
    "plt.xticks(np.arange(20, 45, 5))\n",
    "plt.grid(True)\n",
    "plt.show()\n",
    "# plt.plot(XX[:, 0], gam.partial_dependence(term = 0, X = XX,   width = .95)[1], c = 'r', ls = '--')"
   ]
  },
  {
   "cell_type": "code",
   "execution_count": 54,
   "metadata": {},
   "outputs": [
    {
     "data": {
      "text/plain": [
       "1.1640894816084626"
      ]
     },
     "execution_count": 54,
     "metadata": {},
     "output_type": "execute_result"
    }
   ],
   "source": [
    "np.max(gam.predict(XX))"
   ]
  },
  {
   "cell_type": "code",
   "execution_count": 55,
   "metadata": {},
   "outputs": [
    {
     "data": {
      "text/plain": [
       "23.016016016016017"
      ]
     },
     "execution_count": 55,
     "metadata": {},
     "output_type": "execute_result"
    }
   ],
   "source": [
    "XX[np.argmax(gam.predict(XX)), 0]"
   ]
  },
  {
   "cell_type": "code",
   "execution_count": 56,
   "metadata": {},
   "outputs": [],
   "source": [
    "all_test_data = generate_test_data(def_data, test_data, 'Def')"
   ]
  },
  {
   "cell_type": "code",
   "execution_count": 57,
   "metadata": {},
   "outputs": [
    {
     "data": {
      "text/html": [
       "<div>\n",
       "<style scoped>\n",
       "    .dataframe tbody tr th:only-of-type {\n",
       "        vertical-align: middle;\n",
       "    }\n",
       "\n",
       "    .dataframe tbody tr th {\n",
       "        vertical-align: top;\n",
       "    }\n",
       "\n",
       "    .dataframe thead th {\n",
       "        text-align: right;\n",
       "    }\n",
       "</style>\n",
       "<table border=\"1\" class=\"dataframe\">\n",
       "  <thead>\n",
       "    <tr style=\"text-align: right;\">\n",
       "      <th></th>\n",
       "      <th>IDfg</th>\n",
       "      <th>Season</th>\n",
       "      <th>Name</th>\n",
       "      <th>Age</th>\n",
       "      <th>G</th>\n",
       "      <th>PA</th>\n",
       "      <th>experience</th>\n",
       "      <th>Def_lag</th>\n",
       "      <th>Def</th>\n",
       "      <th>Def_career_mean</th>\n",
       "    </tr>\n",
       "  </thead>\n",
       "  <tbody>\n",
       "    <tr>\n",
       "      <th>0</th>\n",
       "      <td>9256</td>\n",
       "      <td>2021</td>\n",
       "      <td>A.J. Pollock</td>\n",
       "      <td>33</td>\n",
       "      <td>117</td>\n",
       "      <td>422</td>\n",
       "      <td>8.0</td>\n",
       "      <td>-9.5</td>\n",
       "      <td>-3.5</td>\n",
       "      <td>2.908528</td>\n",
       "    </tr>\n",
       "    <tr>\n",
       "      <th>1</th>\n",
       "      <td>5297</td>\n",
       "      <td>2021</td>\n",
       "      <td>Aaron Hicks</td>\n",
       "      <td>31</td>\n",
       "      <td>32</td>\n",
       "      <td>126</td>\n",
       "      <td>8.0</td>\n",
       "      <td>-3.0</td>\n",
       "      <td>0.1</td>\n",
       "      <td>-0.200000</td>\n",
       "    </tr>\n",
       "    <tr>\n",
       "      <th>2</th>\n",
       "      <td>15640</td>\n",
       "      <td>2021</td>\n",
       "      <td>Aaron Judge</td>\n",
       "      <td>29</td>\n",
       "      <td>148</td>\n",
       "      <td>633</td>\n",
       "      <td>4.0</td>\n",
       "      <td>3.7</td>\n",
       "      <td>-6.0</td>\n",
       "      <td>3.647302</td>\n",
       "    </tr>\n",
       "    <tr>\n",
       "      <th>3</th>\n",
       "      <td>5486</td>\n",
       "      <td>2021</td>\n",
       "      <td>Abraham Almonte</td>\n",
       "      <td>32</td>\n",
       "      <td>64</td>\n",
       "      <td>175</td>\n",
       "      <td>7.0</td>\n",
       "      <td>-4.0</td>\n",
       "      <td>-4.8</td>\n",
       "      <td>-0.679449</td>\n",
       "    </tr>\n",
       "    <tr>\n",
       "      <th>4</th>\n",
       "      <td>13769</td>\n",
       "      <td>2021</td>\n",
       "      <td>Adalberto Mondesi</td>\n",
       "      <td>25</td>\n",
       "      <td>35</td>\n",
       "      <td>136</td>\n",
       "      <td>5.0</td>\n",
       "      <td>12.0</td>\n",
       "      <td>3.7</td>\n",
       "      <td>9.938420</td>\n",
       "    </tr>\n",
       "  </tbody>\n",
       "</table>\n",
       "</div>"
      ],
      "text/plain": [
       "    IDfg  Season               Name  Age    G   PA  experience  Def_lag  Def  \\\n",
       "0   9256    2021       A.J. Pollock   33  117  422         8.0     -9.5 -3.5   \n",
       "1   5297    2021        Aaron Hicks   31   32  126         8.0     -3.0  0.1   \n",
       "2  15640    2021        Aaron Judge   29  148  633         4.0      3.7 -6.0   \n",
       "3   5486    2021    Abraham Almonte   32   64  175         7.0     -4.0 -4.8   \n",
       "4  13769    2021  Adalberto Mondesi   25   35  136         5.0     12.0  3.7   \n",
       "\n",
       "   Def_career_mean  \n",
       "0         2.908528  \n",
       "1        -0.200000  \n",
       "2         3.647302  \n",
       "3        -0.679449  \n",
       "4         9.938420  "
      ]
     },
     "execution_count": 57,
     "metadata": {},
     "output_type": "execute_result"
    }
   ],
   "source": [
    "all_test_data.head()"
   ]
  },
  {
   "cell_type": "code",
   "execution_count": 58,
   "metadata": {},
   "outputs": [
    {
     "data": {
      "text/plain": [
       "4.6427235702810625"
      ]
     },
     "execution_count": 58,
     "metadata": {},
     "output_type": "execute_result"
    }
   ],
   "source": [
    "evaluate(all_test_data, 'Def', gam)"
   ]
  },
  {
   "cell_type": "code",
   "execution_count": 59,
   "metadata": {},
   "outputs": [
    {
     "data": {
      "text/html": [
       "<div>\n",
       "<style scoped>\n",
       "    .dataframe tbody tr th:only-of-type {\n",
       "        vertical-align: middle;\n",
       "    }\n",
       "\n",
       "    .dataframe tbody tr th {\n",
       "        vertical-align: top;\n",
       "    }\n",
       "\n",
       "    .dataframe thead th {\n",
       "        text-align: right;\n",
       "    }\n",
       "</style>\n",
       "<table border=\"1\" class=\"dataframe\">\n",
       "  <thead>\n",
       "    <tr style=\"text-align: right;\">\n",
       "      <th></th>\n",
       "      <th>IDfg</th>\n",
       "      <th>Season</th>\n",
       "      <th>Name</th>\n",
       "      <th>Age</th>\n",
       "      <th>G</th>\n",
       "      <th>PA</th>\n",
       "      <th>experience</th>\n",
       "      <th>Def_lag</th>\n",
       "      <th>Def</th>\n",
       "      <th>Def_career_mean</th>\n",
       "      <th>prediction</th>\n",
       "    </tr>\n",
       "  </thead>\n",
       "  <tbody>\n",
       "    <tr>\n",
       "      <th>0</th>\n",
       "      <td>9256</td>\n",
       "      <td>2021</td>\n",
       "      <td>A.J. Pollock</td>\n",
       "      <td>33</td>\n",
       "      <td>117</td>\n",
       "      <td>422</td>\n",
       "      <td>8.0</td>\n",
       "      <td>-9.5</td>\n",
       "      <td>-3.5</td>\n",
       "      <td>2.908528</td>\n",
       "      <td>0.869301</td>\n",
       "    </tr>\n",
       "    <tr>\n",
       "      <th>1</th>\n",
       "      <td>5297</td>\n",
       "      <td>2021</td>\n",
       "      <td>Aaron Hicks</td>\n",
       "      <td>31</td>\n",
       "      <td>32</td>\n",
       "      <td>126</td>\n",
       "      <td>8.0</td>\n",
       "      <td>-3.0</td>\n",
       "      <td>0.1</td>\n",
       "      <td>-0.200000</td>\n",
       "      <td>-1.318423</td>\n",
       "    </tr>\n",
       "    <tr>\n",
       "      <th>2</th>\n",
       "      <td>15640</td>\n",
       "      <td>2021</td>\n",
       "      <td>Aaron Judge</td>\n",
       "      <td>29</td>\n",
       "      <td>148</td>\n",
       "      <td>633</td>\n",
       "      <td>4.0</td>\n",
       "      <td>3.7</td>\n",
       "      <td>-6.0</td>\n",
       "      <td>3.647302</td>\n",
       "      <td>3.971776</td>\n",
       "    </tr>\n",
       "    <tr>\n",
       "      <th>3</th>\n",
       "      <td>5486</td>\n",
       "      <td>2021</td>\n",
       "      <td>Abraham Almonte</td>\n",
       "      <td>32</td>\n",
       "      <td>64</td>\n",
       "      <td>175</td>\n",
       "      <td>7.0</td>\n",
       "      <td>-4.0</td>\n",
       "      <td>-4.8</td>\n",
       "      <td>-0.679449</td>\n",
       "      <td>-1.682800</td>\n",
       "    </tr>\n",
       "    <tr>\n",
       "      <th>4</th>\n",
       "      <td>13769</td>\n",
       "      <td>2021</td>\n",
       "      <td>Adalberto Mondesi</td>\n",
       "      <td>25</td>\n",
       "      <td>35</td>\n",
       "      <td>136</td>\n",
       "      <td>5.0</td>\n",
       "      <td>12.0</td>\n",
       "      <td>3.7</td>\n",
       "      <td>9.938420</td>\n",
       "      <td>11.495793</td>\n",
       "    </tr>\n",
       "    <tr>\n",
       "      <th>5</th>\n",
       "      <td>10950</td>\n",
       "      <td>2021</td>\n",
       "      <td>Adam Duvall</td>\n",
       "      <td>32</td>\n",
       "      <td>146</td>\n",
       "      <td>555</td>\n",
       "      <td>5.0</td>\n",
       "      <td>2.0</td>\n",
       "      <td>5.2</td>\n",
       "      <td>6.162458</td>\n",
       "      <td>5.428717</td>\n",
       "    </tr>\n",
       "    <tr>\n",
       "      <th>6</th>\n",
       "      <td>11205</td>\n",
       "      <td>2021</td>\n",
       "      <td>Adam Eaton</td>\n",
       "      <td>32</td>\n",
       "      <td>84</td>\n",
       "      <td>288</td>\n",
       "      <td>9.0</td>\n",
       "      <td>-10.9</td>\n",
       "      <td>-5.5</td>\n",
       "      <td>-0.142596</td>\n",
       "      <td>-2.195360</td>\n",
       "    </tr>\n",
       "    <tr>\n",
       "      <th>7</th>\n",
       "      <td>15082</td>\n",
       "      <td>2021</td>\n",
       "      <td>Adam Engel</td>\n",
       "      <td>29</td>\n",
       "      <td>39</td>\n",
       "      <td>140</td>\n",
       "      <td>4.0</td>\n",
       "      <td>4.3</td>\n",
       "      <td>2.8</td>\n",
       "      <td>8.858368</td>\n",
       "      <td>8.730849</td>\n",
       "    </tr>\n",
       "    <tr>\n",
       "      <th>8</th>\n",
       "      <td>15223</td>\n",
       "      <td>2021</td>\n",
       "      <td>Adam Frazier</td>\n",
       "      <td>29</td>\n",
       "      <td>155</td>\n",
       "      <td>639</td>\n",
       "      <td>5.0</td>\n",
       "      <td>9.3</td>\n",
       "      <td>1.6</td>\n",
       "      <td>1.854173</td>\n",
       "      <td>2.748063</td>\n",
       "    </tr>\n",
       "    <tr>\n",
       "      <th>9</th>\n",
       "      <td>6310</td>\n",
       "      <td>2021</td>\n",
       "      <td>Alcides Escobar</td>\n",
       "      <td>34</td>\n",
       "      <td>75</td>\n",
       "      <td>349</td>\n",
       "      <td>12.0</td>\n",
       "      <td>-3.1</td>\n",
       "      <td>1.6</td>\n",
       "      <td>10.299173</td>\n",
       "      <td>5.893605</td>\n",
       "    </tr>\n",
       "  </tbody>\n",
       "</table>\n",
       "</div>"
      ],
      "text/plain": [
       "    IDfg  Season               Name  Age    G   PA  experience  Def_lag  Def  \\\n",
       "0   9256    2021       A.J. Pollock   33  117  422         8.0     -9.5 -3.5   \n",
       "1   5297    2021        Aaron Hicks   31   32  126         8.0     -3.0  0.1   \n",
       "2  15640    2021        Aaron Judge   29  148  633         4.0      3.7 -6.0   \n",
       "3   5486    2021    Abraham Almonte   32   64  175         7.0     -4.0 -4.8   \n",
       "4  13769    2021  Adalberto Mondesi   25   35  136         5.0     12.0  3.7   \n",
       "5  10950    2021        Adam Duvall   32  146  555         5.0      2.0  5.2   \n",
       "6  11205    2021         Adam Eaton   32   84  288         9.0    -10.9 -5.5   \n",
       "7  15082    2021         Adam Engel   29   39  140         4.0      4.3  2.8   \n",
       "8  15223    2021       Adam Frazier   29  155  639         5.0      9.3  1.6   \n",
       "9   6310    2021    Alcides Escobar   34   75  349        12.0     -3.1  1.6   \n",
       "\n",
       "   Def_career_mean  prediction  \n",
       "0         2.908528    0.869301  \n",
       "1        -0.200000   -1.318423  \n",
       "2         3.647302    3.971776  \n",
       "3        -0.679449   -1.682800  \n",
       "4         9.938420   11.495793  \n",
       "5         6.162458    5.428717  \n",
       "6        -0.142596   -2.195360  \n",
       "7         8.858368    8.730849  \n",
       "8         1.854173    2.748063  \n",
       "9        10.299173    5.893605  "
      ]
     },
     "execution_count": 59,
     "metadata": {},
     "output_type": "execute_result"
    }
   ],
   "source": [
    "pred_df = inference(all_test_data, 'Def', gam)\n",
    "pred_df.head(10)"
   ]
  },
  {
   "cell_type": "markdown",
   "metadata": {},
   "source": [
    "The peak of a player's defensive abilities is reached around the age of 23, which is earlier than the peak of hitting ability at 26. This means that a player's defensive abilities will start to decline earlier. Therefore, teams should exercise caution when signing free agents primarily known for their defensive skills. Additionally, this indicates that developing a player's defensive ability is challenging, implying that talent and physical attributes play a significant role."
   ]
  },
  {
   "cell_type": "markdown",
   "metadata": {},
   "source": [
    "### Spd Aging Curve"
   ]
  },
  {
   "cell_type": "code",
   "execution_count": 11,
   "metadata": {},
   "outputs": [
    {
     "name": "stdout",
     "output_type": "stream",
     "text": [
      "(13540, 22)\n",
      "(1452, 22)\n"
     ]
    }
   ],
   "source": [
    "train_data, test_data = load_data(target = 'Spd')\n",
    "print(train_data.shape)\n",
    "print(test_data.shape)"
   ]
  },
  {
   "cell_type": "code",
   "execution_count": 12,
   "metadata": {},
   "outputs": [
    {
     "data": {
      "text/html": [
       "<div>\n",
       "<style scoped>\n",
       "    .dataframe tbody tr th:only-of-type {\n",
       "        vertical-align: middle;\n",
       "    }\n",
       "\n",
       "    .dataframe tbody tr th {\n",
       "        vertical-align: top;\n",
       "    }\n",
       "\n",
       "    .dataframe thead th {\n",
       "        text-align: right;\n",
       "    }\n",
       "</style>\n",
       "<table border=\"1\" class=\"dataframe\">\n",
       "  <thead>\n",
       "    <tr style=\"text-align: right;\">\n",
       "      <th></th>\n",
       "      <th>IDfg</th>\n",
       "      <th>Season</th>\n",
       "      <th>Name</th>\n",
       "      <th>Age</th>\n",
       "      <th>G</th>\n",
       "      <th>PA</th>\n",
       "      <th>experience</th>\n",
       "      <th>Spd</th>\n",
       "      <th>Spd_lag</th>\n",
       "      <th>Spd_career_mean</th>\n",
       "    </tr>\n",
       "  </thead>\n",
       "  <tbody>\n",
       "    <tr>\n",
       "      <th>0</th>\n",
       "      <td>1001649</td>\n",
       "      <td>1981</td>\n",
       "      <td>Al Bumbry</td>\n",
       "      <td>34</td>\n",
       "      <td>101</td>\n",
       "      <td>451</td>\n",
       "      <td>1.0</td>\n",
       "      <td>5.5</td>\n",
       "      <td>7.3</td>\n",
       "      <td>5.253262</td>\n",
       "    </tr>\n",
       "    <tr>\n",
       "      <th>1</th>\n",
       "      <td>1002689</td>\n",
       "      <td>1981</td>\n",
       "      <td>Al Cowens</td>\n",
       "      <td>29</td>\n",
       "      <td>85</td>\n",
       "      <td>284</td>\n",
       "      <td>1.0</td>\n",
       "      <td>4.6</td>\n",
       "      <td>3.7</td>\n",
       "      <td>4.549075</td>\n",
       "    </tr>\n",
       "    <tr>\n",
       "      <th>2</th>\n",
       "      <td>1009773</td>\n",
       "      <td>1981</td>\n",
       "      <td>Al Oliver</td>\n",
       "      <td>34</td>\n",
       "      <td>102</td>\n",
       "      <td>448</td>\n",
       "      <td>1.0</td>\n",
       "      <td>3.7</td>\n",
       "      <td>3.2</td>\n",
       "      <td>2.869988</td>\n",
       "    </tr>\n",
       "    <tr>\n",
       "      <th>3</th>\n",
       "      <td>1014234</td>\n",
       "      <td>1981</td>\n",
       "      <td>Al Woods</td>\n",
       "      <td>27</td>\n",
       "      <td>85</td>\n",
       "      <td>317</td>\n",
       "      <td>1.0</td>\n",
       "      <td>2.0</td>\n",
       "      <td>3.5</td>\n",
       "      <td>2.290590</td>\n",
       "    </tr>\n",
       "    <tr>\n",
       "      <th>4</th>\n",
       "      <td>1000336</td>\n",
       "      <td>1981</td>\n",
       "      <td>Alan Ashby</td>\n",
       "      <td>29</td>\n",
       "      <td>83</td>\n",
       "      <td>296</td>\n",
       "      <td>1.0</td>\n",
       "      <td>0.9</td>\n",
       "      <td>1.9</td>\n",
       "      <td>1.503665</td>\n",
       "    </tr>\n",
       "  </tbody>\n",
       "</table>\n",
       "</div>"
      ],
      "text/plain": [
       "      IDfg  Season        Name  Age    G   PA  experience  Spd  Spd_lag  \\\n",
       "0  1001649    1981   Al Bumbry   34  101  451         1.0  5.5      7.3   \n",
       "1  1002689    1981   Al Cowens   29   85  284         1.0  4.6      3.7   \n",
       "2  1009773    1981   Al Oliver   34  102  448         1.0  3.7      3.2   \n",
       "3  1014234    1981    Al Woods   27   85  317         1.0  2.0      3.5   \n",
       "4  1000336    1981  Alan Ashby   29   83  296         1.0  0.9      1.9   \n",
       "\n",
       "   Spd_career_mean  \n",
       "0         5.253262  \n",
       "1         4.549075  \n",
       "2         2.869988  \n",
       "3         2.290590  \n",
       "4         1.503665  "
      ]
     },
     "execution_count": 12,
     "metadata": {},
     "output_type": "execute_result"
    }
   ],
   "source": [
    "spd_data = add_career_mean(train_data, 'Spd')\n",
    "spd_data.head()"
   ]
  },
  {
   "cell_type": "code",
   "execution_count": 14,
   "metadata": {},
   "outputs": [],
   "source": [
    "features = ['Age', 'Spd_career_mean', 'experience', 'Spd_lag']\n",
    "target = 'Spd'\n",
    "\n",
    "x, y = generate_data(spd_data, feature_cols = features, target = target)"
   ]
  },
  {
   "cell_type": "code",
   "execution_count": 15,
   "metadata": {},
   "outputs": [
    {
     "name": "stdout",
     "output_type": "stream",
     "text": [
      "GAM                                                                                                       \n",
      "=============================================== ==========================================================\n",
      "Distribution:                        NormalDist Effective DoF:                                     17.5831\n",
      "Link Function:                     IdentityLink Log Likelihood:                                -19176.9857\n",
      "Number of Samples:                        13540 AIC:                                            38391.1378\n",
      "                                                AICc:                                           38391.1916\n",
      "                                                GCV:                                               94.4545\n",
      "                                                Scale:                                             94.2337\n",
      "                                                Pseudo R-Squared:                                   0.7341\n",
      "==========================================================================================================\n",
      "Feature Function                  Lambda               Rank         EDoF         P > x        Sig. Code   \n",
      "================================= ==================== ============ ============ ============ ============\n",
      "te(0, 2)                          [10 10]              25           10.5         1.11e-16     ***         \n",
      "s(1)                              [10]                 5            3.6          1.11e-16     ***         \n",
      "s(3)                              [10]                 5            3.5          1.11e-16     ***         \n",
      "intercept                                              1            0.0          1.11e-16     ***         \n",
      "==========================================================================================================\n",
      "Significance codes:  0 '***' 0.001 '**' 0.01 '*' 0.05 '.' 0.1 ' ' 1\n",
      "\n",
      "WARNING: Fitting splines and a linear function to a feature introduces a model identifiability problem\n",
      "         which can cause p-values to appear significant when they are not.\n",
      "\n",
      "WARNING: p-values calculated in this manner behave correctly for un-penalized models or models with\n",
      "         known smoothing parameters, but when smoothing parameters have been estimated, the p-values\n",
      "         are typically lower than they should be, meaning that the tests reject the null too readily.\n"
     ]
    },
    {
     "name": "stderr",
     "output_type": "stream",
     "text": [
      "C:\\Users\\citioplab\\AppData\\Local\\Temp\\ipykernel_14792\\3273327353.py:3: UserWarning: KNOWN BUG: p-values computed in this summary are likely much smaller than they should be. \n",
      " \n",
      "Please do not make inferences based on these values! \n",
      "\n",
      "Collaborate on a solution, and stay up to date at: \n",
      "github.com/dswah/pyGAM/issues/163 \n",
      "\n",
      "  gam.summary()\n"
     ]
    }
   ],
   "source": [
    "gam = GAM(te(0, 2, n_splines = 5, lam = 10) + s(1, n_splines = 5, lam = 10) + s(3, n_splines = 5, lam = 10))\n",
    "gam.fit(x, y, weights = spd_data['G'].values)\n",
    "gam.summary()"
   ]
  },
  {
   "cell_type": "code",
   "execution_count": 18,
   "metadata": {},
   "outputs": [],
   "source": [
    "age_lag_means = spd_data.groupby(['Age'])['Spd_lag'].mean()"
   ]
  },
  {
   "cell_type": "code",
   "execution_count": 19,
   "metadata": {},
   "outputs": [
    {
     "data": {
      "image/png": "[encoded data removed]",
      "text/plain": [
       "<Figure size 640x480 with 1 Axes>"
      ]
     },
     "metadata": {},
     "output_type": "display_data"
    }
   ],
   "source": [
    "plt.figure()\n",
    "XX = gam.generate_X_grid(term = 0, n = 1000)\n",
    "XX[:, 1] = np.mean(spd_data['Spd'])\n",
    "XX[:, 2] = np.subtract(np.floor(XX[:, 0]), 20.0)\n",
    "\n",
    "for i in range(21, 41):\n",
    "    tmp = [age_lag_means[x] for x in np.floor(XX[:, 0])]\n",
    "XX[:, 3] = tmp\n",
    "\n",
    "plt.plot(XX[:, 0], gam.predict(XX))\n",
    "plt.xticks(np.arange(20, 45, 5))\n",
    "plt.grid(True)\n",
    "plt.show()\n",
    "# plt.plot(XX[:, 0], gam.partial_dependence(term = 0, X = XX,   width = .95)[1], c = 'r', ls = '--')"
   ]
  },
  {
   "cell_type": "code",
   "execution_count": 21,
   "metadata": {},
   "outputs": [
    {
     "data": {
      "text/plain": [
       "3.9044534711964554"
      ]
     },
     "execution_count": 21,
     "metadata": {},
     "output_type": "execute_result"
    }
   ],
   "source": [
    "np.mean(spd_data['Spd'])"
   ]
  },
  {
   "cell_type": "code",
   "execution_count": 20,
   "metadata": {},
   "outputs": [
    {
     "data": {
      "text/plain": [
       "4.464105885660717"
      ]
     },
     "execution_count": 20,
     "metadata": {},
     "output_type": "execute_result"
    }
   ],
   "source": [
    "np.max(gam.predict(XX))"
   ]
  },
  {
   "cell_type": "code",
   "execution_count": 22,
   "metadata": {},
   "outputs": [
    {
     "data": {
      "text/plain": [
       "21.0"
      ]
     },
     "execution_count": 22,
     "metadata": {},
     "output_type": "execute_result"
    }
   ],
   "source": [
    "XX[np.argmax(gam.predict(XX)), 0]"
   ]
  },
  {
   "cell_type": "code",
   "execution_count": 23,
   "metadata": {},
   "outputs": [],
   "source": [
    "all_test_data = generate_test_data(spd_data, test_data, 'Spd')"
   ]
  },
  {
   "cell_type": "code",
   "execution_count": 24,
   "metadata": {},
   "outputs": [
    {
     "data": {
      "text/html": [
       "<div>\n",
       "<style scoped>\n",
       "    .dataframe tbody tr th:only-of-type {\n",
       "        vertical-align: middle;\n",
       "    }\n",
       "\n",
       "    .dataframe tbody tr th {\n",
       "        vertical-align: top;\n",
       "    }\n",
       "\n",
       "    .dataframe thead th {\n",
       "        text-align: right;\n",
       "    }\n",
       "</style>\n",
       "<table border=\"1\" class=\"dataframe\">\n",
       "  <thead>\n",
       "    <tr style=\"text-align: right;\">\n",
       "      <th></th>\n",
       "      <th>IDfg</th>\n",
       "      <th>Season</th>\n",
       "      <th>Name</th>\n",
       "      <th>Age</th>\n",
       "      <th>G</th>\n",
       "      <th>PA</th>\n",
       "      <th>experience</th>\n",
       "      <th>Spd_lag</th>\n",
       "      <th>Spd</th>\n",
       "      <th>Spd_career_mean</th>\n",
       "    </tr>\n",
       "  </thead>\n",
       "  <tbody>\n",
       "    <tr>\n",
       "      <th>0</th>\n",
       "      <td>9256</td>\n",
       "      <td>2021</td>\n",
       "      <td>A.J. Pollock</td>\n",
       "      <td>33</td>\n",
       "      <td>117</td>\n",
       "      <td>422</td>\n",
       "      <td>8.0</td>\n",
       "      <td>4.9</td>\n",
       "      <td>4.4</td>\n",
       "      <td>6.853546</td>\n",
       "    </tr>\n",
       "    <tr>\n",
       "      <th>1</th>\n",
       "      <td>5297</td>\n",
       "      <td>2021</td>\n",
       "      <td>Aaron Hicks</td>\n",
       "      <td>31</td>\n",
       "      <td>32</td>\n",
       "      <td>126</td>\n",
       "      <td>8.0</td>\n",
       "      <td>2.7</td>\n",
       "      <td>1.3</td>\n",
       "      <td>4.240727</td>\n",
       "    </tr>\n",
       "    <tr>\n",
       "      <th>2</th>\n",
       "      <td>15640</td>\n",
       "      <td>2021</td>\n",
       "      <td>Aaron Judge</td>\n",
       "      <td>29</td>\n",
       "      <td>148</td>\n",
       "      <td>633</td>\n",
       "      <td>4.0</td>\n",
       "      <td>3.6</td>\n",
       "      <td>2.9</td>\n",
       "      <td>3.283810</td>\n",
       "    </tr>\n",
       "    <tr>\n",
       "      <th>3</th>\n",
       "      <td>5486</td>\n",
       "      <td>2021</td>\n",
       "      <td>Abraham Almonte</td>\n",
       "      <td>32</td>\n",
       "      <td>64</td>\n",
       "      <td>175</td>\n",
       "      <td>7.0</td>\n",
       "      <td>5.3</td>\n",
       "      <td>2.3</td>\n",
       "      <td>6.676692</td>\n",
       "    </tr>\n",
       "    <tr>\n",
       "      <th>4</th>\n",
       "      <td>13769</td>\n",
       "      <td>2021</td>\n",
       "      <td>Adalberto Mondesi</td>\n",
       "      <td>25</td>\n",
       "      <td>35</td>\n",
       "      <td>136</td>\n",
       "      <td>5.0</td>\n",
       "      <td>9.0</td>\n",
       "      <td>8.6</td>\n",
       "      <td>8.841417</td>\n",
       "    </tr>\n",
       "  </tbody>\n",
       "</table>\n",
       "</div>"
      ],
      "text/plain": [
       "    IDfg  Season               Name  Age    G   PA  experience  Spd_lag  Spd  \\\n",
       "0   9256    2021       A.J. Pollock   33  117  422         8.0      4.9  4.4   \n",
       "1   5297    2021        Aaron Hicks   31   32  126         8.0      2.7  1.3   \n",
       "2  15640    2021        Aaron Judge   29  148  633         4.0      3.6  2.9   \n",
       "3   5486    2021    Abraham Almonte   32   64  175         7.0      5.3  2.3   \n",
       "4  13769    2021  Adalberto Mondesi   25   35  136         5.0      9.0  8.6   \n",
       "\n",
       "   Spd_career_mean  \n",
       "0         6.853546  \n",
       "1         4.240727  \n",
       "2         3.283810  \n",
       "3         6.676692  \n",
       "4         8.841417  "
      ]
     },
     "execution_count": 24,
     "metadata": {},
     "output_type": "execute_result"
    }
   ],
   "source": [
    "all_test_data.head()"
   ]
  },
  {
   "cell_type": "code",
   "execution_count": 25,
   "metadata": {},
   "outputs": [
    {
     "data": {
      "text/plain": [
       "0.9671764042853446"
      ]
     },
     "execution_count": 25,
     "metadata": {},
     "output_type": "execute_result"
    }
   ],
   "source": [
    "evaluate(all_test_data, 'Spd', gam)"
   ]
  },
  {
   "cell_type": "code",
   "execution_count": 26,
   "metadata": {},
   "outputs": [
    {
     "data": {
      "text/html": [
       "<div>\n",
       "<style scoped>\n",
       "    .dataframe tbody tr th:only-of-type {\n",
       "        vertical-align: middle;\n",
       "    }\n",
       "\n",
       "    .dataframe tbody tr th {\n",
       "        vertical-align: top;\n",
       "    }\n",
       "\n",
       "    .dataframe thead th {\n",
       "        text-align: right;\n",
       "    }\n",
       "</style>\n",
       "<table border=\"1\" class=\"dataframe\">\n",
       "  <thead>\n",
       "    <tr style=\"text-align: right;\">\n",
       "      <th></th>\n",
       "      <th>IDfg</th>\n",
       "      <th>Season</th>\n",
       "      <th>Name</th>\n",
       "      <th>Age</th>\n",
       "      <th>G</th>\n",
       "      <th>PA</th>\n",
       "      <th>experience</th>\n",
       "      <th>Spd_lag</th>\n",
       "      <th>Spd</th>\n",
       "      <th>Spd_career_mean</th>\n",
       "      <th>prediction</th>\n",
       "    </tr>\n",
       "  </thead>\n",
       "  <tbody>\n",
       "    <tr>\n",
       "      <th>0</th>\n",
       "      <td>9256</td>\n",
       "      <td>2021</td>\n",
       "      <td>A.J. Pollock</td>\n",
       "      <td>33</td>\n",
       "      <td>117</td>\n",
       "      <td>422</td>\n",
       "      <td>8.0</td>\n",
       "      <td>4.9</td>\n",
       "      <td>4.4</td>\n",
       "      <td>6.853546</td>\n",
       "      <td>6.262724</td>\n",
       "    </tr>\n",
       "    <tr>\n",
       "      <th>1</th>\n",
       "      <td>5297</td>\n",
       "      <td>2021</td>\n",
       "      <td>Aaron Hicks</td>\n",
       "      <td>31</td>\n",
       "      <td>32</td>\n",
       "      <td>126</td>\n",
       "      <td>8.0</td>\n",
       "      <td>2.7</td>\n",
       "      <td>1.3</td>\n",
       "      <td>4.240727</td>\n",
       "      <td>3.845641</td>\n",
       "    </tr>\n",
       "    <tr>\n",
       "      <th>2</th>\n",
       "      <td>15640</td>\n",
       "      <td>2021</td>\n",
       "      <td>Aaron Judge</td>\n",
       "      <td>29</td>\n",
       "      <td>148</td>\n",
       "      <td>633</td>\n",
       "      <td>4.0</td>\n",
       "      <td>3.6</td>\n",
       "      <td>2.9</td>\n",
       "      <td>3.283810</td>\n",
       "      <td>3.344654</td>\n",
       "    </tr>\n",
       "    <tr>\n",
       "      <th>3</th>\n",
       "      <td>5486</td>\n",
       "      <td>2021</td>\n",
       "      <td>Abraham Almonte</td>\n",
       "      <td>32</td>\n",
       "      <td>64</td>\n",
       "      <td>175</td>\n",
       "      <td>7.0</td>\n",
       "      <td>5.3</td>\n",
       "      <td>2.3</td>\n",
       "      <td>6.676692</td>\n",
       "      <td>6.248797</td>\n",
       "    </tr>\n",
       "    <tr>\n",
       "      <th>4</th>\n",
       "      <td>13769</td>\n",
       "      <td>2021</td>\n",
       "      <td>Adalberto Mondesi</td>\n",
       "      <td>25</td>\n",
       "      <td>35</td>\n",
       "      <td>136</td>\n",
       "      <td>5.0</td>\n",
       "      <td>9.0</td>\n",
       "      <td>8.6</td>\n",
       "      <td>8.841417</td>\n",
       "      <td>9.068486</td>\n",
       "    </tr>\n",
       "    <tr>\n",
       "      <th>5</th>\n",
       "      <td>10950</td>\n",
       "      <td>2021</td>\n",
       "      <td>Adam Duvall</td>\n",
       "      <td>32</td>\n",
       "      <td>146</td>\n",
       "      <td>555</td>\n",
       "      <td>5.0</td>\n",
       "      <td>2.8</td>\n",
       "      <td>4.2</td>\n",
       "      <td>3.320183</td>\n",
       "      <td>3.158991</td>\n",
       "    </tr>\n",
       "    <tr>\n",
       "      <th>6</th>\n",
       "      <td>11205</td>\n",
       "      <td>2021</td>\n",
       "      <td>Adam Eaton</td>\n",
       "      <td>32</td>\n",
       "      <td>84</td>\n",
       "      <td>288</td>\n",
       "      <td>9.0</td>\n",
       "      <td>6.5</td>\n",
       "      <td>6.2</td>\n",
       "      <td>6.329674</td>\n",
       "      <td>5.956589</td>\n",
       "    </tr>\n",
       "    <tr>\n",
       "      <th>7</th>\n",
       "      <td>15082</td>\n",
       "      <td>2021</td>\n",
       "      <td>Adam Engel</td>\n",
       "      <td>29</td>\n",
       "      <td>39</td>\n",
       "      <td>140</td>\n",
       "      <td>4.0</td>\n",
       "      <td>4.7</td>\n",
       "      <td>5.9</td>\n",
       "      <td>5.807032</td>\n",
       "      <td>5.734918</td>\n",
       "    </tr>\n",
       "    <tr>\n",
       "      <th>8</th>\n",
       "      <td>15223</td>\n",
       "      <td>2021</td>\n",
       "      <td>Adam Frazier</td>\n",
       "      <td>29</td>\n",
       "      <td>155</td>\n",
       "      <td>639</td>\n",
       "      <td>5.0</td>\n",
       "      <td>4.8</td>\n",
       "      <td>4.8</td>\n",
       "      <td>4.790240</td>\n",
       "      <td>4.772449</td>\n",
       "    </tr>\n",
       "    <tr>\n",
       "      <th>9</th>\n",
       "      <td>6310</td>\n",
       "      <td>2021</td>\n",
       "      <td>Alcides Escobar</td>\n",
       "      <td>34</td>\n",
       "      <td>75</td>\n",
       "      <td>349</td>\n",
       "      <td>12.0</td>\n",
       "      <td>5.0</td>\n",
       "      <td>5.3</td>\n",
       "      <td>6.001492</td>\n",
       "      <td>5.252748</td>\n",
       "    </tr>\n",
       "  </tbody>\n",
       "</table>\n",
       "</div>"
      ],
      "text/plain": [
       "    IDfg  Season               Name  Age    G   PA  experience  Spd_lag  Spd  \\\n",
       "0   9256    2021       A.J. Pollock   33  117  422         8.0      4.9  4.4   \n",
       "1   5297    2021        Aaron Hicks   31   32  126         8.0      2.7  1.3   \n",
       "2  15640    2021        Aaron Judge   29  148  633         4.0      3.6  2.9   \n",
       "3   5486    2021    Abraham Almonte   32   64  175         7.0      5.3  2.3   \n",
       "4  13769    2021  Adalberto Mondesi   25   35  136         5.0      9.0  8.6   \n",
       "5  10950    2021        Adam Duvall   32  146  555         5.0      2.8  4.2   \n",
       "6  11205    2021         Adam Eaton   32   84  288         9.0      6.5  6.2   \n",
       "7  15082    2021         Adam Engel   29   39  140         4.0      4.7  5.9   \n",
       "8  15223    2021       Adam Frazier   29  155  639         5.0      4.8  4.8   \n",
       "9   6310    2021    Alcides Escobar   34   75  349        12.0      5.0  5.3   \n",
       "\n",
       "   Spd_career_mean  prediction  \n",
       "0         6.853546    6.262724  \n",
       "1         4.240727    3.845641  \n",
       "2         3.283810    3.344654  \n",
       "3         6.676692    6.248797  \n",
       "4         8.841417    9.068486  \n",
       "5         3.320183    3.158991  \n",
       "6         6.329674    5.956589  \n",
       "7         5.807032    5.734918  \n",
       "8         4.790240    4.772449  \n",
       "9         6.001492    5.252748  "
      ]
     },
     "execution_count": 26,
     "metadata": {},
     "output_type": "execute_result"
    }
   ],
   "source": [
    "pred_df = inference(all_test_data, 'Spd', gam)\n",
    "pred_df.head(10)"
   ]
  },
  {
   "cell_type": "markdown",
   "metadata": {},
   "source": [
    "This indicates that a player's base running has decreased since the start of his MLB career. That is to say, the speed of running bases is primarily determined by natural talent. Again, teams should be cautious when signing free agents who are primarily known for their speed."
   ]
  },
  {
   "cell_type": "markdown",
   "metadata": {},
   "source": [
    "### WAR Aging Curve"
   ]
  },
  {
   "cell_type": "code",
   "execution_count": 11,
   "metadata": {},
   "outputs": [
    {
     "name": "stdout",
     "output_type": "stream",
     "text": [
      "(13540, 22)\n",
      "(1452, 22)\n"
     ]
    }
   ],
   "source": [
    "train_data, test_data = load_data(target = 'WAR')\n",
    "print(train_data.shape)\n",
    "print(test_data.shape)"
   ]
  },
  {
   "cell_type": "code",
   "execution_count": 12,
   "metadata": {},
   "outputs": [
    {
     "data": {
      "text/html": [
       "<div>\n",
       "<style scoped>\n",
       "    .dataframe tbody tr th:only-of-type {\n",
       "        vertical-align: middle;\n",
       "    }\n",
       "\n",
       "    .dataframe tbody tr th {\n",
       "        vertical-align: top;\n",
       "    }\n",
       "\n",
       "    .dataframe thead th {\n",
       "        text-align: right;\n",
       "    }\n",
       "</style>\n",
       "<table border=\"1\" class=\"dataframe\">\n",
       "  <thead>\n",
       "    <tr style=\"text-align: right;\">\n",
       "      <th></th>\n",
       "      <th>IDfg</th>\n",
       "      <th>Season</th>\n",
       "      <th>Name</th>\n",
       "      <th>Age</th>\n",
       "      <th>G</th>\n",
       "      <th>PA</th>\n",
       "      <th>experience</th>\n",
       "      <th>WAR</th>\n",
       "      <th>WAR_lag</th>\n",
       "      <th>WAR_career_mean</th>\n",
       "    </tr>\n",
       "  </thead>\n",
       "  <tbody>\n",
       "    <tr>\n",
       "      <th>0</th>\n",
       "      <td>1001649</td>\n",
       "      <td>1981</td>\n",
       "      <td>Al Bumbry</td>\n",
       "      <td>34</td>\n",
       "      <td>101</td>\n",
       "      <td>451</td>\n",
       "      <td>1.0</td>\n",
       "      <td>0.7</td>\n",
       "      <td>6.1</td>\n",
       "      <td>0.846381</td>\n",
       "    </tr>\n",
       "    <tr>\n",
       "      <th>1</th>\n",
       "      <td>1002689</td>\n",
       "      <td>1981</td>\n",
       "      <td>Al Cowens</td>\n",
       "      <td>29</td>\n",
       "      <td>85</td>\n",
       "      <td>284</td>\n",
       "      <td>1.0</td>\n",
       "      <td>0.6</td>\n",
       "      <td>0.2</td>\n",
       "      <td>0.786667</td>\n",
       "    </tr>\n",
       "    <tr>\n",
       "      <th>2</th>\n",
       "      <td>1009773</td>\n",
       "      <td>1981</td>\n",
       "      <td>Al Oliver</td>\n",
       "      <td>34</td>\n",
       "      <td>102</td>\n",
       "      <td>448</td>\n",
       "      <td>1.0</td>\n",
       "      <td>1.3</td>\n",
       "      <td>3.4</td>\n",
       "      <td>1.825994</td>\n",
       "    </tr>\n",
       "    <tr>\n",
       "      <th>3</th>\n",
       "      <td>1014234</td>\n",
       "      <td>1981</td>\n",
       "      <td>Al Woods</td>\n",
       "      <td>27</td>\n",
       "      <td>85</td>\n",
       "      <td>317</td>\n",
       "      <td>1.0</td>\n",
       "      <td>-0.2</td>\n",
       "      <td>2.4</td>\n",
       "      <td>-0.407565</td>\n",
       "    </tr>\n",
       "    <tr>\n",
       "      <th>4</th>\n",
       "      <td>1000336</td>\n",
       "      <td>1981</td>\n",
       "      <td>Alan Ashby</td>\n",
       "      <td>29</td>\n",
       "      <td>83</td>\n",
       "      <td>296</td>\n",
       "      <td>1.0</td>\n",
       "      <td>2.5</td>\n",
       "      <td>0.8</td>\n",
       "      <td>1.313733</td>\n",
       "    </tr>\n",
       "  </tbody>\n",
       "</table>\n",
       "</div>"
      ],
      "text/plain": [
       "      IDfg  Season        Name  Age    G   PA  experience  WAR  WAR_lag  \\\n",
       "0  1001649    1981   Al Bumbry   34  101  451         1.0  0.7      6.1   \n",
       "1  1002689    1981   Al Cowens   29   85  284         1.0  0.6      0.2   \n",
       "2  1009773    1981   Al Oliver   34  102  448         1.0  1.3      3.4   \n",
       "3  1014234    1981    Al Woods   27   85  317         1.0 -0.2      2.4   \n",
       "4  1000336    1981  Alan Ashby   29   83  296         1.0  2.5      0.8   \n",
       "\n",
       "   WAR_career_mean  \n",
       "0         0.846381  \n",
       "1         0.786667  \n",
       "2         1.825994  \n",
       "3        -0.407565  \n",
       "4         1.313733  "
      ]
     },
     "execution_count": 12,
     "metadata": {},
     "output_type": "execute_result"
    }
   ],
   "source": [
    "war_data = add_career_mean(train_data, 'WAR')\n",
    "war_data.head()"
   ]
  },
  {
   "cell_type": "code",
   "execution_count": 13,
   "metadata": {},
   "outputs": [],
   "source": [
    "features = ['Age', 'WAR_career_mean', 'experience', 'WAR_lag']\n",
    "target = 'WAR'\n",
    "\n",
    "x, y = generate_data(war_data, feature_cols = features, target = target)"
   ]
  },
  {
   "cell_type": "code",
   "execution_count": 14,
   "metadata": {},
   "outputs": [
    {
     "name": "stdout",
     "output_type": "stream",
     "text": [
      "GAM                                                                                                       \n",
      "=============================================== ==========================================================\n",
      "Distribution:                        NormalDist Effective DoF:                                     16.9904\n",
      "Link Function:                     IdentityLink Log Likelihood:                                -26197.1677\n",
      "Number of Samples:                        13540 AIC:                                            52430.3162\n",
      "                                                AICc:                                           52430.3668\n",
      "                                                GCV:                                              215.1521\n",
      "                                                Scale:                                            214.6662\n",
      "                                                Pseudo R-Squared:                                   0.5611\n",
      "==========================================================================================================\n",
      "Feature Function                  Lambda               Rank         EDoF         P > x        Sig. Code   \n",
      "================================= ==================== ============ ============ ============ ============\n",
      "te(0, 2)                          [10 10]              25           10.5         1.11e-16     ***         \n",
      "s(1)                              [10]                 5            3.4          1.11e-16     ***         \n",
      "s(3)                              [10]                 5            3.1          1.11e-16     ***         \n",
      "intercept                                              1            0.0          1.51e-09     ***         \n",
      "==========================================================================================================\n",
      "Significance codes:  0 '***' 0.001 '**' 0.01 '*' 0.05 '.' 0.1 ' ' 1\n",
      "\n",
      "WARNING: Fitting splines and a linear function to a feature introduces a model identifiability problem\n",
      "         which can cause p-values to appear significant when they are not.\n",
      "\n",
      "WARNING: p-values calculated in this manner behave correctly for un-penalized models or models with\n",
      "         known smoothing parameters, but when smoothing parameters have been estimated, the p-values\n",
      "         are typically lower than they should be, meaning that the tests reject the null too readily.\n"
     ]
    },
    {
     "name": "stderr",
     "output_type": "stream",
     "text": [
      "C:\\Users\\citioplab\\AppData\\Local\\Temp\\ipykernel_36000\\2913956295.py:3: UserWarning: KNOWN BUG: p-values computed in this summary are likely much smaller than they should be. \n",
      " \n",
      "Please do not make inferences based on these values! \n",
      "\n",
      "Collaborate on a solution, and stay up to date at: \n",
      "github.com/dswah/pyGAM/issues/163 \n",
      "\n",
      "  gam.summary()\n"
     ]
    }
   ],
   "source": [
    "gam = GAM(te(0, 2, n_splines = 5, lam = 10) + s(1, n_splines = 5, lam = 10) + s(3, n_splines = 5, lam = 10))\n",
    "gam.fit(x, y, weights = war_data['G'].values)\n",
    "gam.summary()"
   ]
  },
  {
   "cell_type": "code",
   "execution_count": 15,
   "metadata": {},
   "outputs": [],
   "source": [
    "age_lag_means = war_data.groupby(['Age'])['WAR_lag'].mean()"
   ]
  },
  {
   "cell_type": "code",
   "execution_count": 16,
   "metadata": {},
   "outputs": [
    {
     "data": {
      "image/png": "[encoded data removed]",
      "text/plain": [
       "<Figure size 640x480 with 1 Axes>"
      ]
     },
     "metadata": {},
     "output_type": "display_data"
    }
   ],
   "source": [
    "plt.figure()\n",
    "XX = gam.generate_X_grid(term = 0, n = 1000)\n",
    "XX[:, 1] = np.mean(war_data['WAR'])\n",
    "XX[:, 2] = np.subtract(np.floor(XX[:, 0]), 20.0)\n",
    "\n",
    "for i in range(21, 41):\n",
    "    tmp = [age_lag_means[x] for x in np.floor(XX[:, 0])]\n",
    "XX[:, 3] = tmp\n",
    "\n",
    "plt.plot(XX[:, 0], gam.predict(XX))\n",
    "plt.xticks(np.arange(20, 45, 5))\n",
    "plt.grid(True)\n",
    "plt.show()\n",
    "# plt.plot(XX[:, 0], gam.partial_dependence(term = 0, X = XX,   width = .95)[1], c = 'r', ls = '--')"
   ]
  },
  {
   "cell_type": "code",
   "execution_count": 17,
   "metadata": {},
   "outputs": [
    {
     "data": {
      "text/plain": [
       "1.4684121122599705"
      ]
     },
     "execution_count": 17,
     "metadata": {},
     "output_type": "execute_result"
    }
   ],
   "source": [
    "np.mean(war_data['WAR'])"
   ]
  },
  {
   "cell_type": "code",
   "execution_count": 18,
   "metadata": {},
   "outputs": [
    {
     "data": {
      "text/plain": [
       "1.9040903718079083"
      ]
     },
     "execution_count": 18,
     "metadata": {},
     "output_type": "execute_result"
    }
   ],
   "source": [
    "np.max(gam.predict(XX))"
   ]
  },
  {
   "cell_type": "code",
   "execution_count": 19,
   "metadata": {},
   "outputs": [
    {
     "data": {
      "text/plain": [
       "25.013013013013015"
      ]
     },
     "execution_count": 19,
     "metadata": {},
     "output_type": "execute_result"
    }
   ],
   "source": [
    "XX[np.argmax(gam.predict(XX)), 0]"
   ]
  },
  {
   "cell_type": "code",
   "execution_count": 20,
   "metadata": {},
   "outputs": [],
   "source": [
    "all_test_data = generate_test_data(war_data, test_data, 'WAR')"
   ]
  },
  {
   "cell_type": "code",
   "execution_count": 21,
   "metadata": {},
   "outputs": [
    {
     "data": {
      "text/html": [
       "<div>\n",
       "<style scoped>\n",
       "    .dataframe tbody tr th:only-of-type {\n",
       "        vertical-align: middle;\n",
       "    }\n",
       "\n",
       "    .dataframe tbody tr th {\n",
       "        vertical-align: top;\n",
       "    }\n",
       "\n",
       "    .dataframe thead th {\n",
       "        text-align: right;\n",
       "    }\n",
       "</style>\n",
       "<table border=\"1\" class=\"dataframe\">\n",
       "  <thead>\n",
       "    <tr style=\"text-align: right;\">\n",
       "      <th></th>\n",
       "      <th>IDfg</th>\n",
       "      <th>Season</th>\n",
       "      <th>Name</th>\n",
       "      <th>Age</th>\n",
       "      <th>G</th>\n",
       "      <th>PA</th>\n",
       "      <th>experience</th>\n",
       "      <th>WAR_lag</th>\n",
       "      <th>WAR</th>\n",
       "      <th>WAR_career_mean</th>\n",
       "    </tr>\n",
       "  </thead>\n",
       "  <tbody>\n",
       "    <tr>\n",
       "      <th>0</th>\n",
       "      <td>9256</td>\n",
       "      <td>2021</td>\n",
       "      <td>A.J. Pollock</td>\n",
       "      <td>33</td>\n",
       "      <td>117</td>\n",
       "      <td>422</td>\n",
       "      <td>8.0</td>\n",
       "      <td>0.5</td>\n",
       "      <td>3.2</td>\n",
       "      <td>3.438824</td>\n",
       "    </tr>\n",
       "    <tr>\n",
       "      <th>1</th>\n",
       "      <td>5297</td>\n",
       "      <td>2021</td>\n",
       "      <td>Aaron Hicks</td>\n",
       "      <td>31</td>\n",
       "      <td>32</td>\n",
       "      <td>126</td>\n",
       "      <td>8.0</td>\n",
       "      <td>0.6</td>\n",
       "      <td>0.1</td>\n",
       "      <td>1.874689</td>\n",
       "    </tr>\n",
       "    <tr>\n",
       "      <th>2</th>\n",
       "      <td>15640</td>\n",
       "      <td>2021</td>\n",
       "      <td>Aaron Judge</td>\n",
       "      <td>29</td>\n",
       "      <td>148</td>\n",
       "      <td>633</td>\n",
       "      <td>4.0</td>\n",
       "      <td>4.2</td>\n",
       "      <td>5.5</td>\n",
       "      <td>4.674286</td>\n",
       "    </tr>\n",
       "    <tr>\n",
       "      <th>3</th>\n",
       "      <td>5486</td>\n",
       "      <td>2021</td>\n",
       "      <td>Abraham Almonte</td>\n",
       "      <td>32</td>\n",
       "      <td>64</td>\n",
       "      <td>175</td>\n",
       "      <td>7.0</td>\n",
       "      <td>-0.8</td>\n",
       "      <td>-0.1</td>\n",
       "      <td>0.261153</td>\n",
       "    </tr>\n",
       "    <tr>\n",
       "      <th>4</th>\n",
       "      <td>13769</td>\n",
       "      <td>2021</td>\n",
       "      <td>Adalberto Mondesi</td>\n",
       "      <td>25</td>\n",
       "      <td>35</td>\n",
       "      <td>136</td>\n",
       "      <td>5.0</td>\n",
       "      <td>2.6</td>\n",
       "      <td>1.0</td>\n",
       "      <td>2.679292</td>\n",
       "    </tr>\n",
       "  </tbody>\n",
       "</table>\n",
       "</div>"
      ],
      "text/plain": [
       "    IDfg  Season               Name  Age    G   PA  experience  WAR_lag  WAR  \\\n",
       "0   9256    2021       A.J. Pollock   33  117  422         8.0      0.5  3.2   \n",
       "1   5297    2021        Aaron Hicks   31   32  126         8.0      0.6  0.1   \n",
       "2  15640    2021        Aaron Judge   29  148  633         4.0      4.2  5.5   \n",
       "3   5486    2021    Abraham Almonte   32   64  175         7.0     -0.8 -0.1   \n",
       "4  13769    2021  Adalberto Mondesi   25   35  136         5.0      2.6  1.0   \n",
       "\n",
       "   WAR_career_mean  \n",
       "0         3.438824  \n",
       "1         1.874689  \n",
       "2         4.674286  \n",
       "3         0.261153  \n",
       "4         2.679292  "
      ]
     },
     "execution_count": 21,
     "metadata": {},
     "output_type": "execute_result"
    }
   ],
   "source": [
    "all_test_data.head()"
   ]
  },
  {
   "cell_type": "code",
   "execution_count": 22,
   "metadata": {},
   "outputs": [
    {
     "data": {
      "text/plain": [
       "1.472874265005307"
      ]
     },
     "execution_count": 22,
     "metadata": {},
     "output_type": "execute_result"
    }
   ],
   "source": [
    "evaluate(all_test_data, 'WAR', gam)"
   ]
  },
  {
   "cell_type": "code",
   "execution_count": 23,
   "metadata": {},
   "outputs": [
    {
     "data": {
      "text/html": [
       "<div>\n",
       "<style scoped>\n",
       "    .dataframe tbody tr th:only-of-type {\n",
       "        vertical-align: middle;\n",
       "    }\n",
       "\n",
       "    .dataframe tbody tr th {\n",
       "        vertical-align: top;\n",
       "    }\n",
       "\n",
       "    .dataframe thead th {\n",
       "        text-align: right;\n",
       "    }\n",
       "</style>\n",
       "<table border=\"1\" class=\"dataframe\">\n",
       "  <thead>\n",
       "    <tr style=\"text-align: right;\">\n",
       "      <th></th>\n",
       "      <th>IDfg</th>\n",
       "      <th>Season</th>\n",
       "      <th>Name</th>\n",
       "      <th>Age</th>\n",
       "      <th>G</th>\n",
       "      <th>PA</th>\n",
       "      <th>experience</th>\n",
       "      <th>WAR_lag</th>\n",
       "      <th>WAR</th>\n",
       "      <th>WAR_career_mean</th>\n",
       "      <th>prediction</th>\n",
       "    </tr>\n",
       "  </thead>\n",
       "  <tbody>\n",
       "    <tr>\n",
       "      <th>0</th>\n",
       "      <td>9256</td>\n",
       "      <td>2021</td>\n",
       "      <td>A.J. Pollock</td>\n",
       "      <td>33</td>\n",
       "      <td>117</td>\n",
       "      <td>422</td>\n",
       "      <td>8.0</td>\n",
       "      <td>0.5</td>\n",
       "      <td>3.2</td>\n",
       "      <td>3.438824</td>\n",
       "      <td>2.827177</td>\n",
       "    </tr>\n",
       "    <tr>\n",
       "      <th>1</th>\n",
       "      <td>5297</td>\n",
       "      <td>2021</td>\n",
       "      <td>Aaron Hicks</td>\n",
       "      <td>31</td>\n",
       "      <td>32</td>\n",
       "      <td>126</td>\n",
       "      <td>8.0</td>\n",
       "      <td>0.6</td>\n",
       "      <td>0.1</td>\n",
       "      <td>1.874689</td>\n",
       "      <td>1.518482</td>\n",
       "    </tr>\n",
       "    <tr>\n",
       "      <th>2</th>\n",
       "      <td>15640</td>\n",
       "      <td>2021</td>\n",
       "      <td>Aaron Judge</td>\n",
       "      <td>29</td>\n",
       "      <td>148</td>\n",
       "      <td>633</td>\n",
       "      <td>4.0</td>\n",
       "      <td>4.2</td>\n",
       "      <td>5.5</td>\n",
       "      <td>4.674286</td>\n",
       "      <td>4.989498</td>\n",
       "    </tr>\n",
       "    <tr>\n",
       "      <th>3</th>\n",
       "      <td>5486</td>\n",
       "      <td>2021</td>\n",
       "      <td>Abraham Almonte</td>\n",
       "      <td>32</td>\n",
       "      <td>64</td>\n",
       "      <td>175</td>\n",
       "      <td>7.0</td>\n",
       "      <td>-0.8</td>\n",
       "      <td>-0.1</td>\n",
       "      <td>0.261153</td>\n",
       "      <td>-0.093308</td>\n",
       "    </tr>\n",
       "    <tr>\n",
       "      <th>4</th>\n",
       "      <td>13769</td>\n",
       "      <td>2021</td>\n",
       "      <td>Adalberto Mondesi</td>\n",
       "      <td>25</td>\n",
       "      <td>35</td>\n",
       "      <td>136</td>\n",
       "      <td>5.0</td>\n",
       "      <td>2.6</td>\n",
       "      <td>1.0</td>\n",
       "      <td>2.679292</td>\n",
       "      <td>3.201168</td>\n",
       "    </tr>\n",
       "    <tr>\n",
       "      <th>5</th>\n",
       "      <td>10950</td>\n",
       "      <td>2021</td>\n",
       "      <td>Adam Duvall</td>\n",
       "      <td>32</td>\n",
       "      <td>146</td>\n",
       "      <td>555</td>\n",
       "      <td>5.0</td>\n",
       "      <td>1.0</td>\n",
       "      <td>2.3</td>\n",
       "      <td>1.665282</td>\n",
       "      <td>1.521952</td>\n",
       "    </tr>\n",
       "    <tr>\n",
       "      <th>6</th>\n",
       "      <td>11205</td>\n",
       "      <td>2021</td>\n",
       "      <td>Adam Eaton</td>\n",
       "      <td>32</td>\n",
       "      <td>84</td>\n",
       "      <td>288</td>\n",
       "      <td>9.0</td>\n",
       "      <td>2.0</td>\n",
       "      <td>-0.6</td>\n",
       "      <td>3.317559</td>\n",
       "      <td>2.796420</td>\n",
       "    </tr>\n",
       "    <tr>\n",
       "      <th>7</th>\n",
       "      <td>15082</td>\n",
       "      <td>2021</td>\n",
       "      <td>Adam Engel</td>\n",
       "      <td>29</td>\n",
       "      <td>39</td>\n",
       "      <td>140</td>\n",
       "      <td>4.0</td>\n",
       "      <td>0.8</td>\n",
       "      <td>1.4</td>\n",
       "      <td>0.995359</td>\n",
       "      <td>1.113994</td>\n",
       "    </tr>\n",
       "    <tr>\n",
       "      <th>8</th>\n",
       "      <td>15223</td>\n",
       "      <td>2021</td>\n",
       "      <td>Adam Frazier</td>\n",
       "      <td>29</td>\n",
       "      <td>155</td>\n",
       "      <td>639</td>\n",
       "      <td>5.0</td>\n",
       "      <td>2.6</td>\n",
       "      <td>3.3</td>\n",
       "      <td>1.879915</td>\n",
       "      <td>2.109554</td>\n",
       "    </tr>\n",
       "    <tr>\n",
       "      <th>9</th>\n",
       "      <td>6310</td>\n",
       "      <td>2021</td>\n",
       "      <td>Alcides Escobar</td>\n",
       "      <td>34</td>\n",
       "      <td>75</td>\n",
       "      <td>349</td>\n",
       "      <td>12.0</td>\n",
       "      <td>-0.9</td>\n",
       "      <td>1.4</td>\n",
       "      <td>1.348994</td>\n",
       "      <td>0.217593</td>\n",
       "    </tr>\n",
       "  </tbody>\n",
       "</table>\n",
       "</div>"
      ],
      "text/plain": [
       "    IDfg  Season               Name  Age    G   PA  experience  WAR_lag  WAR  \\\n",
       "0   9256    2021       A.J. Pollock   33  117  422         8.0      0.5  3.2   \n",
       "1   5297    2021        Aaron Hicks   31   32  126         8.0      0.6  0.1   \n",
       "2  15640    2021        Aaron Judge   29  148  633         4.0      4.2  5.5   \n",
       "3   5486    2021    Abraham Almonte   32   64  175         7.0     -0.8 -0.1   \n",
       "4  13769    2021  Adalberto Mondesi   25   35  136         5.0      2.6  1.0   \n",
       "5  10950    2021        Adam Duvall   32  146  555         5.0      1.0  2.3   \n",
       "6  11205    2021         Adam Eaton   32   84  288         9.0      2.0 -0.6   \n",
       "7  15082    2021         Adam Engel   29   39  140         4.0      0.8  1.4   \n",
       "8  15223    2021       Adam Frazier   29  155  639         5.0      2.6  3.3   \n",
       "9   6310    2021    Alcides Escobar   34   75  349        12.0     -0.9  1.4   \n",
       "\n",
       "   WAR_career_mean  prediction  \n",
       "0         3.438824    2.827177  \n",
       "1         1.874689    1.518482  \n",
       "2         4.674286    4.989498  \n",
       "3         0.261153   -0.093308  \n",
       "4         2.679292    3.201168  \n",
       "5         1.665282    1.521952  \n",
       "6         3.317559    2.796420  \n",
       "7         0.995359    1.113994  \n",
       "8         1.879915    2.109554  \n",
       "9         1.348994    0.217593  "
      ]
     },
     "execution_count": 23,
     "metadata": {},
     "output_type": "execute_result"
    }
   ],
   "source": [
    "pred_df = inference(all_test_data, 'WAR', gam)\n",
    "pred_df.head(10)"
   ]
  },
  {
   "cell_type": "markdown",
   "metadata": {},
   "source": [
    "Position players typically reach the peak of their overall contribution around the age of 25. Simiarly, the contribution of position players tends to decline significantly after the age of 35. Therefore, when signing a long-term contract lasting over 10 years, a team should consider whether the player's contributions in the early years of the contract will offset any decline in performance that may occur later on."
   ]
  },
  {
   "cell_type": "markdown",
   "metadata": {},
   "source": []
  }
 ],
 "metadata": {
  "kernelspec": {
   "display_name": "plant_venv",
   "language": "python",
   "name": "python3"
  },
  "language_info": {
   "codemirror_mode": {
    "name": "ipython",
    "version": 3
   },
   "file_extension": ".py",
   "mimetype": "text/x-python",
   "name": "python",
   "nbconvert_exporter": "python",
   "pygments_lexer": "ipython3",
   "version": "3.11.0"
  }
 },
 "nbformat": 4,
 "nbformat_minor": 2
}
