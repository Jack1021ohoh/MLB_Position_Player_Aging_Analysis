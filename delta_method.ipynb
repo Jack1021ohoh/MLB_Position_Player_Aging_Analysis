{
 "cells": [
  {
   "cell_type": "code",
   "execution_count": 1,
   "metadata": {},
   "outputs": [],
   "source": [
    "import pandas as pd\n",
    "import numpy as np\n",
    "import matplotlib.pyplot as plt\n",
    "from scipy.stats import hmean\n",
    "from sklearn.metrics import mean_absolute_error"
   ]
  },
  {
   "cell_type": "code",
   "execution_count": 2,
   "metadata": {},
   "outputs": [],
   "source": [
    "train_data = pd.read_csv('./data/hitter_train_data.csv')\n",
    "test_data = pd.read_csv('./data/hitter_test_data.csv')"
   ]
  },
  {
   "cell_type": "code",
   "execution_count": 3,
   "metadata": {},
   "outputs": [
    {
     "name": "stdout",
     "output_type": "stream",
     "text": [
      "(16625, 20)\n",
      "(1848, 20)\n"
     ]
    }
   ],
   "source": [
    "print(train_data.shape)\n",
    "print(test_data.shape)"
   ]
  },
  {
   "cell_type": "code",
   "execution_count": 4,
   "metadata": {},
   "outputs": [
    {
     "data": {
      "text/html": [
       "<div>\n",
       "<style scoped>\n",
       "    .dataframe tbody tr th:only-of-type {\n",
       "        vertical-align: middle;\n",
       "    }\n",
       "\n",
       "    .dataframe tbody tr th {\n",
       "        vertical-align: top;\n",
       "    }\n",
       "\n",
       "    .dataframe thead th {\n",
       "        text-align: right;\n",
       "    }\n",
       "</style>\n",
       "<table border=\"1\" class=\"dataframe\">\n",
       "  <thead>\n",
       "    <tr style=\"text-align: right;\">\n",
       "      <th></th>\n",
       "      <th>IDfg</th>\n",
       "      <th>Season</th>\n",
       "      <th>Name</th>\n",
       "      <th>Team</th>\n",
       "      <th>Age</th>\n",
       "      <th>G</th>\n",
       "      <th>AB</th>\n",
       "      <th>PA</th>\n",
       "      <th>H</th>\n",
       "      <th>HR</th>\n",
       "      <th>SO</th>\n",
       "      <th>SB</th>\n",
       "      <th>OPS</th>\n",
       "      <th>ISO</th>\n",
       "      <th>wOBA</th>\n",
       "      <th>WAR</th>\n",
       "      <th>Spd</th>\n",
       "      <th>wRC+</th>\n",
       "      <th>Def</th>\n",
       "      <th>Fld</th>\n",
       "    </tr>\n",
       "  </thead>\n",
       "  <tbody>\n",
       "    <tr>\n",
       "      <th>0</th>\n",
       "      <td>1014396</td>\n",
       "      <td>1982</td>\n",
       "      <td>Robin Yount</td>\n",
       "      <td>MIL</td>\n",
       "      <td>26</td>\n",
       "      <td>156</td>\n",
       "      <td>635</td>\n",
       "      <td>704</td>\n",
       "      <td>210</td>\n",
       "      <td>29</td>\n",
       "      <td>63</td>\n",
       "      <td>14</td>\n",
       "      <td>0.957</td>\n",
       "      <td>0.247</td>\n",
       "      <td>0.415</td>\n",
       "      <td>9.8</td>\n",
       "      <td>6.9</td>\n",
       "      <td>164</td>\n",
       "      <td>16.2</td>\n",
       "      <td>8.0</td>\n",
       "    </tr>\n",
       "    <tr>\n",
       "      <th>1</th>\n",
       "      <td>1010978</td>\n",
       "      <td>1984</td>\n",
       "      <td>Cal Ripken</td>\n",
       "      <td>BAL</td>\n",
       "      <td>23</td>\n",
       "      <td>162</td>\n",
       "      <td>641</td>\n",
       "      <td>716</td>\n",
       "      <td>195</td>\n",
       "      <td>27</td>\n",
       "      <td>89</td>\n",
       "      <td>2</td>\n",
       "      <td>0.884</td>\n",
       "      <td>0.206</td>\n",
       "      <td>0.393</td>\n",
       "      <td>9.8</td>\n",
       "      <td>4.0</td>\n",
       "      <td>146</td>\n",
       "      <td>31.9</td>\n",
       "      <td>23.0</td>\n",
       "    </tr>\n",
       "    <tr>\n",
       "      <th>2</th>\n",
       "      <td>194</td>\n",
       "      <td>1985</td>\n",
       "      <td>Rickey Henderson</td>\n",
       "      <td>NYY</td>\n",
       "      <td>26</td>\n",
       "      <td>143</td>\n",
       "      <td>547</td>\n",
       "      <td>654</td>\n",
       "      <td>172</td>\n",
       "      <td>24</td>\n",
       "      <td>65</td>\n",
       "      <td>80</td>\n",
       "      <td>0.934</td>\n",
       "      <td>0.201</td>\n",
       "      <td>0.413</td>\n",
       "      <td>9.7</td>\n",
       "      <td>8.5</td>\n",
       "      <td>159</td>\n",
       "      <td>13.8</td>\n",
       "      <td>14.0</td>\n",
       "    </tr>\n",
       "    <tr>\n",
       "      <th>3</th>\n",
       "      <td>1001400</td>\n",
       "      <td>1980</td>\n",
       "      <td>George Brett</td>\n",
       "      <td>KCR</td>\n",
       "      <td>27</td>\n",
       "      <td>117</td>\n",
       "      <td>449</td>\n",
       "      <td>515</td>\n",
       "      <td>175</td>\n",
       "      <td>24</td>\n",
       "      <td>22</td>\n",
       "      <td>15</td>\n",
       "      <td>1.118</td>\n",
       "      <td>0.274</td>\n",
       "      <td>0.478</td>\n",
       "      <td>9.1</td>\n",
       "      <td>6.3</td>\n",
       "      <td>198</td>\n",
       "      <td>9.6</td>\n",
       "      <td>9.0</td>\n",
       "    </tr>\n",
       "    <tr>\n",
       "      <th>4</th>\n",
       "      <td>1011586</td>\n",
       "      <td>1980</td>\n",
       "      <td>Mike Schmidt</td>\n",
       "      <td>PHI</td>\n",
       "      <td>30</td>\n",
       "      <td>150</td>\n",
       "      <td>548</td>\n",
       "      <td>652</td>\n",
       "      <td>157</td>\n",
       "      <td>48</td>\n",
       "      <td>119</td>\n",
       "      <td>12</td>\n",
       "      <td>1.004</td>\n",
       "      <td>0.338</td>\n",
       "      <td>0.428</td>\n",
       "      <td>9.0</td>\n",
       "      <td>5.6</td>\n",
       "      <td>172</td>\n",
       "      <td>11.9</td>\n",
       "      <td>11.0</td>\n",
       "    </tr>\n",
       "  </tbody>\n",
       "</table>\n",
       "</div>"
      ],
      "text/plain": [
       "      IDfg  Season              Name Team  Age    G   AB   PA    H  HR   SO  \\\n",
       "0  1014396    1982       Robin Yount  MIL   26  156  635  704  210  29   63   \n",
       "1  1010978    1984        Cal Ripken  BAL   23  162  641  716  195  27   89   \n",
       "2      194    1985  Rickey Henderson  NYY   26  143  547  654  172  24   65   \n",
       "3  1001400    1980      George Brett  KCR   27  117  449  515  175  24   22   \n",
       "4  1011586    1980      Mike Schmidt  PHI   30  150  548  652  157  48  119   \n",
       "\n",
       "   SB    OPS    ISO   wOBA  WAR  Spd  wRC+   Def   Fld  \n",
       "0  14  0.957  0.247  0.415  9.8  6.9   164  16.2   8.0  \n",
       "1   2  0.884  0.206  0.393  9.8  4.0   146  31.9  23.0  \n",
       "2  80  0.934  0.201  0.413  9.7  8.5   159  13.8  14.0  \n",
       "3  15  1.118  0.274  0.478  9.1  6.3   198   9.6   9.0  \n",
       "4  12  1.004  0.338  0.428  9.0  5.6   172  11.9  11.0  "
      ]
     },
     "execution_count": 4,
     "metadata": {},
     "output_type": "execute_result"
    }
   ],
   "source": [
    "train_data.head()"
   ]
  },
  {
   "cell_type": "code",
   "execution_count": 5,
   "metadata": {},
   "outputs": [],
   "source": [
    "train_data = train_data.loc[(train_data['Age'] >= 20).values & (train_data['Age'] <= 40).values, :]\n",
    "test_data = test_data.loc[(test_data['Age'] >= 21).values & (test_data['Age'] <= 40).values, :]"
   ]
  },
  {
   "cell_type": "code",
   "execution_count": 6,
   "metadata": {},
   "outputs": [
    {
     "name": "stdout",
     "output_type": "stream",
     "text": [
      "(16535, 20)\n",
      "(1840, 20)\n"
     ]
    }
   ],
   "source": [
    "print(train_data.shape)\n",
    "print(test_data.shape)"
   ]
  },
  {
   "cell_type": "code",
   "execution_count": 7,
   "metadata": {},
   "outputs": [],
   "source": [
    "train_data = train_data.sort_values(by = ['Season', 'Name']).reset_index(drop = True)\n",
    "test_data = test_data.sort_values(by = ['Season', 'Name']).reset_index(drop = True)"
   ]
  },
  {
   "cell_type": "code",
   "execution_count": 8,
   "metadata": {},
   "outputs": [
    {
     "data": {
      "text/html": [
       "<div>\n",
       "<style scoped>\n",
       "    .dataframe tbody tr th:only-of-type {\n",
       "        vertical-align: middle;\n",
       "    }\n",
       "\n",
       "    .dataframe tbody tr th {\n",
       "        vertical-align: top;\n",
       "    }\n",
       "\n",
       "    .dataframe thead th {\n",
       "        text-align: right;\n",
       "    }\n",
       "</style>\n",
       "<table border=\"1\" class=\"dataframe\">\n",
       "  <thead>\n",
       "    <tr style=\"text-align: right;\">\n",
       "      <th></th>\n",
       "      <th>IDfg</th>\n",
       "      <th>Season</th>\n",
       "      <th>Name</th>\n",
       "      <th>Team</th>\n",
       "      <th>Age</th>\n",
       "      <th>G</th>\n",
       "      <th>AB</th>\n",
       "      <th>PA</th>\n",
       "      <th>H</th>\n",
       "      <th>HR</th>\n",
       "      <th>SO</th>\n",
       "      <th>SB</th>\n",
       "      <th>OPS</th>\n",
       "      <th>ISO</th>\n",
       "      <th>wOBA</th>\n",
       "      <th>WAR</th>\n",
       "      <th>Spd</th>\n",
       "      <th>wRC+</th>\n",
       "      <th>Def</th>\n",
       "      <th>Fld</th>\n",
       "    </tr>\n",
       "  </thead>\n",
       "  <tbody>\n",
       "    <tr>\n",
       "      <th>0</th>\n",
       "      <td>1001649</td>\n",
       "      <td>1980</td>\n",
       "      <td>Al Bumbry</td>\n",
       "      <td>BAL</td>\n",
       "      <td>33</td>\n",
       "      <td>160</td>\n",
       "      <td>645</td>\n",
       "      <td>738</td>\n",
       "      <td>205</td>\n",
       "      <td>9</td>\n",
       "      <td>75</td>\n",
       "      <td>44</td>\n",
       "      <td>0.825</td>\n",
       "      <td>0.115</td>\n",
       "      <td>0.371</td>\n",
       "      <td>6.1</td>\n",
       "      <td>7.3</td>\n",
       "      <td>131</td>\n",
       "      <td>2.0</td>\n",
       "      <td>2.0</td>\n",
       "    </tr>\n",
       "    <tr>\n",
       "      <th>1</th>\n",
       "      <td>1002689</td>\n",
       "      <td>1980</td>\n",
       "      <td>Al Cowens</td>\n",
       "      <td>- - -</td>\n",
       "      <td>28</td>\n",
       "      <td>142</td>\n",
       "      <td>522</td>\n",
       "      <td>584</td>\n",
       "      <td>140</td>\n",
       "      <td>6</td>\n",
       "      <td>61</td>\n",
       "      <td>6</td>\n",
       "      <td>0.684</td>\n",
       "      <td>0.084</td>\n",
       "      <td>0.310</td>\n",
       "      <td>0.2</td>\n",
       "      <td>3.7</td>\n",
       "      <td>87</td>\n",
       "      <td>-7.1</td>\n",
       "      <td>-1.0</td>\n",
       "    </tr>\n",
       "    <tr>\n",
       "      <th>2</th>\n",
       "      <td>1009773</td>\n",
       "      <td>1980</td>\n",
       "      <td>Al Oliver</td>\n",
       "      <td>TEX</td>\n",
       "      <td>33</td>\n",
       "      <td>163</td>\n",
       "      <td>656</td>\n",
       "      <td>709</td>\n",
       "      <td>209</td>\n",
       "      <td>19</td>\n",
       "      <td>47</td>\n",
       "      <td>5</td>\n",
       "      <td>0.838</td>\n",
       "      <td>0.162</td>\n",
       "      <td>0.368</td>\n",
       "      <td>3.4</td>\n",
       "      <td>3.2</td>\n",
       "      <td>130</td>\n",
       "      <td>-14.3</td>\n",
       "      <td>-7.0</td>\n",
       "    </tr>\n",
       "    <tr>\n",
       "      <th>3</th>\n",
       "      <td>1014234</td>\n",
       "      <td>1980</td>\n",
       "      <td>Al Woods</td>\n",
       "      <td>TOR</td>\n",
       "      <td>26</td>\n",
       "      <td>109</td>\n",
       "      <td>373</td>\n",
       "      <td>417</td>\n",
       "      <td>112</td>\n",
       "      <td>15</td>\n",
       "      <td>35</td>\n",
       "      <td>4</td>\n",
       "      <td>0.844</td>\n",
       "      <td>0.180</td>\n",
       "      <td>0.375</td>\n",
       "      <td>2.4</td>\n",
       "      <td>3.5</td>\n",
       "      <td>127</td>\n",
       "      <td>-3.3</td>\n",
       "      <td>2.0</td>\n",
       "    </tr>\n",
       "    <tr>\n",
       "      <th>4</th>\n",
       "      <td>1000336</td>\n",
       "      <td>1980</td>\n",
       "      <td>Alan Ashby</td>\n",
       "      <td>HOU</td>\n",
       "      <td>28</td>\n",
       "      <td>116</td>\n",
       "      <td>352</td>\n",
       "      <td>394</td>\n",
       "      <td>90</td>\n",
       "      <td>3</td>\n",
       "      <td>40</td>\n",
       "      <td>0</td>\n",
       "      <td>0.665</td>\n",
       "      <td>0.091</td>\n",
       "      <td>0.291</td>\n",
       "      <td>0.8</td>\n",
       "      <td>1.9</td>\n",
       "      <td>86</td>\n",
       "      <td>1.3</td>\n",
       "      <td>-5.0</td>\n",
       "    </tr>\n",
       "  </tbody>\n",
       "</table>\n",
       "</div>"
      ],
      "text/plain": [
       "      IDfg  Season        Name   Team  Age    G   AB   PA    H  HR  SO  SB  \\\n",
       "0  1001649    1980   Al Bumbry    BAL   33  160  645  738  205   9  75  44   \n",
       "1  1002689    1980   Al Cowens  - - -   28  142  522  584  140   6  61   6   \n",
       "2  1009773    1980   Al Oliver    TEX   33  163  656  709  209  19  47   5   \n",
       "3  1014234    1980    Al Woods    TOR   26  109  373  417  112  15  35   4   \n",
       "4  1000336    1980  Alan Ashby    HOU   28  116  352  394   90   3  40   0   \n",
       "\n",
       "     OPS    ISO   wOBA  WAR  Spd  wRC+   Def  Fld  \n",
       "0  0.825  0.115  0.371  6.1  7.3   131   2.0  2.0  \n",
       "1  0.684  0.084  0.310  0.2  3.7    87  -7.1 -1.0  \n",
       "2  0.838  0.162  0.368  3.4  3.2   130 -14.3 -7.0  \n",
       "3  0.844  0.180  0.375  2.4  3.5   127  -3.3  2.0  \n",
       "4  0.665  0.091  0.291  0.8  1.9    86   1.3 -5.0  "
      ]
     },
     "execution_count": 8,
     "metadata": {},
     "output_type": "execute_result"
    }
   ],
   "source": [
    "train_data.head()"
   ]
  },
  {
   "cell_type": "code",
   "execution_count": 9,
   "metadata": {},
   "outputs": [
    {
     "data": {
      "text/plain": [
       "Age\n",
       "20     16862\n",
       "21     54542\n",
       "22    147916\n",
       "23    266669\n",
       "24    430414\n",
       "25    547397\n",
       "26    620327\n",
       "27    635644\n",
       "28    600943\n",
       "29    565203\n",
       "30    512634\n",
       "31    468607\n",
       "32    391964\n",
       "33    330481\n",
       "34    263931\n",
       "35    199821\n",
       "36    146885\n",
       "37    101322\n",
       "38     63694\n",
       "39     40903\n",
       "40     24944\n",
       "Name: PA, dtype: int64"
      ]
     },
     "execution_count": 9,
     "metadata": {},
     "output_type": "execute_result"
    }
   ],
   "source": [
    "train_data.groupby('Age')['PA'].sum()"
   ]
  },
  {
   "cell_type": "markdown",
   "metadata": {},
   "source": [
    "### Functions"
   ]
  },
  {
   "cell_type": "code",
   "execution_count": 10,
   "metadata": {},
   "outputs": [],
   "source": [
    "def centralize_data(data, col):\n",
    "    wm = lambda x: np.average(x, weights = train_data.loc[x.index, 'PA'])\n",
    "    cols = ['IDfg', 'Season', 'Name', 'Age', 'PA'] + [col]\n",
    "    df = data.loc[:, cols]\n",
    "\n",
    "    mean_results = df.groupby(['Season']).agg(weighted_mean = (col, wm))\n",
    "    mean_results = mean_results.reset_index()\n",
    "    df = df.merge(mean_results, on = 'Season')\n",
    "    df[col + '_centralized'] = np.subtract(df[col], df['weighted_mean'])\n",
    "\n",
    "    return df"
   ]
  },
  {
   "cell_type": "code",
   "execution_count": 11,
   "metadata": {},
   "outputs": [],
   "source": [
    "def delta_method(data, col):\n",
    "    cols = ['IDfg', 'Season', 'Name', 'Age', 'PA'] + [col]\n",
    "    df = data.loc[:, cols]\n",
    "\n",
    "    df_player_grouped = df.groupby(['IDfg'])\n",
    "    df['PA_shifted'] = df_player_grouped['PA'].shift(1)\n",
    "    df['target_diff'] = df_player_grouped[col].diff()\n",
    "    df['PA_hmean'] = hmean(df[['PA', 'PA_shifted']], axis = 1)\n",
    "    \n",
    "    df_age_grouped = df.dropna().groupby(['Age'])\n",
    "    # total_pa = df_age_grouped['PA'].sum()\n",
    "    # total_pa = total_pa.reset_index(drop = True)\n",
    "    wm = lambda x: np.average(x, weights = df.loc[x.index, 'PA_hmean'])\n",
    "    result = df_age_grouped['target_diff'].agg(wm)\n",
    "    result = result.reset_index()\n",
    "    result['delta_method'] = np.cumsum(result['target_diff'])\n",
    "    # result['delta_method'] = np.cumsum(result['target_diff']) - np.average(np.cumsum(result['target_diff']), weights = total_pa.values)\n",
    "\n",
    "    return result[['Age', 'delta_method']]"
   ]
  },
  {
   "cell_type": "code",
   "execution_count": 12,
   "metadata": {},
   "outputs": [],
   "source": [
    "def evaluate(data, col, pred_df):\n",
    "    data = data.loc[data['Age'] != 20, ]\n",
    "    df_merged = data.merge(pred_df, on = 'Age', how = 'left')\n",
    "    mae_result = mean_absolute_error(df_merged[col].values, df_merged['delta_method'].values, sample_weight = data['PA'].values)\n",
    "\n",
    "    return mae_result"
   ]
  },
  {
   "cell_type": "code",
   "execution_count": 13,
   "metadata": {},
   "outputs": [],
   "source": [
    "def generate_test_data(train_data, test_data, col):\n",
    "    test_cols = ['IDfg', 'Season', \"Name\", 'Age', 'PA', col]\n",
    "\n",
    "    test_df = test_data.loc[:, test_cols]\n",
    "    train_player = train_data['IDfg']\n",
    "    test_player = test_df['IDfg']\n",
    "    intersection = list(set(train_player) & set(test_player))\n",
    "    selected_players = test_player.isin(intersection)\n",
    "    test_df = test_df.loc[selected_players, :]\n",
    "    \n",
    "    return test_df"
   ]
  },
  {
   "cell_type": "markdown",
   "metadata": {},
   "source": [
    "### OPS Aging Curve"
   ]
  },
  {
   "cell_type": "code",
   "execution_count": 14,
   "metadata": {},
   "outputs": [
    {
     "data": {
      "text/html": [
       "<div>\n",
       "<style scoped>\n",
       "    .dataframe tbody tr th:only-of-type {\n",
       "        vertical-align: middle;\n",
       "    }\n",
       "\n",
       "    .dataframe tbody tr th {\n",
       "        vertical-align: top;\n",
       "    }\n",
       "\n",
       "    .dataframe thead th {\n",
       "        text-align: right;\n",
       "    }\n",
       "</style>\n",
       "<table border=\"1\" class=\"dataframe\">\n",
       "  <thead>\n",
       "    <tr style=\"text-align: right;\">\n",
       "      <th></th>\n",
       "      <th>IDfg</th>\n",
       "      <th>Season</th>\n",
       "      <th>Name</th>\n",
       "      <th>Age</th>\n",
       "      <th>PA</th>\n",
       "      <th>OPS</th>\n",
       "      <th>weighted_mean</th>\n",
       "      <th>OPS_centralized</th>\n",
       "    </tr>\n",
       "  </thead>\n",
       "  <tbody>\n",
       "    <tr>\n",
       "      <th>0</th>\n",
       "      <td>1001649</td>\n",
       "      <td>1980</td>\n",
       "      <td>Al Bumbry</td>\n",
       "      <td>33</td>\n",
       "      <td>738</td>\n",
       "      <td>0.825</td>\n",
       "      <td>0.729687</td>\n",
       "      <td>0.095313</td>\n",
       "    </tr>\n",
       "    <tr>\n",
       "      <th>1</th>\n",
       "      <td>1002689</td>\n",
       "      <td>1980</td>\n",
       "      <td>Al Cowens</td>\n",
       "      <td>28</td>\n",
       "      <td>584</td>\n",
       "      <td>0.684</td>\n",
       "      <td>0.729687</td>\n",
       "      <td>-0.045687</td>\n",
       "    </tr>\n",
       "    <tr>\n",
       "      <th>2</th>\n",
       "      <td>1009773</td>\n",
       "      <td>1980</td>\n",
       "      <td>Al Oliver</td>\n",
       "      <td>33</td>\n",
       "      <td>709</td>\n",
       "      <td>0.838</td>\n",
       "      <td>0.729687</td>\n",
       "      <td>0.108313</td>\n",
       "    </tr>\n",
       "    <tr>\n",
       "      <th>3</th>\n",
       "      <td>1014234</td>\n",
       "      <td>1980</td>\n",
       "      <td>Al Woods</td>\n",
       "      <td>26</td>\n",
       "      <td>417</td>\n",
       "      <td>0.844</td>\n",
       "      <td>0.729687</td>\n",
       "      <td>0.114313</td>\n",
       "    </tr>\n",
       "    <tr>\n",
       "      <th>4</th>\n",
       "      <td>1000336</td>\n",
       "      <td>1980</td>\n",
       "      <td>Alan Ashby</td>\n",
       "      <td>28</td>\n",
       "      <td>394</td>\n",
       "      <td>0.665</td>\n",
       "      <td>0.729687</td>\n",
       "      <td>-0.064687</td>\n",
       "    </tr>\n",
       "  </tbody>\n",
       "</table>\n",
       "</div>"
      ],
      "text/plain": [
       "      IDfg  Season        Name  Age   PA    OPS  weighted_mean  \\\n",
       "0  1001649    1980   Al Bumbry   33  738  0.825       0.729687   \n",
       "1  1002689    1980   Al Cowens   28  584  0.684       0.729687   \n",
       "2  1009773    1980   Al Oliver   33  709  0.838       0.729687   \n",
       "3  1014234    1980    Al Woods   26  417  0.844       0.729687   \n",
       "4  1000336    1980  Alan Ashby   28  394  0.665       0.729687   \n",
       "\n",
       "   OPS_centralized  \n",
       "0         0.095313  \n",
       "1        -0.045687  \n",
       "2         0.108313  \n",
       "3         0.114313  \n",
       "4        -0.064687  "
      ]
     },
     "execution_count": 14,
     "metadata": {},
     "output_type": "execute_result"
    }
   ],
   "source": [
    "ops_data = centralize_data(train_data, 'OPS')\n",
    "ops_data.head()"
   ]
  },
  {
   "cell_type": "code",
   "execution_count": 15,
   "metadata": {},
   "outputs": [
    {
     "name": "stdout",
     "output_type": "stream",
     "text": [
      "    Age  delta_method\n",
      "0    21     -0.003441\n",
      "1    22      0.016195\n",
      "2    23      0.030131\n",
      "3    24      0.035392\n",
      "4    25      0.044110\n",
      "5    26      0.049277\n",
      "6    27      0.042419\n",
      "7    28      0.035527\n",
      "8    29      0.031375\n",
      "9    30      0.017756\n",
      "10   31      0.003579\n",
      "11   32     -0.016216\n",
      "12   33     -0.030597\n",
      "13   34     -0.047620\n",
      "14   35     -0.063081\n",
      "15   36     -0.090704\n",
      "16   37     -0.114602\n",
      "17   38     -0.154969\n",
      "18   39     -0.175263\n",
      "19   40     -0.211701\n"
     ]
    }
   ],
   "source": [
    "ops_result = delta_method(ops_data, 'OPS_centralized')\n",
    "print(ops_result)"
   ]
  },
  {
   "cell_type": "code",
   "execution_count": 16,
   "metadata": {},
   "outputs": [
    {
     "data": {
      "image/png": "[encoded data removed]",
      "text/plain": [
       "<Figure size 640x480 with 1 Axes>"
      ]
     },
     "metadata": {},
     "output_type": "display_data"
    }
   ],
   "source": [
    "z = np.polyfit(ops_result['Age'].values, ops_result['delta_method'].values, 4)\n",
    "p = np.poly1d(z)\n",
    "\n",
    "plt.plot(ops_result['Age'].values, p(ops_result['Age'].values))\n",
    "plt.xticks(np.arange(20, 45, 5))\n",
    "plt.grid(True)\n",
    "plt.show()"
   ]
  },
  {
   "cell_type": "code",
   "execution_count": 17,
   "metadata": {},
   "outputs": [
    {
     "data": {
      "text/plain": [
       "(1840, 8)"
      ]
     },
     "execution_count": 17,
     "metadata": {},
     "output_type": "execute_result"
    }
   ],
   "source": [
    "test_ops_data = centralize_data(test_data, 'OPS')\n",
    "test_ops_data.shape"
   ]
  },
  {
   "cell_type": "code",
   "execution_count": 18,
   "metadata": {},
   "outputs": [
    {
     "data": {
      "text/html": [
       "<div>\n",
       "<style scoped>\n",
       "    .dataframe tbody tr th:only-of-type {\n",
       "        vertical-align: middle;\n",
       "    }\n",
       "\n",
       "    .dataframe tbody tr th {\n",
       "        vertical-align: top;\n",
       "    }\n",
       "\n",
       "    .dataframe thead th {\n",
       "        text-align: right;\n",
       "    }\n",
       "</style>\n",
       "<table border=\"1\" class=\"dataframe\">\n",
       "  <thead>\n",
       "    <tr style=\"text-align: right;\">\n",
       "      <th></th>\n",
       "      <th>IDfg</th>\n",
       "      <th>Season</th>\n",
       "      <th>Name</th>\n",
       "      <th>Age</th>\n",
       "      <th>PA</th>\n",
       "      <th>OPS</th>\n",
       "      <th>weighted_mean</th>\n",
       "      <th>OPS_centralized</th>\n",
       "    </tr>\n",
       "  </thead>\n",
       "  <tbody>\n",
       "    <tr>\n",
       "      <th>0</th>\n",
       "      <td>9256</td>\n",
       "      <td>2021</td>\n",
       "      <td>A.J. Pollock</td>\n",
       "      <td>33</td>\n",
       "      <td>422</td>\n",
       "      <td>0.892</td>\n",
       "      <td>0.719293</td>\n",
       "      <td>0.172707</td>\n",
       "    </tr>\n",
       "    <tr>\n",
       "      <th>1</th>\n",
       "      <td>5297</td>\n",
       "      <td>2021</td>\n",
       "      <td>Aaron Hicks</td>\n",
       "      <td>31</td>\n",
       "      <td>126</td>\n",
       "      <td>0.627</td>\n",
       "      <td>0.719293</td>\n",
       "      <td>-0.092293</td>\n",
       "    </tr>\n",
       "    <tr>\n",
       "      <th>2</th>\n",
       "      <td>15640</td>\n",
       "      <td>2021</td>\n",
       "      <td>Aaron Judge</td>\n",
       "      <td>29</td>\n",
       "      <td>633</td>\n",
       "      <td>0.916</td>\n",
       "      <td>0.719293</td>\n",
       "      <td>0.196707</td>\n",
       "    </tr>\n",
       "    <tr>\n",
       "      <th>3</th>\n",
       "      <td>5486</td>\n",
       "      <td>2021</td>\n",
       "      <td>Abraham Almonte</td>\n",
       "      <td>32</td>\n",
       "      <td>175</td>\n",
       "      <td>0.730</td>\n",
       "      <td>0.719293</td>\n",
       "      <td>0.010707</td>\n",
       "    </tr>\n",
       "    <tr>\n",
       "      <th>4</th>\n",
       "      <td>19844</td>\n",
       "      <td>2021</td>\n",
       "      <td>Abraham Toro</td>\n",
       "      <td>24</td>\n",
       "      <td>375</td>\n",
       "      <td>0.688</td>\n",
       "      <td>0.719293</td>\n",
       "      <td>-0.031293</td>\n",
       "    </tr>\n",
       "  </tbody>\n",
       "</table>\n",
       "</div>"
      ],
      "text/plain": [
       "    IDfg  Season             Name  Age   PA    OPS  weighted_mean  \\\n",
       "0   9256    2021     A.J. Pollock   33  422  0.892       0.719293   \n",
       "1   5297    2021      Aaron Hicks   31  126  0.627       0.719293   \n",
       "2  15640    2021      Aaron Judge   29  633  0.916       0.719293   \n",
       "3   5486    2021  Abraham Almonte   32  175  0.730       0.719293   \n",
       "4  19844    2021     Abraham Toro   24  375  0.688       0.719293   \n",
       "\n",
       "   OPS_centralized  \n",
       "0         0.172707  \n",
       "1        -0.092293  \n",
       "2         0.196707  \n",
       "3         0.010707  \n",
       "4        -0.031293  "
      ]
     },
     "execution_count": 18,
     "metadata": {},
     "output_type": "execute_result"
    }
   ],
   "source": [
    "test_ops_data.head()"
   ]
  },
  {
   "cell_type": "code",
   "execution_count": 19,
   "metadata": {},
   "outputs": [
    {
     "data": {
      "text/plain": [
       "(1038, 6)"
      ]
     },
     "execution_count": 19,
     "metadata": {},
     "output_type": "execute_result"
    }
   ],
   "source": [
    "all_test_data = generate_test_data(ops_data, test_ops_data, 'OPS_centralized')\n",
    "all_test_data.shape"
   ]
  },
  {
   "cell_type": "code",
   "execution_count": 20,
   "metadata": {},
   "outputs": [
    {
     "data": {
      "text/html": [
       "<div>\n",
       "<style scoped>\n",
       "    .dataframe tbody tr th:only-of-type {\n",
       "        vertical-align: middle;\n",
       "    }\n",
       "\n",
       "    .dataframe tbody tr th {\n",
       "        vertical-align: top;\n",
       "    }\n",
       "\n",
       "    .dataframe thead th {\n",
       "        text-align: right;\n",
       "    }\n",
       "</style>\n",
       "<table border=\"1\" class=\"dataframe\">\n",
       "  <thead>\n",
       "    <tr style=\"text-align: right;\">\n",
       "      <th></th>\n",
       "      <th>IDfg</th>\n",
       "      <th>Season</th>\n",
       "      <th>Name</th>\n",
       "      <th>Age</th>\n",
       "      <th>PA</th>\n",
       "      <th>OPS_centralized</th>\n",
       "    </tr>\n",
       "  </thead>\n",
       "  <tbody>\n",
       "    <tr>\n",
       "      <th>0</th>\n",
       "      <td>9256</td>\n",
       "      <td>2021</td>\n",
       "      <td>A.J. Pollock</td>\n",
       "      <td>33</td>\n",
       "      <td>422</td>\n",
       "      <td>0.172707</td>\n",
       "    </tr>\n",
       "    <tr>\n",
       "      <th>1</th>\n",
       "      <td>5297</td>\n",
       "      <td>2021</td>\n",
       "      <td>Aaron Hicks</td>\n",
       "      <td>31</td>\n",
       "      <td>126</td>\n",
       "      <td>-0.092293</td>\n",
       "    </tr>\n",
       "    <tr>\n",
       "      <th>2</th>\n",
       "      <td>15640</td>\n",
       "      <td>2021</td>\n",
       "      <td>Aaron Judge</td>\n",
       "      <td>29</td>\n",
       "      <td>633</td>\n",
       "      <td>0.196707</td>\n",
       "    </tr>\n",
       "    <tr>\n",
       "      <th>3</th>\n",
       "      <td>5486</td>\n",
       "      <td>2021</td>\n",
       "      <td>Abraham Almonte</td>\n",
       "      <td>32</td>\n",
       "      <td>175</td>\n",
       "      <td>0.010707</td>\n",
       "    </tr>\n",
       "    <tr>\n",
       "      <th>5</th>\n",
       "      <td>13769</td>\n",
       "      <td>2021</td>\n",
       "      <td>Adalberto Mondesi</td>\n",
       "      <td>25</td>\n",
       "      <td>136</td>\n",
       "      <td>0.003707</td>\n",
       "    </tr>\n",
       "  </tbody>\n",
       "</table>\n",
       "</div>"
      ],
      "text/plain": [
       "    IDfg  Season               Name  Age   PA  OPS_centralized\n",
       "0   9256    2021       A.J. Pollock   33  422         0.172707\n",
       "1   5297    2021        Aaron Hicks   31  126        -0.092293\n",
       "2  15640    2021        Aaron Judge   29  633         0.196707\n",
       "3   5486    2021    Abraham Almonte   32  175         0.010707\n",
       "5  13769    2021  Adalberto Mondesi   25  136         0.003707"
      ]
     },
     "execution_count": 20,
     "metadata": {},
     "output_type": "execute_result"
    }
   ],
   "source": [
    "all_test_data.head()"
   ]
  },
  {
   "cell_type": "code",
   "execution_count": 21,
   "metadata": {},
   "outputs": [
    {
     "data": {
      "text/plain": [
       "0.08761338632599794"
      ]
     },
     "execution_count": 21,
     "metadata": {},
     "output_type": "execute_result"
    }
   ],
   "source": [
    "evaluate(all_test_data, 'OPS_centralized', ops_result)"
   ]
  },
  {
   "cell_type": "markdown",
   "metadata": {},
   "source": [
    "### wRC+ Aging Curve"
   ]
  },
  {
   "cell_type": "code",
   "execution_count": 22,
   "metadata": {},
   "outputs": [
    {
     "name": "stdout",
     "output_type": "stream",
     "text": [
      "    Age  delta_method\n",
      "0    21     -0.284422\n",
      "1    22      4.535336\n",
      "2    23      7.917432\n",
      "3    24      9.308688\n",
      "4    25     11.587049\n",
      "5    26     12.993737\n",
      "6    27     11.113884\n",
      "7    28      9.415610\n",
      "8    29      8.456633\n",
      "9    30      5.083300\n",
      "10   31      1.269204\n",
      "11   32     -3.698734\n",
      "12   33     -7.414621\n",
      "13   34    -11.525671\n",
      "14   35    -15.737671\n",
      "15   36    -22.926846\n",
      "16   37    -28.493855\n",
      "17   38    -39.229728\n",
      "18   39    -44.966884\n",
      "19   40    -54.614907\n"
     ]
    }
   ],
   "source": [
    "wrc_result = delta_method(train_data, 'wRC+')\n",
    "print(wrc_result)"
   ]
  },
  {
   "cell_type": "code",
   "execution_count": 23,
   "metadata": {},
   "outputs": [
    {
     "data": {
      "image/png": "[encoded data removed]",
      "text/plain": [
       "<Figure size 640x480 with 1 Axes>"
      ]
     },
     "metadata": {},
     "output_type": "display_data"
    }
   ],
   "source": [
    "z = np.polyfit(wrc_result['Age'].values, wrc_result['delta_method'].values, 4)\n",
    "p = np.poly1d(z)\n",
    "\n",
    "plt.plot(wrc_result['Age'].values, p(wrc_result['Age'].values))\n",
    "plt.xticks(np.arange(20, 45, 5))\n",
    "plt.grid(True)\n",
    "plt.show()"
   ]
  },
  {
   "cell_type": "code",
   "execution_count": 24,
   "metadata": {},
   "outputs": [
    {
     "data": {
      "text/plain": [
       "(1038, 6)"
      ]
     },
     "execution_count": 24,
     "metadata": {},
     "output_type": "execute_result"
    }
   ],
   "source": [
    "all_test_data = generate_test_data(train_data, test_data, 'wRC+')\n",
    "all_test_data.shape"
   ]
  },
  {
   "cell_type": "code",
   "execution_count": 25,
   "metadata": {},
   "outputs": [
    {
     "data": {
      "text/plain": [
       "22.47348576717387"
      ]
     },
     "execution_count": 25,
     "metadata": {},
     "output_type": "execute_result"
    }
   ],
   "source": [
    "wrc_result['delta_method'] = np.add(wrc_result['delta_method'].values, 100)\n",
    "evaluate(all_test_data, 'wRC+', wrc_result)"
   ]
  },
  {
   "cell_type": "markdown",
   "metadata": {},
   "source": [
    "According to the aging curves of OPS and wRC+, hitters tend to peak around age 26 and experience a rapid decline after turning 35."
   ]
  },
  {
   "cell_type": "markdown",
   "metadata": {},
   "source": []
  }
 ],
 "metadata": {
  "kernelspec": {
   "display_name": "plant_venv",
   "language": "python",
   "name": "python3"
  },
  "language_info": {
   "codemirror_mode": {
    "name": "ipython",
    "version": 3
   },
   "file_extension": ".py",
   "mimetype": "text/x-python",
   "name": "python",
   "nbconvert_exporter": "python",
   "pygments_lexer": "ipython3",
   "version": "3.11.0"
  }
 },
 "nbformat": 4,
 "nbformat_minor": 2
}
